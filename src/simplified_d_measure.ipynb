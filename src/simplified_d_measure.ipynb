{
 "cells": [
  {
   "cell_type": "code",
   "execution_count": 18,
   "metadata": {},
   "outputs": [],
   "source": [
    "import networkx as nx\n",
    "from similarity_measures import simplified_dmeasure as dm\n",
    "import matplotlib.pyplot as plt\n",
    "import pandas as pd\n",
    "import numpy as np\n",
    "import nibabel as nib\n",
    "import os\n",
    "from matplotlib.colors import LinearSegmentedColormap"
   ]
  },
  {
   "cell_type": "code",
   "execution_count": 16,
   "metadata": {},
   "outputs": [],
   "source": [
    "base_path = '/Users/ahmet/Desktop/Study/second_semester/ds_project/BSNIP/pconn'"
   ]
  },
  {
   "cell_type": "code",
   "execution_count": 14,
   "metadata": {},
   "outputs": [],
   "source": [
    "pconn_paths = os.listdir('/Users/ahmet/Desktop/Study/second_semester/ds_project/BSNIP/pconn')"
   ]
  },
  {
   "cell_type": "code",
   "execution_count": 15,
   "metadata": {},
   "outputs": [],
   "source": [
    "session_ids = [path.split('.')[0] for path in pconn_paths]"
   ]
  },
  {
   "cell_type": "code",
   "execution_count": 11,
   "metadata": {},
   "outputs": [],
   "source": [
    "def dists(Gs, measure):\n",
    "    \n",
    "    Ds = [[0] * len(Gs) for _ in range(len(Gs))]\n",
    "\n",
    "    for i in range(len(Gs)):\n",
    "        for j in range(i, len(Gs)):\n",
    "            Ds[i][j] = measure(Gs[i], Gs[j])\n",
    "            Ds[j][i] = Ds[i][j]\n",
    "\n",
    "    return Ds\n",
    "\n",
    "\n",
    "def build_network(data, df, visualize = True):\n",
    "    # Create a graph from the data\n",
    "    # This example assumes 'data' is a square matrix where data[i][j] represents the connection\n",
    "    # strength between region i and region j. Your data's structure may vary.\n",
    "    G = nx.Graph()\n",
    "    \n",
    "    # Add nodes with the brain region names or indices if you don't have names\n",
    "    num_regions = data.shape[0]\n",
    "    G.add_nodes_from(range(num_regions))\n",
    "    \n",
    "    # Add edges based on connectivity data\n",
    "    # Here we're simply adding an edge for every non-zero connection\n",
    "    for i in range(num_regions):\n",
    "        # Calculate the standard deviation of the specified row\n",
    "        std_dev = df.iloc[i].std()\n",
    "        threshold = 2*std_dev\n",
    "        for j in range(i+1, num_regions):  # Ensure i < j to avoid duplicating edges\n",
    "            if abs(data[i, j]) > threshold:  # Assuming 0 means no connection\n",
    "                G.add_edge(i, j, weight=data[i, j])\n",
    "    \n",
    "    if visualize:\n",
    "        # You can also visualize the graph using matplotlib or similar libraries\n",
    "        # This step requires matplotlib to be installed (`pip install matplotlib`)\n",
    "        nx.draw(G, with_labels=True)\n",
    "        plt.show()\n",
    "        \n",
    "    return G\n",
    "\n",
    "def read_pconn(path):\n",
    "    \n",
    "    # Load the .pconn.nii file\n",
    "    img = nib.load(path)\n",
    "    \n",
    "    # Extract the data array from the image\n",
    "    # The data might need to be processed or reshaped depending on its structure\n",
    "    data = img.get_fdata()\n",
    "\n",
    "    df = pd.DataFrame(data)\n",
    "    \n",
    "    return data, df\n",
    "\n",
    "def map(Gs, Ds, label):\n",
    "    fig = plt.figure()\n",
    "\n",
    "    plt.imshow(Ds, cmap=LinearSegmentedColormap.from_list(\n",
    "        '', ['yellow', 'gray', 'white']))\n",
    "\n",
    "    for i in range(len(Gs)):\n",
    "        for j in range(len(Gs)):\n",
    "            plt.text(j, i, \"{:.2f}\".format(\n",
    "                Ds[i][j]), ha='center', va='center', fontsize=4)\n",
    "\n",
    "    plt.title(label)\n",
    "    plt.xticks(ticks=[])\n",
    "    plt.yticks(ticks=range(len(Gs)), labels=[G.name for G in Gs], fontsize=7)\n",
    "\n",
    "    clb = plt.colorbar()\n",
    "    clb.ax.tick_params(labelsize=7)\n",
    "\n",
    "    fig.savefig(label + \".pdf\", bbox_inches='tight')\n",
    "    plt.close(fig)"
   ]
  },
  {
   "cell_type": "code",
   "execution_count": 17,
   "metadata": {},
   "outputs": [],
   "source": [
    "Gs = []\n",
    "for session_id, pconn_path in zip(session_ids, pconn_paths):\n",
    "    path = os.path.join(base_path, pconn_path)\n",
    "    data, df = read_pconn(path)\n",
    "    G = build_network(data, df, visualize = False)\n",
    "    Gs.append(G)"
   ]
  },
  {
   "cell_type": "code",
   "execution_count": 21,
   "metadata": {},
   "outputs": [
    {
     "ename": "KeyboardInterrupt",
     "evalue": "",
     "output_type": "error",
     "traceback": [
      "\u001b[0;31m---------------------------------------------------------------------------\u001b[0m",
      "\u001b[0;31mKeyboardInterrupt\u001b[0m                         Traceback (most recent call last)",
      "Cell \u001b[0;32mIn[21], line 1\u001b[0m\n\u001b[0;32m----> 1\u001b[0m Ds \u001b[39m=\u001b[39m dists(Gs, dm\u001b[39m.\u001b[39;49mdmeasure)\n",
      "Cell \u001b[0;32mIn[11], line 7\u001b[0m, in \u001b[0;36mdists\u001b[0;34m(Gs, measure)\u001b[0m\n\u001b[1;32m      5\u001b[0m \u001b[39mfor\u001b[39;00m i \u001b[39min\u001b[39;00m \u001b[39mrange\u001b[39m(\u001b[39mlen\u001b[39m(Gs)):\n\u001b[1;32m      6\u001b[0m     \u001b[39mfor\u001b[39;00m j \u001b[39min\u001b[39;00m \u001b[39mrange\u001b[39m(i, \u001b[39mlen\u001b[39m(Gs)):\n\u001b[0;32m----> 7\u001b[0m         Ds[i][j] \u001b[39m=\u001b[39m measure(Gs[i], Gs[j])\n\u001b[1;32m      8\u001b[0m         Ds[j][i] \u001b[39m=\u001b[39m Ds[i][j]\n\u001b[1;32m     10\u001b[0m \u001b[39mreturn\u001b[39;00m Ds\n",
      "File \u001b[0;32m~/Desktop/Study/second_semester/ds_project/similarity_measures/simplified_dmeasure.py:34\u001b[0m, in \u001b[0;36mdmeasure\u001b[0;34m(G1, G2)\u001b[0m\n\u001b[1;32m     33\u001b[0m \u001b[39mdef\u001b[39;00m \u001b[39mdmeasure\u001b[39m(G1, G2):\n\u001b[0;32m---> 34\u001b[0m   Ps1 \u001b[39m=\u001b[39m pdfs(G1)\n\u001b[1;32m     35\u001b[0m   Ps2 \u001b[39m=\u001b[39m pdfs(G2)\n\u001b[1;32m     36\u001b[0m   \u001b[39mreturn\u001b[39;00m simplified_dmeasure(Ps1, mu(Ps1), Ps2, mu(Ps2))\n",
      "File \u001b[0;32m~/Desktop/Study/second_semester/ds_project/similarity_measures/simplified_dmeasure.py:12\u001b[0m, in \u001b[0;36mpdfs\u001b[0;34m(G)\u001b[0m\n\u001b[1;32m     11\u001b[0m \u001b[39mdef\u001b[39;00m \u001b[39mpdfs\u001b[39m(G):\n\u001b[0;32m---> 12\u001b[0m   \u001b[39mreturn\u001b[39;00m [pdf(G, i) \u001b[39mfor\u001b[39;00m i \u001b[39min\u001b[39;00m G\u001b[39m.\u001b[39mnodes()]\n",
      "File \u001b[0;32m~/Desktop/Study/second_semester/ds_project/similarity_measures/simplified_dmeasure.py:12\u001b[0m, in \u001b[0;36m<listcomp>\u001b[0;34m(.0)\u001b[0m\n\u001b[1;32m     11\u001b[0m \u001b[39mdef\u001b[39;00m \u001b[39mpdfs\u001b[39m(G):\n\u001b[0;32m---> 12\u001b[0m   \u001b[39mreturn\u001b[39;00m [pdf(G, i) \u001b[39mfor\u001b[39;00m i \u001b[39min\u001b[39;00m G\u001b[39m.\u001b[39mnodes()]\n",
      "File \u001b[0;32m~/Desktop/Study/second_semester/ds_project/similarity_measures/simplified_dmeasure.py:7\u001b[0m, in \u001b[0;36mpdf\u001b[0;34m(G, i)\u001b[0m\n\u001b[1;32m      5\u001b[0m \u001b[39mdef\u001b[39;00m \u001b[39mpdf\u001b[39m(G, i):\n\u001b[1;32m      6\u001b[0m   P \u001b[39m=\u001b[39m [\u001b[39m0\u001b[39m] \u001b[39m*\u001b[39m \u001b[39mlen\u001b[39m(G)\n\u001b[0;32m----> 7\u001b[0m   \u001b[39mfor\u001b[39;00m j \u001b[39min\u001b[39;00m nx\u001b[39m.\u001b[39;49msingle_source_shortest_path_length(G, i)\u001b[39m.\u001b[39mvalues():\n\u001b[1;32m      8\u001b[0m     P[j] \u001b[39m+\u001b[39m\u001b[39m=\u001b[39m \u001b[39m1\u001b[39m \u001b[39m/\u001b[39m G\u001b[39m.\u001b[39mnumber_of_nodes()\n\u001b[1;32m      9\u001b[0m   \u001b[39mreturn\u001b[39;00m P\n",
      "File \u001b[0;32m/opt/homebrew/Caskroom/miniforge/base/lib/python3.10/site-packages/networkx/utils/backends.py:412\u001b[0m, in \u001b[0;36m_dispatch.__call__\u001b[0;34m(self, backend, *args, **kwargs)\u001b[0m\n\u001b[1;32m    409\u001b[0m \u001b[39mdef\u001b[39;00m \u001b[39m__call__\u001b[39m(\u001b[39mself\u001b[39m, \u001b[39m/\u001b[39m, \u001b[39m*\u001b[39margs, backend\u001b[39m=\u001b[39m\u001b[39mNone\u001b[39;00m, \u001b[39m*\u001b[39m\u001b[39m*\u001b[39mkwargs):\n\u001b[1;32m    410\u001b[0m     \u001b[39mif\u001b[39;00m \u001b[39mnot\u001b[39;00m backends:\n\u001b[1;32m    411\u001b[0m         \u001b[39m# Fast path if no backends are installed\u001b[39;00m\n\u001b[0;32m--> 412\u001b[0m         \u001b[39mreturn\u001b[39;00m \u001b[39mself\u001b[39;49m\u001b[39m.\u001b[39;49morig_func(\u001b[39m*\u001b[39;49margs, \u001b[39m*\u001b[39;49m\u001b[39m*\u001b[39;49mkwargs)\n\u001b[1;32m    414\u001b[0m     \u001b[39m# Use `backend_name` in this function instead of `backend`\u001b[39;00m\n\u001b[1;32m    415\u001b[0m     backend_name \u001b[39m=\u001b[39m backend\n",
      "File \u001b[0;32m/opt/homebrew/Caskroom/miniforge/base/lib/python3.10/site-packages/networkx/algorithms/shortest_paths/unweighted.py:62\u001b[0m, in \u001b[0;36msingle_source_shortest_path_length\u001b[0;34m(G, source, cutoff)\u001b[0m\n\u001b[1;32m     60\u001b[0m     cutoff \u001b[39m=\u001b[39m \u001b[39mfloat\u001b[39m(\u001b[39m\"\u001b[39m\u001b[39minf\u001b[39m\u001b[39m\"\u001b[39m)\n\u001b[1;32m     61\u001b[0m nextlevel \u001b[39m=\u001b[39m [source]\n\u001b[0;32m---> 62\u001b[0m \u001b[39mreturn\u001b[39;00m \u001b[39mdict\u001b[39;49m(_single_shortest_path_length(G\u001b[39m.\u001b[39;49m_adj, nextlevel, cutoff))\n",
      "File \u001b[0;32m/opt/homebrew/Caskroom/miniforge/base/lib/python3.10/site-packages/networkx/algorithms/shortest_paths/unweighted.py:90\u001b[0m, in \u001b[0;36m_single_shortest_path_length\u001b[0;34m(adj, firstlevel, cutoff)\u001b[0m\n\u001b[1;32m     88\u001b[0m \u001b[39mfor\u001b[39;00m v \u001b[39min\u001b[39;00m thislevel:\n\u001b[1;32m     89\u001b[0m     \u001b[39mfor\u001b[39;00m w \u001b[39min\u001b[39;00m adj[v]:\n\u001b[0;32m---> 90\u001b[0m         \u001b[39mif\u001b[39;00m w \u001b[39mnot\u001b[39;00m \u001b[39min\u001b[39;00m seen:\n\u001b[1;32m     91\u001b[0m             seen\u001b[39m.\u001b[39madd(w)\n\u001b[1;32m     92\u001b[0m             nextlevel\u001b[39m.\u001b[39mappend(w)\n",
      "\u001b[0;31mKeyboardInterrupt\u001b[0m: "
     ]
    }
   ],
   "source": [
    "Ds = dists(Gs, dm.dmeasure)"
   ]
  }
 ],
 "metadata": {
  "kernelspec": {
   "display_name": "base",
   "language": "python",
   "name": "python3"
  },
  "language_info": {
   "codemirror_mode": {
    "name": "ipython",
    "version": 3
   },
   "file_extension": ".py",
   "mimetype": "text/x-python",
   "name": "python",
   "nbconvert_exporter": "python",
   "pygments_lexer": "ipython3",
   "version": "3.10.8 | packaged by conda-forge | (main, Nov 22 2022, 08:25:29) [Clang 14.0.6 ]"
  },
  "orig_nbformat": 4,
  "vscode": {
   "interpreter": {
    "hash": "c6e4e9f98eb68ad3b7c296f83d20e6de614cb42e90992a65aa266555a3137d0d"
   }
  }
 },
 "nbformat": 4,
 "nbformat_minor": 2
}

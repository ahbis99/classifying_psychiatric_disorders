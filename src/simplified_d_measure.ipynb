{
 "cells": [
  {
   "cell_type": "code",
   "execution_count": 18,
   "metadata": {},
   "outputs": [],
   "source": [
    "import networkx as nx\n",
    "from similarity_measures import simplified_dmeasure as dm\n",
    "import matplotlib.pyplot as plt\n",
    "import pandas as pd\n",
    "import numpy as np\n",
    "import nibabel as nib\n",
    "import os\n",
    "from matplotlib.colors import LinearSegmentedColormap"
   ]
  },
  {
   "cell_type": "code",
   "execution_count": 16,
   "metadata": {},
   "outputs": [],
   "source": [
    "base_path = '/Users/ahmet/Desktop/Study/second_semester/ds_project/BSNIP/pconn'"
   ]
  },
  {
   "cell_type": "code",
   "execution_count": 14,
   "metadata": {},
   "outputs": [],
   "source": [
    "pconn_paths = os.listdir('/Users/ahmet/Desktop/Study/second_semester/ds_project/BSNIP/pconn')"
   ]
  },
  {
   "cell_type": "code",
   "execution_count": 15,
   "metadata": {},
   "outputs": [],
   "source": [
    "session_ids = [path.split('.')[0] for path in pconn_paths]"
   ]
  },
  {
   "cell_type": "code",
   "execution_count": 11,
   "metadata": {},
   "outputs": [],
   "source": [
    "def dists(Gs, measure):\n",
    "    \n",
    "    Ds = [[0] * len(Gs) for _ in range(len(Gs))]\n",
    "\n",
    "    for i in range(len(Gs)):\n",
    "        for j in range(i, len(Gs)):\n",
    "            Ds[i][j] = measure(Gs[i], Gs[j])\n",
    "            Ds[j][i] = Ds[i][j]\n",
    "\n",
    "    return Ds\n",
    "\n",
    "\n",
    "def build_network(data, df, visualize = True):\n",
    "    # Create a graph from the data\n",
    "    # This example assumes 'data' is a square matrix where data[i][j] represents the connection\n",
    "    # strength between region i and region j. Your data's structure may vary.\n",
    "    G = nx.Graph()\n",
    "    \n",
    "    # Add nodes with the brain region names or indices if you don't have names\n",
    "    num_regions = data.shape[0]\n",
    "    G.add_nodes_from(range(num_regions))\n",
    "    \n",
    "    # Add edges based on connectivity data\n",
    "    # Here we're simply adding an edge for every non-zero connection\n",
    "    for i in range(num_regions):\n",
    "        # Calculate the standard deviation of the specified row\n",
    "        std_dev = df.iloc[i].std()\n",
    "        threshold = 2*std_dev\n",
    "        for j in range(i+1, num_regions):  # Ensure i < j to avoid duplicating edges\n",
    "            if abs(data[i, j]) > threshold:  # Assuming 0 means no connection\n",
    "                G.add_edge(i, j, weight=data[i, j])\n",
    "    \n",
    "    if visualize:\n",
    "        # You can also visualize the graph using matplotlib or similar libraries\n",
    "        # This step requires matplotlib to be installed (`pip install matplotlib`)\n",
    "        nx.draw(G, with_labels=True)\n",
    "        plt.show()\n",
    "        \n",
    "    return G\n",
    "\n",
    "def read_pconn(path):\n",
    "    \n",
    "    # Load the .pconn.nii file\n",
    "    img = nib.load(path)\n",
    "    \n",
    "    # Extract the data array from the image\n",
    "    # The data might need to be processed or reshaped depending on its structure\n",
    "    data = img.get_fdata()\n",
    "\n",
    "    df = pd.DataFrame(data)\n",
    "    \n",
    "    return data, df\n",
    "\n",
    "def map(Gs, Ds, label):\n",
    "    fig = plt.figure()\n",
    "\n",
    "    plt.imshow(Ds, cmap=LinearSegmentedColormap.from_list(\n",
    "        '', ['yellow', 'gray', 'white']))\n",
    "\n",
    "    for i in range(len(Gs)):\n",
    "        for j in range(len(Gs)):\n",
    "            plt.text(j, i, \"{:.2f}\".format(\n",
    "                Ds[i][j]), ha='center', va='center', fontsize=4)\n",
    "\n",
    "    plt.title(label)\n",
    "    plt.xticks(ticks=[])\n",
    "    plt.yticks(ticks=range(len(Gs)), labels=[G.name for G in Gs], fontsize=7)\n",
    "\n",
    "    clb = plt.colorbar()\n",
    "    clb.ax.tick_params(labelsize=7)\n",
    "\n",
    "    fig.savefig(label + \".pdf\", bbox_inches='tight')\n",
    "    plt.close(fig)"
   ]
  },
  {
   "cell_type": "code",
   "execution_count": 17,
   "metadata": {},
   "outputs": [],
   "source": [
    "Gs = []\n",
    "for session_id, pconn_path in zip(session_ids, pconn_paths):\n",
    "    path = os.path.join(base_path, pconn_path)\n",
    "    data, df = read_pconn(path)\n",
    "    G = build_network(data, df, visualize = False)\n",
    "    Gs.append(G)"
   ]
  },
  {
   "cell_type": "code",
   "execution_count": null,
   "metadata": {},
   "outputs": [],
   "source": [
    "Ds = dists(Gs, dm.dmeasure)"
   ]
  }
 ],
 "metadata": {
  "kernelspec": {
   "display_name": "base",
   "language": "python",
   "name": "python3"
  },
  "language_info": {
   "codemirror_mode": {
    "name": "ipython",
    "version": 3
   },
   "file_extension": ".py",
   "mimetype": "text/x-python",
   "name": "python",
   "nbconvert_exporter": "python",
   "pygments_lexer": "ipython3",
   "version": "3.10.8 | packaged by conda-forge | (main, Nov 22 2022, 08:25:29) [Clang 14.0.6 ]"
  },
  "orig_nbformat": 4,
  "vscode": {
   "interpreter": {
    "hash": "c6e4e9f98eb68ad3b7c296f83d20e6de614cb42e90992a65aa266555a3137d0d"
   }
  }
 },
 "nbformat": 4,
 "nbformat_minor": 2
}

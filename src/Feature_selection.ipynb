{
 "cells": [
  {
   "cell_type": "code",
   "execution_count": 1,
   "id": "73b4f2e5-899e-4759-9316-677b54aca9ec",
   "metadata": {},
   "outputs": [],
   "source": [
    "# General imports\n",
    "import numpy as np\n",
    "import pandas as pd\n",
    "import matplotlib.pyplot as plt\n",
    "\n",
    "# Feature selection\n",
    "from feature_engine.selection import DropConstantFeatures, DropCorrelatedFeatures\n",
    "from sklearn.feature_selection import mutual_info_classif, f_classif\n",
    "from sklearn.feature_selection import SequentialFeatureSelector as SFS\n",
    "\n",
    "# Metrics\n",
    "from sklearn.metrics import accuracy_score\n",
    "\n",
    "# Data preprocessing\n",
    "from sklearn.model_selection import train_test_split\n",
    "from sklearn.preprocessing import LabelEncoder\n",
    "\n",
    "# Machine learning models\n",
    "from sklearn.tree import DecisionTreeClassifier\n",
    "import xgboost as xgb"
   ]
  },
  {
   "cell_type": "code",
   "execution_count": 2,
   "id": "3cdb63e2-2536-4a2f-bcc1-f30991a8f027",
   "metadata": {},
   "outputs": [
    {
     "name": "stdout",
     "output_type": "stream",
     "text": [
      "binary_target\n",
      "0    436\n",
      "1    202\n",
      "Name: count, dtype: int64\n",
      "Group\n",
      "CON     202\n",
      "SCZP    167\n",
      "BPP     150\n",
      "SADP    119\n",
      "Name: count, dtype: int64\n"
     ]
    },
    {
     "data": {
      "text/html": [
       "<div>\n",
       "<style scoped>\n",
       "    .dataframe tbody tr th:only-of-type {\n",
       "        vertical-align: middle;\n",
       "    }\n",
       "\n",
       "    .dataframe tbody tr th {\n",
       "        vertical-align: top;\n",
       "    }\n",
       "\n",
       "    .dataframe thead th {\n",
       "        text-align: right;\n",
       "    }\n",
       "</style>\n",
       "<table border=\"1\" class=\"dataframe\">\n",
       "  <thead>\n",
       "    <tr style=\"text-align: right;\">\n",
       "      <th></th>\n",
       "      <th>binary_target</th>\n",
       "      <th>Group</th>\n",
       "      <th>X1</th>\n",
       "      <th>X2</th>\n",
       "      <th>X3</th>\n",
       "      <th>X4</th>\n",
       "      <th>X5</th>\n",
       "      <th>X6</th>\n",
       "      <th>X7</th>\n",
       "      <th>X8</th>\n",
       "      <th>...</th>\n",
       "      <th>X709</th>\n",
       "      <th>X710</th>\n",
       "      <th>X711</th>\n",
       "      <th>X712</th>\n",
       "      <th>X713</th>\n",
       "      <th>X714</th>\n",
       "      <th>X715</th>\n",
       "      <th>X716</th>\n",
       "      <th>X717</th>\n",
       "      <th>X718</th>\n",
       "    </tr>\n",
       "  </thead>\n",
       "  <tbody>\n",
       "    <tr>\n",
       "      <th>0</th>\n",
       "      <td>0</td>\n",
       "      <td>SADP</td>\n",
       "      <td>0.017901</td>\n",
       "      <td>0.009985</td>\n",
       "      <td>0.003740</td>\n",
       "      <td>0.012205</td>\n",
       "      <td>0.005254</td>\n",
       "      <td>0.023362</td>\n",
       "      <td>0.009241</td>\n",
       "      <td>-0.013089</td>\n",
       "      <td>...</td>\n",
       "      <td>0.014800</td>\n",
       "      <td>-0.000650</td>\n",
       "      <td>-0.007422</td>\n",
       "      <td>-0.003942</td>\n",
       "      <td>0.005397</td>\n",
       "      <td>0.000533</td>\n",
       "      <td>0.013678</td>\n",
       "      <td>-0.014425</td>\n",
       "      <td>0.000760</td>\n",
       "      <td>0.000889</td>\n",
       "    </tr>\n",
       "    <tr>\n",
       "      <th>1</th>\n",
       "      <td>0</td>\n",
       "      <td>SCZP</td>\n",
       "      <td>0.006281</td>\n",
       "      <td>0.014014</td>\n",
       "      <td>-0.005585</td>\n",
       "      <td>-0.000536</td>\n",
       "      <td>0.003254</td>\n",
       "      <td>0.008885</td>\n",
       "      <td>0.008263</td>\n",
       "      <td>-0.007209</td>\n",
       "      <td>...</td>\n",
       "      <td>-0.002154</td>\n",
       "      <td>0.007586</td>\n",
       "      <td>0.004824</td>\n",
       "      <td>0.008781</td>\n",
       "      <td>-0.007612</td>\n",
       "      <td>0.005459</td>\n",
       "      <td>0.004697</td>\n",
       "      <td>0.002705</td>\n",
       "      <td>0.008613</td>\n",
       "      <td>0.005739</td>\n",
       "    </tr>\n",
       "    <tr>\n",
       "      <th>2</th>\n",
       "      <td>0</td>\n",
       "      <td>BPP</td>\n",
       "      <td>-0.011590</td>\n",
       "      <td>0.009900</td>\n",
       "      <td>-0.008592</td>\n",
       "      <td>-0.009722</td>\n",
       "      <td>0.001935</td>\n",
       "      <td>0.016690</td>\n",
       "      <td>0.007919</td>\n",
       "      <td>-0.006034</td>\n",
       "      <td>...</td>\n",
       "      <td>-0.003193</td>\n",
       "      <td>-0.018124</td>\n",
       "      <td>0.012447</td>\n",
       "      <td>-0.000854</td>\n",
       "      <td>-0.003363</td>\n",
       "      <td>0.001340</td>\n",
       "      <td>-0.007613</td>\n",
       "      <td>0.001474</td>\n",
       "      <td>-0.003668</td>\n",
       "      <td>0.005865</td>\n",
       "    </tr>\n",
       "    <tr>\n",
       "      <th>3</th>\n",
       "      <td>0</td>\n",
       "      <td>SCZP</td>\n",
       "      <td>0.017341</td>\n",
       "      <td>0.009125</td>\n",
       "      <td>0.001433</td>\n",
       "      <td>0.005714</td>\n",
       "      <td>0.000891</td>\n",
       "      <td>0.004737</td>\n",
       "      <td>0.000913</td>\n",
       "      <td>-0.004097</td>\n",
       "      <td>...</td>\n",
       "      <td>-0.006566</td>\n",
       "      <td>0.018083</td>\n",
       "      <td>0.007969</td>\n",
       "      <td>0.005143</td>\n",
       "      <td>0.010550</td>\n",
       "      <td>0.000927</td>\n",
       "      <td>0.015112</td>\n",
       "      <td>0.003535</td>\n",
       "      <td>0.008583</td>\n",
       "      <td>0.006735</td>\n",
       "    </tr>\n",
       "    <tr>\n",
       "      <th>4</th>\n",
       "      <td>0</td>\n",
       "      <td>SADP</td>\n",
       "      <td>-0.025011</td>\n",
       "      <td>0.031992</td>\n",
       "      <td>-0.037631</td>\n",
       "      <td>-0.024702</td>\n",
       "      <td>-0.009084</td>\n",
       "      <td>-0.002958</td>\n",
       "      <td>0.031740</td>\n",
       "      <td>0.018152</td>\n",
       "      <td>...</td>\n",
       "      <td>-0.004469</td>\n",
       "      <td>0.037608</td>\n",
       "      <td>0.032018</td>\n",
       "      <td>0.005771</td>\n",
       "      <td>0.000471</td>\n",
       "      <td>0.017834</td>\n",
       "      <td>0.020844</td>\n",
       "      <td>0.039692</td>\n",
       "      <td>0.029756</td>\n",
       "      <td>0.003653</td>\n",
       "    </tr>\n",
       "  </tbody>\n",
       "</table>\n",
       "<p>5 rows × 720 columns</p>\n",
       "</div>"
      ],
      "text/plain": [
       "   binary_target Group        X1        X2        X3        X4        X5  \\\n",
       "0              0  SADP  0.017901  0.009985  0.003740  0.012205  0.005254   \n",
       "1              0  SCZP  0.006281  0.014014 -0.005585 -0.000536  0.003254   \n",
       "2              0   BPP -0.011590  0.009900 -0.008592 -0.009722  0.001935   \n",
       "3              0  SCZP  0.017341  0.009125  0.001433  0.005714  0.000891   \n",
       "4              0  SADP -0.025011  0.031992 -0.037631 -0.024702 -0.009084   \n",
       "\n",
       "         X6        X7        X8  ...      X709      X710      X711      X712  \\\n",
       "0  0.023362  0.009241 -0.013089  ...  0.014800 -0.000650 -0.007422 -0.003942   \n",
       "1  0.008885  0.008263 -0.007209  ... -0.002154  0.007586  0.004824  0.008781   \n",
       "2  0.016690  0.007919 -0.006034  ... -0.003193 -0.018124  0.012447 -0.000854   \n",
       "3  0.004737  0.000913 -0.004097  ... -0.006566  0.018083  0.007969  0.005143   \n",
       "4 -0.002958  0.031740  0.018152  ... -0.004469  0.037608  0.032018  0.005771   \n",
       "\n",
       "       X713      X714      X715      X716      X717      X718  \n",
       "0  0.005397  0.000533  0.013678 -0.014425  0.000760  0.000889  \n",
       "1 -0.007612  0.005459  0.004697  0.002705  0.008613  0.005739  \n",
       "2 -0.003363  0.001340 -0.007613  0.001474 -0.003668  0.005865  \n",
       "3  0.010550  0.000927  0.015112  0.003535  0.008583  0.006735  \n",
       "4  0.000471  0.017834  0.020844  0.039692  0.029756  0.003653  \n",
       "\n",
       "[5 rows x 720 columns]"
      ]
     },
     "execution_count": 2,
     "metadata": {},
     "output_type": "execute_result"
    }
   ],
   "source": [
    "# Replace 'path_to_csv' with the actual path to your CSV file\n",
    "df = pd.read_csv('/Users/ahmet/Desktop/Study/second_semester/ds_project/smaller atlas/Data/BSNIP_data/neural/neural_parcellated_gbc.csv')\n",
    "\n",
    "df = df.drop('Unnamed: 0', axis=1)\n",
    "df['binary_target'] = (df['Group'] == 'CON').astype(int)\n",
    "unique_value_counts_binary = df['binary_target'].value_counts()\n",
    "unique_value_counts_multiclass = df['Group'].value_counts()\n",
    "print(unique_value_counts_binary)\n",
    "print(unique_value_counts_multiclass)\n",
    "# Create a list of the new column order\n",
    "columns = ['binary_target', 'Group'] + [col for col in df.columns if col not in ['binary_target', 'Group']]\n",
    "\n",
    "# Reindex the DataFrame with the new column order\n",
    "df = df[columns]\n",
    "df.head()"
   ]
  },
  {
   "cell_type": "code",
   "execution_count": 3,
   "id": "d65ad405-6e74-4fe2-b5e2-07e934dfe0a1",
   "metadata": {},
   "outputs": [],
   "source": [
    "seed = 123\n",
    "\n",
    "binary_data = df.drop('binary_target', axis=1)\n",
    "input_features = binary_data.drop('Group', axis=1)\n",
    "# Initialize the LabelEncoder\n",
    "le = LabelEncoder()\n",
    "targets_numeric = le.fit_transform(binary_data['Group'])\n",
    "\n",
    "X_train, X_test, y_train, y_test = train_test_split(input_features, targets_numeric, \n",
    "                                                    test_size=0.2, random_state=seed)"
   ]
  },
  {
   "cell_type": "markdown",
   "id": "fbd7497a-3c7a-4be1-be2c-8fbaf28ab6c4",
   "metadata": {},
   "source": [
    "### Drop constant and quasi contstant features"
   ]
  },
  {
   "cell_type": "code",
   "execution_count": 60,
   "id": "fe060130-22c8-464d-965e-3a475821cb84",
   "metadata": {},
   "outputs": [
    {
     "data": {
      "text/plain": [
       "[]"
      ]
     },
     "execution_count": 60,
     "metadata": {},
     "output_type": "execute_result"
    }
   ],
   "source": [
    "sel = DropConstantFeatures(tol = 1, variables = None, missing_values = 'raise')\n",
    "sel.fit(X_train)\n",
    "sel.features_to_drop_"
   ]
  },
  {
   "cell_type": "code",
   "execution_count": 61,
   "id": "3a92bf4a-383e-45d0-b759-b034596daf8c",
   "metadata": {},
   "outputs": [
    {
     "data": {
      "text/plain": [
       "[]"
      ]
     },
     "execution_count": 61,
     "metadata": {},
     "output_type": "execute_result"
    }
   ],
   "source": [
    "sel  = DropConstantFeatures(tol = .998, variables = None, missing_values = 'raise')\n",
    "sel.fit(X_train)\n",
    "sel.features_to_drop_"
   ]
  },
  {
   "cell_type": "markdown",
   "id": "015635ba-70aa-4662-8596-f01d91e47717",
   "metadata": {},
   "source": [
    "There is no constant or quasi constant features in the data."
   ]
  },
  {
   "attachments": {},
   "cell_type": "markdown",
   "id": "dd0ec0e7-6b33-4ab1-b5f1-bbdf716580c6",
   "metadata": {},
   "source": [
    "### Correlation"
   ]
  },
  {
   "cell_type": "markdown",
   "id": "b1de5541-3297-48df-9c53-83a6c3ad8ed9",
   "metadata": {},
   "source": [
    "#### Brute force approach"
   ]
  },
  {
   "cell_type": "code",
   "execution_count": 62,
   "id": "fd75591d-9cb5-4843-b375-f827e09cf285",
   "metadata": {},
   "outputs": [
    {
     "data": {
      "text/plain": [
       "[{'X1', 'X181', 'X184', 'X4'},\n",
       " {'X185', 'X5', 'X6'},\n",
       " {'X188', 'X231', 'X8'},\n",
       " {'X189', 'X233', 'X53', 'X9'},\n",
       " {'X13', 'X193'},\n",
       " {'X14', 'X194'},\n",
       " {'X15', 'X195'},\n",
       " {'X210', 'X30'},\n",
       " {'X211', 'X31'},\n",
       " {'X212', 'X32'},\n",
       " {'X213', 'X33'},\n",
       " {'X214', 'X34', 'X35'},\n",
       " {'X216', 'X36'},\n",
       " {'X218', 'X38'},\n",
       " {'X220', 'X40', 'X41'},\n",
       " {'X232', 'X52'},\n",
       " {'X235', 'X55'},\n",
       " {'X249', 'X69'},\n",
       " {'X250', 'X70'},\n",
       " {'X113', 'X99'},\n",
       " {'X105', 'X285'},\n",
       " {'X106', 'X109', 'X286'},\n",
       " {'X108', 'X288'},\n",
       " {'X114', 'X115', 'X294'},\n",
       " {'X119', 'X299', 'X405'},\n",
       " {'X120', 'X300', 'X661'},\n",
       " {'X131', 'X311'},\n",
       " {'X167', 'X347'},\n",
       " {'X361', 'X481'},\n",
       " {'X370', 'X558', 'X640'},\n",
       " {'X386', 'X577'},\n",
       " {'X398', 'X591'},\n",
       " {'X402', 'X403', 'X596'},\n",
       " {'X404', 'X447'},\n",
       " {'X407', 'X626'},\n",
       " {'X419', 'X423', 'X479', 'X516', 'X518'},\n",
       " {'X426', 'X457'},\n",
       " {'X427', 'X609'},\n",
       " {'X433', 'X438'},\n",
       " {'X445', 'X660'},\n",
       " {'X449', 'X471'},\n",
       " {'X454', 'X544'},\n",
       " {'X456', 'X672'},\n",
       " {'X458', 'X463'},\n",
       " {'X460', 'X465'},\n",
       " {'X462', 'X582'},\n",
       " {'X467', 'X613'},\n",
       " {'X468', 'X659'},\n",
       " {'X470', 'X621'},\n",
       " {'X474', 'X625'},\n",
       " {'X482', 'X483', 'X703'},\n",
       " {'X495', 'X501'},\n",
       " {'X509', 'X693'},\n",
       " {'X514', 'X515'},\n",
       " {'X524', 'X565'},\n",
       " {'X525', 'X676'},\n",
       " {'X526', 'X675'},\n",
       " {'X528', 'X535'},\n",
       " {'X545', 'X670'},\n",
       " {'X567', 'X568'},\n",
       " {'X570', 'X584'},\n",
       " {'X573', 'X587'},\n",
       " {'X618', 'X658'},\n",
       " {'X637', 'X638'},\n",
       " {'X647', 'X651'},\n",
       " {'X682', 'X688'}]"
      ]
     },
     "execution_count": 62,
     "metadata": {},
     "output_type": "execute_result"
    }
   ],
   "source": [
    "sel = DropCorrelatedFeatures(threshold = 0.8,\n",
    "                           method = 'pearson',\n",
    "                           missing_values = 'ignore')\n",
    "sel.fit(X_train)\n",
    "sel.correlated_feature_sets_"
   ]
  },
  {
   "cell_type": "code",
   "execution_count": 63,
   "id": "29e7066f-2d53-4fac-8a71-78722d364230",
   "metadata": {},
   "outputs": [
    {
     "data": {
      "text/plain": [
       "84"
      ]
     },
     "execution_count": 63,
     "metadata": {},
     "output_type": "execute_result"
    }
   ],
   "source": [
    "len(sel.features_to_drop_)"
   ]
  },
  {
   "cell_type": "code",
   "execution_count": 64,
   "id": "4b7b942e-dd5b-4ddf-94bc-be8d9959f2ea",
   "metadata": {},
   "outputs": [
    {
     "data": {
      "text/plain": [
       "((510, 634), (128, 634))"
      ]
     },
     "execution_count": 64,
     "metadata": {},
     "output_type": "execute_result"
    }
   ],
   "source": [
    "X_train = sel.transform(X_train)\n",
    "X_test = sel.transform(X_test)\n",
    "\n",
    "X_train.shape, X_test.shape"
   ]
  },
  {
   "attachments": {},
   "cell_type": "markdown",
   "id": "e2a53954-6810-4b13-9ba2-f331075f9627",
   "metadata": {},
   "source": [
    "### Mutual Information"
   ]
  },
  {
   "cell_type": "code",
   "execution_count": 65,
   "id": "d5eedd47-eb2f-4ad4-a2f7-c0502b6cf334",
   "metadata": {},
   "outputs": [
    {
     "data": {
      "text/plain": [
       "array([0.22089595, 0.14812267, 0.17494842, 0.17899905, 0.07738846,\n",
       "       0.28728684, 0.19571773, 0.24079457, 0.10985123, 0.17416829,\n",
       "       0.11545675, 0.15345955, 0.21338124, 0.08954205, 0.12362273,\n",
       "       0.20745045, 0.1138632 , 0.10013089, 0.13522228, 0.17745011,\n",
       "       0.12759344, 0.18308913, 0.13226214, 0.29107467, 0.1781024 ,\n",
       "       0.21439226, 0.18673922, 0.11672385, 0.16891354, 0.16371843,\n",
       "       0.08507397, 0.08790243, 0.19983085, 0.16883595, 0.18308433,\n",
       "       0.19522412, 0.19250055, 0.1894579 , 0.18969599, 0.20365039,\n",
       "       0.12954112, 0.11734066, 0.21046716, 0.15824871, 0.21538419,\n",
       "       0.12163414, 0.24245471, 0.27578622, 0.20747105, 0.17971533,\n",
       "       0.12774434, 0.17042594, 0.22002334, 0.14344128, 0.16898537,\n",
       "       0.15751966, 0.187251  , 0.25059059, 0.16248828, 0.1296417 ,\n",
       "       0.28546311, 0.33112415, 0.2181229 , 0.20239349, 0.27616589,\n",
       "       0.26016657, 0.16956369, 0.28731292, 0.16404413, 0.24254273,\n",
       "       0.23706524, 0.26563674, 0.15462275, 0.10682374, 0.08151742,\n",
       "       0.1688521 , 0.18074346, 0.2717346 , 0.25502164, 0.17362716,\n",
       "       0.19716394, 0.20860624, 0.23966198, 0.19003071, 0.26326206,\n",
       "       0.24382561, 0.27129115, 0.24318125, 0.25694478, 0.18201852,\n",
       "       0.21062833, 0.28260062, 0.19805775, 0.1389296 , 0.16060518,\n",
       "       0.11836939, 0.11580959, 0.1721929 , 0.13063781, 0.11671421,\n",
       "       0.24601236, 0.18090328, 0.10153269, 0.26712778, 0.13907619,\n",
       "       0.22774311, 0.06967478, 0.18339391, 0.19998735, 0.25145086,\n",
       "       0.32426119, 0.3315228 , 0.16324971, 0.24081447, 0.16060697,\n",
       "       0.17725927, 0.21358266, 0.27326155, 0.17746428, 0.22736404,\n",
       "       0.22319057, 0.15436196, 0.26054014, 0.23597773, 0.25352028,\n",
       "       0.33698348, 0.23582848, 0.20624637, 0.18687394, 0.13798352,\n",
       "       0.13374163, 0.21178648, 0.16358125, 0.20076173, 0.15642278,\n",
       "       0.22773531, 0.27458068, 0.13174068, 0.11259925, 0.0986153 ,\n",
       "       0.33835603, 0.21181565, 0.29546306, 0.08976565, 0.1633239 ,\n",
       "       0.20643505, 0.26444211, 0.09466992, 0.08358408, 0.17616208,\n",
       "       0.0639412 , 0.17628576, 0.08634995, 0.14182608, 0.21562522,\n",
       "       0.24228373, 0.2074472 , 0.29529894, 0.23517293, 0.12327727,\n",
       "       0.16755642, 0.20805731, 0.1410279 , 0.19065086, 0.21041398,\n",
       "       0.1672829 , 0.1629442 , 0.27831188, 0.18881726, 0.22523488,\n",
       "       0.15038148, 0.20317003, 0.1545161 , 0.16711832, 0.1754498 ,\n",
       "       0.15267303, 0.25660204, 0.17253672, 0.26451114, 0.09540339,\n",
       "       0.11610291, 0.27168035, 0.09604499, 0.14530408, 0.1304349 ,\n",
       "       0.13272182, 0.12465984, 0.17141477, 0.16727054, 0.22697961,\n",
       "       0.18511068, 0.19653125, 0.14161   , 0.11517514, 0.14824606,\n",
       "       0.18618468, 0.09898992, 0.17213785, 0.17683069, 0.23129034,\n",
       "       0.184486  , 0.13138586, 0.21581345, 0.20325191, 0.16243386,\n",
       "       0.13772469, 0.21244143, 0.15912863, 0.12905465, 0.20950157,\n",
       "       0.17317065, 0.15528128, 0.15195021, 0.22866992, 0.24641462,\n",
       "       0.18099675, 0.23409751, 0.17627927, 0.31044013, 0.22744479,\n",
       "       0.21389088, 0.21305897, 0.26412113, 0.26781048, 0.17775776,\n",
       "       0.17399311, 0.21063036, 0.17694393, 0.13685848, 0.05605718,\n",
       "       0.18801518, 0.17413471, 0.21886717, 0.21516628, 0.2385825 ,\n",
       "       0.23728423, 0.1533626 , 0.26308505, 0.1777883 , 0.19833498,\n",
       "       0.23400842, 0.25304947, 0.24352251, 0.24095019, 0.12818661,\n",
       "       0.22831703, 0.28672881, 0.15170416, 0.12025199, 0.1798949 ,\n",
       "       0.13465955, 0.14809359, 0.23426248, 0.15053455, 0.23013623,\n",
       "       0.18802223, 0.28889527, 0.14492084, 0.18555198, 0.15927021,\n",
       "       0.11368152, 0.04483056, 0.20869338, 0.19069719, 0.14769024,\n",
       "       0.2464827 , 0.16825407, 0.19422076, 0.23198203, 0.29537139,\n",
       "       0.26820042, 0.15271684, 0.19024474, 0.16140303, 0.19949174,\n",
       "       0.15518806, 0.27935776, 0.25301113, 0.22156184, 0.1852805 ,\n",
       "       0.2147416 , 0.2060837 , 0.07810223, 0.12669512, 0.16163695,\n",
       "       0.16475199, 0.24983459, 0.19974838, 0.13881986, 0.11037594,\n",
       "       0.21603722, 0.37116373, 0.16139559, 0.21331783, 0.10275463,\n",
       "       0.18244104, 0.17192207, 0.1785172 , 0.11762453, 0.14443674,\n",
       "       0.15956771, 0.14179037, 0.15665303, 0.11607143, 0.16205784,\n",
       "       0.22867893, 0.22461461, 0.21680509, 0.22988372, 0.12765105,\n",
       "       0.09921213, 0.19813733, 0.1284138 , 0.18554638, 0.1939138 ,\n",
       "       0.17970081, 0.19119851, 0.21498696, 0.19289115, 0.2222034 ,\n",
       "       0.18927368, 0.1320469 , 0.18242817, 0.18080608, 0.20063466,\n",
       "       0.08612549, 0.13664837, 0.09881576, 0.1712414 , 0.15185951,\n",
       "       0.15806227, 0.43508466, 0.12483794, 0.04097541, 0.14984772,\n",
       "       0.11612272, 0.04111607, 0.08886353, 0.06602697, 0.06873721,\n",
       "       0.04319385, 0.01610002, 0.07741107, 0.19997214, 0.14756332,\n",
       "       0.0403529 , 0.21079043, 0.11041637, 0.1267465 , 0.15682069,\n",
       "       0.09809716, 0.13323843, 0.21344303, 0.04434841, 0.00923358,\n",
       "       0.30198997, 0.07616024, 0.02880646, 0.21315498, 0.22853568,\n",
       "       0.10389603, 0.13363624, 0.06469779, 0.37156207, 0.37714909,\n",
       "       0.11768337, 0.07845678, 0.19839905, 0.06959338, 0.10802312,\n",
       "       0.16662627, 0.08780562, 0.16400343, 0.10229991, 0.18448252,\n",
       "       0.16221416, 0.22701747, 0.20059498, 0.16932672, 0.15826096,\n",
       "       0.18391051, 0.0901207 , 0.24867811, 0.2348184 , 0.32815405,\n",
       "       0.10443742, 0.17356234, 0.1728564 , 0.06167729, 0.11257762,\n",
       "       0.21948575, 0.31323751, 0.14737291, 0.08378517, 0.17018076,\n",
       "       0.20052807, 0.13779375, 0.13217938, 0.16613815, 0.13955308,\n",
       "       0.10126645, 0.08554779, 0.0796725 , 0.05746339, 0.1636237 ,\n",
       "       0.14571452, 0.31103756, 0.24547778, 0.30050276, 0.16248787,\n",
       "       0.2191649 , 0.29530526, 0.16667087, 0.33085534, 0.08473914,\n",
       "       0.33042309, 0.16103188, 0.19431409, 0.06136824, 0.17516411,\n",
       "       0.15780187, 0.27457051, 0.2036189 , 0.23858913, 0.15096969,\n",
       "       0.18621106, 0.1347409 , 0.02900289, 0.12478239, 0.11016953,\n",
       "       0.11160064, 0.2033046 , 0.18819151, 0.3261244 , 0.12872096,\n",
       "       0.10375024, 0.13854473, 0.17690021, 0.15419963, 0.12906682,\n",
       "       0.091499  , 0.08323222, 0.26766055, 0.09118541, 0.33543455,\n",
       "       0.11129475, 0.14488063, 0.24769366, 0.02214936, 0.07753975,\n",
       "       0.17356832, 0.14317262, 0.11356412, 0.1130845 , 0.18161815,\n",
       "       0.15283489, 0.23209972, 0.078699  , 0.09542431, 0.14647084,\n",
       "       0.25417003, 0.20177366, 0.22424083, 0.07929701, 0.04845443,\n",
       "       0.09188492, 0.10468112, 0.06826213, 0.09349654, 0.03663859,\n",
       "       0.24704991, 0.27398019, 0.23894988, 0.20726078, 0.3557931 ,\n",
       "       0.11289147, 0.1891657 , 0.16214123, 0.06598435, 0.3592582 ,\n",
       "       0.10141114, 0.15562723, 0.06250654, 0.19654405, 0.20406837,\n",
       "       0.18757601, 0.25265165, 0.23983857, 0.26821624, 0.10304173,\n",
       "       0.08292584, 0.0946992 , 0.17032633, 0.11143413, 0.19566144,\n",
       "       0.08233671, 0.10271607, 0.1342044 , 0.12560598, 0.11206666,\n",
       "       0.09418076, 0.10878595, 0.11748084, 0.13162601, 0.20698068,\n",
       "       0.19656424, 0.13918838, 0.08177679, 0.22900819, 0.15228042,\n",
       "       0.36376009, 0.14440385, 0.05783901, 0.18640865, 0.05104791,\n",
       "       0.10875371, 0.13911933, 0.10545717, 0.1126427 , 0.11527492,\n",
       "       0.14121225, 0.11078227, 0.24810926, 0.0843278 , 0.08305634,\n",
       "       0.17237448, 0.13538745, 0.36385559, 0.26782165, 0.10483691,\n",
       "       0.09967923, 0.32723248, 0.22415734, 0.06925991, 0.07675415,\n",
       "       0.14389882, 0.11329447, 0.14173191, 0.22956028, 0.25622292,\n",
       "       0.15979725, 0.08238573, 0.08495702, 0.07919842, 0.06976068,\n",
       "       0.13184124, 0.18656571, 0.12004026, 0.21002128, 0.2012495 ,\n",
       "       0.18628425, 0.17863618, 0.19313734, 0.06056631, 0.1687962 ,\n",
       "       0.19125337, 0.10777554, 0.15750461, 0.12546034, 0.10986918,\n",
       "       0.06526219, 0.10759032, 0.12309482, 0.10092072, 0.18213165,\n",
       "       0.0261244 , 0.23568615, 0.0915983 , 0.15479295, 0.13292971,\n",
       "       0.        , 0.19240247, 0.06226023, 0.21223295, 0.22728939,\n",
       "       0.20041233, 0.10071447, 0.24502256, 0.12150743, 0.084333  ,\n",
       "       0.30877346, 0.15940931, 0.2657493 , 0.16230953, 0.0904066 ,\n",
       "       0.08887933, 0.09689715, 0.08370296, 0.19966759, 0.12999805,\n",
       "       0.12928481, 0.27359818, 0.03456346, 0.14659311, 0.19987597,\n",
       "       0.28778254, 0.11703055, 0.12767697, 0.05804546, 0.17828042,\n",
       "       0.33460205, 0.06016625, 0.0894666 , 0.15454965, 0.07688393,\n",
       "       0.14545337, 0.13370641, 0.18791889, 0.0970603 , 0.15789511,\n",
       "       0.12578343, 0.14612586, 0.16822811, 0.19538659, 0.15208256,\n",
       "       0.11529249, 0.08656779, 0.07291282, 0.22560696, 0.19359811,\n",
       "       0.11755561, 0.19629316, 0.11244616, 0.06817138, 0.08303455,\n",
       "       0.06293405, 0.05774433, 0.08492721, 0.08658607, 0.04799752,\n",
       "       0.21458521, 0.06570261, 0.1816207 , 0.10084883])"
      ]
     },
     "execution_count": 65,
     "metadata": {},
     "output_type": "execute_result"
    }
   ],
   "source": [
    "mi = mutual_info_classif(X_train, y_train)\n",
    "mi"
   ]
  },
  {
   "cell_type": "code",
   "execution_count": 66,
   "id": "8b030d04-a3b1-44a5-9c9e-78cf6b764f42",
   "metadata": {},
   "outputs": [
    {
     "data": {
      "text/plain": [
       "X370    0.435085\n",
       "X404    0.377149\n",
       "X402    0.371562\n",
       "X329    0.371164\n",
       "X592    0.363856\n",
       "          ...   \n",
       "X636    0.026124\n",
       "X499    0.022149\n",
       "X380    0.016100\n",
       "X393    0.009234\n",
       "X643    0.000000\n",
       "Length: 634, dtype: float64"
      ]
     },
     "execution_count": 66,
     "metadata": {},
     "output_type": "execute_result"
    }
   ],
   "source": [
    "mi = pd.Series(mi)\n",
    "mi.index = X_train.columns\n",
    "mi.sort_values(ascending=False)"
   ]
  },
  {
   "cell_type": "code",
   "execution_count": 195,
   "id": "49468020-2094-4fc3-8af0-f3d880b84b3e",
   "metadata": {},
   "outputs": [
    {
     "data": {
      "image/png": "[encoded data removed]",
      "text/plain": [
       "<Figure size 2000x800 with 1 Axes>"
      ]
     },
     "metadata": {},
     "output_type": "display_data"
    }
   ],
   "source": [
    "mi_sorted = mi.sort_values(ascending=False)\n",
    "ax = mi_sorted.plot.bar(figsize=(20, 8))\n",
    "\n",
    "# Remove x-axis labels\n",
    "plt.xticks([])\n",
    "plt.title('Mutual Information with respect to target variable')\n",
    "plt.ylabel('Mutual Information')\n",
    "plt.show()"
   ]
  },
  {
   "attachments": {},
   "cell_type": "markdown",
   "id": "f39a88f1",
   "metadata": {},
   "source": [
    "There is no obvious elbow shape in the plot so it's not easy to pick the cut off. I will just remove features that their mutual information is really small (smaller than <0.05)"
   ]
  },
  {
   "cell_type": "code",
   "execution_count": 69,
   "id": "3971a8d2",
   "metadata": {},
   "outputs": [
    {
     "name": "stdout",
     "output_type": "stream",
     "text": [
      "Number of features to remove: 17\n"
     ]
    },
    {
     "data": {
      "text/plain": [
       "Index(['X296', 'X372', 'X375', 'X379', 'X380', 'X384', 'X392', 'X393', 'X396',\n",
       "       'X475', 'X499', 'X519', 'X524', 'X636', 'X643', 'X671', 'X714'],\n",
       "      dtype='object')"
      ]
     },
     "execution_count": 69,
     "metadata": {},
     "output_type": "execute_result"
    }
   ],
   "source": [
    "print(f'Number of features to remove: {len(mi[mi < 0.05].index)}')\n",
    "mi[mi < 0.05].index"
   ]
  },
  {
   "cell_type": "code",
   "execution_count": 70,
   "id": "3c05df96",
   "metadata": {},
   "outputs": [],
   "source": [
    "X_train = X_train[mi[mi > 0.05].index]\n",
    "X_test = X_test[mi[mi > 0.05].index]"
   ]
  },
  {
   "cell_type": "code",
   "execution_count": 71,
   "id": "0905296b",
   "metadata": {},
   "outputs": [
    {
     "data": {
      "text/plain": [
       "((510, 617), (128, 617))"
      ]
     },
     "execution_count": 71,
     "metadata": {},
     "output_type": "execute_result"
    }
   ],
   "source": [
    "X_train.shape, X_test.shape"
   ]
  },
  {
   "cell_type": "markdown",
   "id": "d4b3d59c-e5ab-488c-86c6-173674a3096d",
   "metadata": {},
   "source": [
    "### Anova"
   ]
  },
  {
   "cell_type": "code",
   "execution_count": 72,
   "id": "1816ae06-320d-445b-ab7a-2a7141bd6b11",
   "metadata": {},
   "outputs": [
    {
     "data": {
      "text/plain": [
       "(array([ 5.42505024, 16.50474421,  2.7897694 ,  2.92811521,  1.2079393 ,\n",
       "         1.50067162,  1.48111336,  3.30646301,  1.24657716, 10.09504957,\n",
       "         4.033722  ,  2.47582384, 25.11247892,  2.07638886,  1.15941513,\n",
       "        17.6489983 ,  1.11828727,  4.30170771,  1.13530836,  0.39386682,\n",
       "         6.22290486, 19.22670808,  5.86151874, 21.54605636, 22.33392874,\n",
       "         4.88505136, 22.74754845, 19.46067682,  0.41574821, 15.17059111,\n",
       "         1.61622671,  8.22076066,  2.19577928,  0.1000652 ,  1.15394069,\n",
       "         1.20913078,  0.24156491,  3.60269789,  0.29993302,  6.10739141,\n",
       "         5.91238604,  4.23096473,  4.38042151,  5.20534115,  1.67298051,\n",
       "         2.99081418,  2.35235737,  2.68461187,  4.63033254,  2.50313057,\n",
       "         1.69861533,  1.79372615,  3.53686194,  4.40518265,  4.17215774,\n",
       "         1.8491751 , 12.9983062 , 24.25293584,  4.36052259,  7.36231414,\n",
       "        12.59699213, 67.47383272, 26.66670607, 16.97656077, 47.28886366,\n",
       "        30.18626157,  7.84028155, 44.99328589,  4.88993169,  1.23686769,\n",
       "         4.62228221,  6.4748922 ,  2.58043333,  1.40198523,  1.02777125,\n",
       "         6.25233122,  0.66692292, 42.03551199, 22.25953228, 24.28844451,\n",
       "        15.98703702, 23.33863449,  6.65811526,  3.77764294,  2.01216869,\n",
       "         6.8044694 , 17.21561776, 10.95020666, 13.57095757,  9.36973506,\n",
       "         6.04322988, 39.68918466, 41.55964324, 10.7372201 ,  7.38917515,\n",
       "         3.08183183,  4.39363109, 34.72321807, 14.01473151,  4.62462775,\n",
       "        45.56642582, 25.24876987,  2.377124  , 31.52974719,  5.27056689,\n",
       "        24.3097597 ,  5.49740697,  1.83632113,  6.2323895 , 20.27048949,\n",
       "        54.45497703, 69.52342452,  8.163607  , 12.91978455, 13.94589755,\n",
       "        30.10529264,  1.94029648, 32.43602248, 27.75298081,  9.78641996,\n",
       "         0.41755653,  4.26314981, 19.14294586,  3.49707445,  5.49784907,\n",
       "         0.7724461 ,  8.59194264, 14.95454837,  0.25468605,  6.87120147,\n",
       "         4.0751198 ,  8.75423227,  4.31503878,  2.84981314,  1.40804028,\n",
       "        23.73124915, 36.974112  ,  1.02697736,  3.80895346,  0.75962066,\n",
       "        62.19878174, 24.36982667, 47.4289118 ,  3.50380864,  7.7722039 ,\n",
       "        18.06783127, 32.1100686 ,  2.43589033, 16.07267326,  4.33855594,\n",
       "         2.65206645,  9.29964569, 11.22363938, 21.91143384, 37.76792669,\n",
       "        10.95158461, 11.4603656 , 20.42123194, 50.23006588,  9.43783674,\n",
       "         0.43759029, 19.11607806,  4.056962  ,  5.47333143, 23.06318003,\n",
       "        24.80550539, 19.13358417,  3.61746946,  5.08938945, 19.97510041,\n",
       "         0.85780057,  0.67760562, 13.41595731,  4.35241726,  0.16666262,\n",
       "         0.78776306,  3.21066435,  2.52869893, 16.75107516,  1.275244  ,\n",
       "         0.33831806, 13.32995662,  1.09389659,  1.73965696,  2.08970284,\n",
       "         1.10014184,  6.53427007, 20.94518921,  0.36081828, 30.774254  ,\n",
       "        27.35780923,  3.7309836 , 32.63253735, 10.0276517 ,  0.58334775,\n",
       "         0.85748653,  1.18689188,  1.72523797,  0.85622721,  6.647839  ,\n",
       "         7.85833086,  6.77157455,  4.96878513,  7.83566695,  2.33925517,\n",
       "         3.07046874,  5.94347512,  2.24809745,  2.87899178,  1.91554212,\n",
       "         9.29781566,  4.57631536,  2.38280958, 18.10215448, 42.40383039,\n",
       "         8.01042162,  4.77199738,  3.84214607, 68.63186547, 26.3036572 ,\n",
       "        31.47558535, 14.36279622, 49.22444844, 14.33355364, 11.42374526,\n",
       "         1.24322039,  4.31281338,  3.94443077,  2.90615569,  1.63440672,\n",
       "         8.71031008,  7.00937551, 31.30874851, 17.82774445, 32.68453394,\n",
       "        10.111317  , 30.73339691,  5.38136423,  7.88167842,  0.83923653,\n",
       "         6.29983922, 14.85423038, 14.2809324 , 10.3752685 , 14.60184465,\n",
       "         6.44812762, 37.50927733, 31.64629551,  9.68164737,  6.04096017,\n",
       "         2.74341888,  3.61802739, 35.83829561,  7.87167368, 29.37371519,\n",
       "        23.27890012, 39.55850226,  3.70030628, 30.2780699 ,  9.30939807,\n",
       "         1.8909655 ,  7.36744683, 18.55641613,  6.17699857, 20.76657094,\n",
       "        12.86938246, 34.47504968,  4.8188147 , 31.64918339, 39.53349937,\n",
       "         7.71527737,  3.00189913,  1.94436954,  0.13426054,  5.39551437,\n",
       "         0.37200935, 10.3561332 , 12.24112154,  0.43639576, 10.10905098,\n",
       "         2.04538926,  2.08497428,  2.90022598,  4.81745271,  3.21270705,\n",
       "        24.38102296, 38.74210892,  0.95641309,  3.77882193,  4.40180031,\n",
       "        85.88407664, 26.83143832, 48.96573373,  3.85734434,  8.01216885,\n",
       "        17.162155  , 28.46743378,  6.0577107 , 15.95205681,  1.07577645,\n",
       "         0.43587527, 12.31676338, 13.84836042, 30.39798198, 28.18723505,\n",
       "        13.99135853, 15.07385249, 16.25901039,  9.22079342,  0.23255321,\n",
       "        16.48790186, 15.00336873,  6.61653908, 28.33017868, 27.11251428,\n",
       "        28.28513894,  5.4661246 ,  4.57329285, 21.45999008,  0.29223592,\n",
       "         0.61992287, 24.32604873, 29.39950986, 31.32071362,  9.31642624,\n",
       "        12.25107729, 10.80519728, 17.30532185, 12.38902415, 21.7205895 ,\n",
       "        67.89200816, 13.77794975, 18.46088826, 12.14706143,  1.62395771,\n",
       "         0.80413576, 10.13309628, 11.41780963, 24.27306041, 12.5769283 ,\n",
       "        46.17929624, 42.88990708, 11.25442843, 23.98891384, 19.66122109,\n",
       "        17.60687666, 16.16363955, 34.02521834, 14.7526707 , 48.13428618,\n",
       "        40.26006161, 13.54346989, 19.57463754, 15.35641954, 77.30050563,\n",
       "        94.87379193,  9.31097872, 18.84334586, 21.85503584, 18.0961226 ,\n",
       "        27.08407426, 31.69149755, 12.4417609 , 28.36246479, 23.20948391,\n",
       "        28.96188073, 26.22084042, 44.247751  , 53.04739556, 21.43993909,\n",
       "        36.10560635, 29.59533144, 30.43806739, 25.541476  , 23.62396886,\n",
       "        34.34790049, 15.36187156, 10.72752978, 31.43722229, 23.45652802,\n",
       "         3.77526255, 33.18367969, 23.25965216,  6.45212197,  0.65142972,\n",
       "        17.37609019, 17.00418464, 16.96941197, 13.22649102, 22.17390224,\n",
       "        26.8540577 , 11.76801227, 19.78723634, 14.11718679,  8.94940909,\n",
       "        23.17656992, 19.33238636, 74.14055789, 36.32648574, 47.9099014 ,\n",
       "        36.54945482, 35.46233681, 35.23193072, 21.19980315, 29.95073391,\n",
       "         0.93962865, 68.80078972, 30.01941992, 32.11630733,  7.23102429,\n",
       "        41.09557136, 20.89498927, 35.40196779, 41.94049822, 69.57918708,\n",
       "        23.67462021, 24.41109617, 19.35211142, 15.24681462, 14.71584147,\n",
       "         7.06670437, 39.0658995 , 26.3900031 , 46.6433498 ,  7.67630367,\n",
       "        13.28581422, 14.25857619, 32.147902  , 10.43572898, 11.10759575,\n",
       "         8.88244974,  0.40320967, 11.23551   ,  5.84128339, 43.92889328,\n",
       "         0.38174544,  0.17992166,  6.22757636, 11.46823828, 32.5539852 ,\n",
       "        22.66581021, 12.81441582,  9.04890902, 22.05919168, 16.98904713,\n",
       "        33.1357516 ,  9.11052193, 20.23560685, 26.40764364, 28.39622206,\n",
       "        33.47134387, 25.59425937,  1.87842591, 13.91371479, 10.21373444,\n",
       "        16.52958424,  8.56380598, 28.5230721 , 22.39031178, 29.17453017,\n",
       "         0.9225326 , 24.13531561,  0.4071301 ,  1.9879    , 15.93619877,\n",
       "         2.82055102, 41.23603697, 11.57371115,  2.06250487,  3.45187422,\n",
       "        24.30929582, 33.12523181, 24.32537942, 33.29430467, 27.85385757,\n",
       "        39.50255814,  3.82082476,  3.19109529,  1.8723149 ,  0.85619328,\n",
       "         1.862774  ,  2.10307451,  1.06635237,  3.00907671,  0.485479  ,\n",
       "         2.008734  ,  1.40091538,  5.24321621, 12.95497629,  9.48490132,\n",
       "         9.3868545 , 17.33322565, 21.66629429,  2.05829428, 15.47785824,\n",
       "         3.42596716,  0.76606746,  5.47357843, 18.89577076,  0.64121423,\n",
       "        10.1500155 ,  9.11100854, 24.50233147, 24.36056164, 16.4823667 ,\n",
       "        12.46769807, 22.16527732, 18.39618638,  0.29594553, 16.52576069,\n",
       "         0.22750979, 12.3717463 , 16.01394099, 18.79217102, 54.70722183,\n",
       "        39.84476676, 19.01585673, 16.93294091, 35.70852079, 40.17117302,\n",
       "         8.98508766,  6.45558543,  8.36934923, 11.24501246, 12.74424413,\n",
       "        10.19568574,  6.44116551, 30.98012514,  8.32977736, 11.88420859,\n",
       "        16.94840839, 23.17683842, 23.2777675 , 29.98872622, 10.78628186,\n",
       "        27.70484809, 29.2104302 , 33.54719915, 30.64978643, 35.85992795,\n",
       "        18.42186758, 36.9122396 , 33.81773273,  7.09277777, 29.03230548,\n",
       "        38.0169259 , 11.14199151, 33.31420705,  5.35642123, 24.18704851,\n",
       "        22.3855136 ,  7.28454698, 46.44225469, 11.91926539,  9.04700991,\n",
       "        23.83873296, 41.0559944 ,  5.46405001,  7.5817169 , 14.60051882,\n",
       "        28.7567225 , 22.04250941,  8.88936833, 23.32360551, 30.47941276,\n",
       "        34.48908339, 29.23398781, 26.15414653, 11.1672255 , 14.59569075,\n",
       "        11.0429359 ,  9.88228485,  1.93624757, 14.55876435,  3.27384185,\n",
       "         5.99701594, 34.38351897, 15.02106801, 12.04280727, 37.48383399,\n",
       "         0.61880794,  0.96074641,  5.06226098,  0.61755009, 85.88791782,\n",
       "         0.34835793,  4.48834721, 13.13592998,  1.12758767,  2.57395753,\n",
       "         7.60716408, 18.71937084,  8.43520853,  9.45848274,  9.00183348,\n",
       "        15.3628279 , 49.07766074, 43.58461127, 12.01189999, 12.0218114 ,\n",
       "         7.3238821 ,  3.22462216, 35.59628293, 35.58737355, 24.16610331,\n",
       "        13.65759425,  9.87826941,  4.08817924,  7.41159609,  1.20620598,\n",
       "         2.67875407,  1.88141951,  7.03812105, 21.09026412,  4.21546331,\n",
       "        31.72155299,  5.89621244]),\n",
       " array([1.11557700e-03, 3.02246183e-10, 4.00385864e-02, 3.32917089e-02,\n",
       "        3.06216862e-01, 2.13495192e-01, 2.18774788e-01, 2.00394744e-02,\n",
       "        2.92175030e-01, 1.80786120e-06, 7.48485057e-03, 6.07027803e-02,\n",
       "        3.68387561e-15, 1.02398500e-01, 3.24704642e-01, 6.54873922e-11,\n",
       "        3.41142365e-01, 5.19545792e-03, 3.34252523e-01, 7.57471609e-01,\n",
       "        3.72356974e-04, 8.04955769e-12, 6.12256534e-04, 3.79368030e-13,\n",
       "        1.35381946e-13, 2.34012430e-03, 7.89365916e-14, 5.90618506e-12,\n",
       "        7.41769635e-01, 1.81498742e-09, 1.84649108e-01, 2.37641398e-05,\n",
       "        8.76618280e-02, 9.59952695e-01, 3.26851447e-01, 3.05774968e-01,\n",
       "        8.67334256e-01, 1.34339403e-02, 8.25454972e-01, 4.36527082e-04,\n",
       "        5.70879459e-04, 5.72164011e-03, 4.66632776e-03, 1.50836210e-03,\n",
       "        1.71860078e-01, 3.06144538e-02, 7.14140883e-02, 4.60470312e-02,\n",
       "        3.31642250e-03, 5.85542694e-02, 1.66361416e-01, 1.47379892e-01,\n",
       "        1.46849962e-02, 4.51122379e-03, 6.19907747e-03, 1.37282563e-01,\n",
       "        3.43125921e-08, 1.11780232e-14, 4.79480627e-03, 7.75154453e-05,\n",
       "        5.92172043e-08, 1.02573394e-36, 5.00640970e-16, 1.60727447e-10,\n",
       "        5.91699317e-27, 5.75184464e-18, 4.01287747e-05, 8.66947227e-26,\n",
       "        2.32453017e-03, 2.95648145e-01, 3.35313907e-03, 2.63197125e-04,\n",
       "        5.28662997e-02, 2.41393338e-01, 3.79906319e-01, 3.57574629e-04,\n",
       "        5.72656961e-01, 2.87185291e-24, 1.49192744e-13, 1.06760951e-14,\n",
       "        6.05258992e-10, 3.65805320e-14, 2.04499014e-04, 1.05990932e-02,\n",
       "        1.11284638e-01, 1.67163228e-04, 1.16771271e-10, 5.60262482e-07,\n",
       "        1.57718768e-08, 4.89314313e-06, 4.76824965e-04, 4.77244549e-23,\n",
       "        5.06588016e-24, 7.49878446e-07, 7.46994817e-05, 2.71007082e-02,\n",
       "        4.58293469e-03, 2.02290769e-20, 8.64547104e-09, 3.34239981e-03,\n",
       "        4.42356593e-26, 3.09061810e-15, 6.91277045e-02, 1.06599371e-18,\n",
       "        1.37919712e-03, 1.03857260e-14, 1.01001977e-03, 1.39562894e-01,\n",
       "        3.67526886e-04, 2.02761801e-12, 1.61578439e-30, 1.16420892e-37,\n",
       "        2.57095807e-05, 3.81765750e-08, 9.48981775e-09, 6.36903171e-18,\n",
       "        1.22107495e-01, 3.43971593e-19, 1.25153488e-16, 2.76104240e-06,\n",
       "        7.40476333e-01, 5.47599055e-03, 8.99384678e-12, 1.54962032e-02,\n",
       "        1.00940645e-03, 5.09781232e-01, 1.42577769e-05, 2.42853573e-09,\n",
       "        8.58000867e-01, 1.52481880e-04, 7.07485001e-03, 1.14047143e-05,\n",
       "        5.10182598e-03, 3.69598370e-02, 2.39589088e-01, 2.19727055e-14,\n",
       "        1.28134749e-21, 3.80262488e-01, 1.01582932e-02, 5.17136220e-01,\n",
       "        3.02524826e-34, 9.60938578e-15, 5.02760672e-27, 1.53558546e-02,\n",
       "        4.40733862e-05, 3.74853039e-11, 5.16370456e-19, 6.39836576e-02,\n",
       "        5.39523135e-10, 4.94072025e-03, 4.80793419e-02, 5.38781753e-06,\n",
       "        3.85462993e-07, 2.35142225e-13, 4.87567004e-22, 5.59207195e-07,\n",
       "        2.78925487e-07, 1.66242593e-12, 1.97573636e-28, 4.45610297e-06,\n",
       "        7.26198987e-01, 9.31969186e-12, 7.25186547e-03, 1.04398725e-03,\n",
       "        5.23357621e-14, 5.47324343e-15, 9.10606423e-12, 1.31680598e-02,\n",
       "        1.76844598e-03, 2.99334455e-12, 4.62877053e-01, 5.66049682e-01,\n",
       "        1.94617702e-08, 4.84814079e-03, 9.18839920e-01, 5.01102493e-01,\n",
       "        2.27962950e-02, 5.66098464e-02, 2.17318980e-10, 2.82134336e-01,\n",
       "        7.97637332e-01, 2.18706614e-08, 3.51232610e-01, 1.57902798e-01,\n",
       "        1.00643695e-01, 3.48624423e-01, 2.42531512e-04, 8.34507513e-13,\n",
       "        7.81332598e-01, 2.74694475e-18, 2.07070836e-16, 1.12913595e-02,\n",
       "        2.69326255e-19, 1.98296098e-06, 6.26150868e-01, 4.63043118e-01,\n",
       "        3.14117527e-01, 1.60827055e-01, 4.63709534e-01, 2.07414065e-04,\n",
       "        3.91435419e-05, 1.74911977e-04, 2.08644473e-03, 4.03846237e-05,\n",
       "        7.26531849e-02, 2.75167023e-02, 5.46977390e-04, 8.18703427e-02,\n",
       "        3.55487672e-02, 1.26063338e-01, 5.40138351e-06, 3.57066817e-03,\n",
       "        6.86129557e-02, 3.58116734e-11, 1.85244795e-24, 3.17466324e-05,\n",
       "        2.73199975e-03, 9.71081946e-03, 2.99305550e-37, 7.96954390e-16,\n",
       "        1.14071747e-18, 5.39907517e-09, 6.28540938e-28, 5.61677529e-09,\n",
       "        2.93234492e-07, 2.93371585e-01, 5.11733889e-03, 8.45115564e-03,\n",
       "        3.42827294e-02, 1.80458010e-01, 1.21150482e-05, 1.26052578e-04,\n",
       "        1.40559139e-18, 5.16057392e-11, 2.52454739e-19, 1.76797286e-06,\n",
       "        2.89150112e-18, 1.18456200e-03, 3.79049188e-05, 4.72776141e-01,\n",
       "        3.34936004e-04, 2.78040527e-09, 6.03093721e-09, 1.23116139e-06,\n",
       "        3.90889487e-09, 2.73078680e-04, 6.67720243e-22, 9.21435505e-19,\n",
       "        3.18814186e-06, 4.78316590e-04, 4.25858499e-02, 1.31581199e-02,\n",
       "        5.13781202e-21, 3.84308096e-05, 1.60247981e-17, 3.95334833e-14,\n",
       "        5.58611373e-23, 1.17707114e-02, 5.12430749e-18, 5.31609694e-06,\n",
       "        1.30111845e-01, 7.69692763e-05, 1.95783102e-11, 3.96646066e-04,\n",
       "        1.05532551e-12, 4.08838010e-08, 2.74701855e-20, 2.56236253e-03,\n",
       "        9.18115167e-19, 5.75698572e-23, 4.76681794e-05, 3.01636564e-02,\n",
       "        1.21468097e-01, 9.39618162e-01, 1.16176391e-03, 7.73237316e-01,\n",
       "        1.26387651e-06, 9.61369999e-08, 7.27047536e-01, 1.77347593e-06,\n",
       "        1.06599171e-01, 1.01263584e-01, 3.45552647e-02, 2.56714618e-03,\n",
       "        2.27337833e-02, 9.47125246e-15, 1.49675802e-22, 4.13079136e-01,\n",
       "        1.05821568e-02, 4.53210476e-03, 6.27891340e-45, 4.05531419e-16,\n",
       "        8.47232618e-28, 9.51250315e-03, 3.16703424e-05, 1.25416471e-10,\n",
       "        5.04789539e-17, 4.67417098e-04, 6.34369097e-10, 3.58896709e-01,\n",
       "        7.27417385e-01, 8.67237458e-08, 1.08298115e-08, 4.40694203e-18,\n",
       "        7.20452308e-17, 8.92337210e-09, 2.06771379e-09, 4.20171114e-10,\n",
       "        6.00446723e-06, 8.73705450e-01, 3.09144570e-10, 2.27381679e-09,\n",
       "        2.16551223e-04, 6.00847470e-17, 2.83178976e-16, 6.36209806e-17,\n",
       "        1.05437498e-03, 3.58545371e-03, 4.24661641e-13, 8.31019240e-01,\n",
       "        6.02354411e-01, 1.01691803e-14, 1.55110176e-17, 1.38469247e-18,\n",
       "        5.26500415e-06, 9.48417798e-08, 6.83245043e-07, 1.03587333e-10,\n",
       "        7.85953613e-08, 3.01848533e-13, 6.57012533e-37, 1.19136240e-08,\n",
       "        2.22269911e-11, 1.09283960e-07, 1.82855798e-01, 4.91952188e-01,\n",
       "        1.71594629e-06, 2.95622105e-07, 1.08907169e-14, 6.08562965e-08,\n",
       "        2.15839138e-26, 1.03977386e-24, 3.69576003e-07, 1.57334499e-14,\n",
       "        4.53068330e-12, 6.92707330e-11, 4.77519169e-10, 4.78764543e-20,\n",
       "        3.18877071e-09, 2.21688583e-27, 2.40191296e-23, 1.63708179e-08,\n",
       "        5.07999533e-12, 1.41312086e-09, 3.56163241e-41, 9.96223409e-49,\n",
       "        5.30456293e-06, 1.33782477e-11, 2.53146664e-13, 3.61002662e-11,\n",
       "        2.93651689e-16, 8.70819148e-19, 7.31494057e-08, 5.76718693e-17,\n",
       "        4.32669639e-14, 2.69759933e-17, 8.86215576e-16, 2.08566516e-25,\n",
       "        7.93415418e-30, 4.35970680e-13, 3.70298690e-21, 1.21131809e-17,\n",
       "        4.19034955e-18, 2.12045651e-15, 2.52540513e-14, 3.21369753e-20,\n",
       "        1.40278651e-09, 7.59893445e-07, 1.19680487e-18, 3.13860234e-14,\n",
       "        1.06333700e-02, 1.35777526e-19, 4.05350698e-14, 2.71580758e-04,\n",
       "        5.82334288e-01, 9.42485101e-11, 1.54899221e-10, 1.62271245e-10,\n",
       "        2.51683710e-08, 1.66848608e-13, 3.93972476e-16, 1.83258230e-07,\n",
       "        3.83587579e-12, 7.52614732e-09, 8.71973437e-06, 4.51589209e-14,\n",
       "        6.99874015e-12, 9.25134022e-40, 2.82594325e-21, 2.87571769e-27,\n",
       "        2.15172065e-21, 8.14911564e-21, 1.08157553e-20, 5.97363373e-13,\n",
       "        7.73781355e-18, 4.21227122e-01, 2.50207132e-37, 7.09641368e-18,\n",
       "        5.12367817e-19, 9.28835600e-05, 8.82172967e-24, 8.91407454e-13,\n",
       "        8.77629298e-21, 3.21614111e-24, 1.09757052e-37, 2.36476289e-14,\n",
       "        9.11001091e-15, 6.81841668e-12, 1.63786893e-09, 3.35128740e-09,\n",
       "        1.16480198e-04, 1.01202930e-22, 7.13479968e-16, 1.25525563e-26,\n",
       "        5.02970523e-05, 2.32210080e-08, 6.21603865e-09, 4.92570500e-19,\n",
       "        1.13326600e-06, 4.51743157e-07, 9.56079747e-06, 7.50755947e-01,\n",
       "        3.79258303e-07, 6.29537016e-04, 3.03875428e-25, 7.66206274e-01,\n",
       "        9.10017483e-01, 3.69970124e-04, 2.75941912e-07, 2.96985655e-19,\n",
       "        8.78094288e-14, 4.40561378e-08, 7.60478924e-06, 1.93831234e-13,\n",
       "        1.58066250e-10, 1.44100100e-19, 6.98716513e-06, 2.12300896e-12,\n",
       "        6.97536868e-16, 5.52529670e-17, 9.50340403e-20, 1.98129168e-15,\n",
       "        1.32225058e-01, 9.91248704e-09, 1.53631932e-06, 2.92352856e-10,\n",
       "        1.48206063e-05, 4.70388597e-17, 1.25776070e-13, 2.06126195e-17,\n",
       "        4.29663636e-01, 1.30160776e-14, 7.47942784e-01, 1.14831908e-01,\n",
       "        6.48024683e-10, 3.84300924e-02, 7.45734715e-24, 2.38922221e-07,\n",
       "        1.04259799e-01, 1.64716004e-02, 1.03919601e-14, 1.45994304e-19,\n",
       "        1.01779881e-14, 1.18362951e-19, 1.10074192e-16, 5.97572321e-23,\n",
       "        9.99595568e-03, 2.34038098e-02, 1.33266743e-01, 4.63727501e-01,\n",
       "        1.34908762e-01, 9.89104629e-02, 3.62939942e-01, 2.98752499e-02,\n",
       "        6.92513105e-01, 1.11780206e-01, 2.41713425e-01, 1.43195946e-03,\n",
       "        3.63936126e-08, 4.17712864e-06, 4.77939664e-06, 9.97990168e-11,\n",
       "        3.24087901e-13, 1.04830682e-01, 1.20003107e-09, 1.70577556e-02,\n",
       "        5.13429168e-01, 1.04363304e-03, 1.24797578e-11, 5.88775818e-01,\n",
       "        1.67659044e-06, 6.98249272e-06, 8.09650142e-15, 9.72521992e-15,\n",
       "        3.11446006e-10, 7.06114074e-08, 1.68739305e-13, 2.42224088e-11,\n",
       "        8.28338528e-01, 2.93854279e-10, 8.77255312e-01, 8.04665728e-08,\n",
       "        5.83784628e-10, 1.43178943e-11, 1.21613428e-30, 3.95729988e-23,\n",
       "        1.06431841e-11, 1.70381875e-10, 6.02407177e-21, 2.67260471e-23,\n",
       "        8.30226528e-06, 2.70288568e-04, 1.93682683e-05, 3.74363652e-07,\n",
       "        4.84673012e-08, 1.57481333e-06, 2.75709304e-04, 2.12169510e-18,\n",
       "        2.04525039e-05, 1.56390724e-07, 1.66893613e-10, 4.51431564e-14,\n",
       "        3.95917265e-14, 7.37616292e-18, 7.01166952e-07, 1.33062767e-16,\n",
       "        1.96978444e-17, 8.65077003e-20, 3.21156919e-18, 5.00336166e-21,\n",
       "        2.34097375e-11, 1.38178077e-21, 6.18833987e-20, 1.12370515e-04,\n",
       "        2.46756365e-17, 3.60348807e-22, 4.30986969e-07, 1.15476687e-19,\n",
       "        1.22584058e-03, 1.21729623e-14, 1.26566193e-13, 8.62811804e-05,\n",
       "        1.58737784e-26, 1.49088191e-07, 7.62467130e-06, 1.91139941e-14,\n",
       "        9.24957421e-24, 1.05738430e-03, 5.72962887e-05, 3.91589985e-09,\n",
       "        3.49796707e-17, 1.98104448e-13, 9.47025835e-06, 3.73019680e-14,\n",
       "        3.97813491e-18, 2.69987052e-20, 1.91198222e-17, 9.65344387e-16,\n",
       "        4.16369788e-07, 3.94151528e-09, 4.93512938e-07, 2.42065681e-06,\n",
       "        1.22746297e-01, 4.14306907e-09, 2.09391473e-02, 5.08132171e-04,\n",
       "        3.07547236e-20, 2.22020067e-09, 1.25972667e-07, 6.88710631e-22,\n",
       "        6.03071090e-01, 4.10997107e-01, 1.83548021e-03, 6.03880310e-01,\n",
       "        6.25507941e-45, 7.90358629e-01, 4.02683819e-03, 2.84616684e-08,\n",
       "        3.37362394e-01, 5.33213185e-02, 5.53226659e-05, 1.57698715e-11,\n",
       "        1.76898290e-05, 4.33149732e-06, 8.11328585e-06, 1.40098159e-09,\n",
       "        7.44536414e-28, 4.56504477e-25, 1.31394774e-07, 1.29630989e-07,\n",
       "        8.17300787e-05, 2.23725031e-02, 6.91347309e-21, 6.98948195e-21,\n",
       "        1.25075047e-14, 1.40241213e-08, 2.43403227e-06, 6.95019434e-03,\n",
       "        7.24274961e-05, 3.06860733e-01, 4.64065155e-02, 1.31717609e-01,\n",
       "        1.21158376e-04, 6.89734176e-13, 5.84382745e-03, 8.38717837e-19,\n",
       "        5.83723572e-04]))"
      ]
     },
     "execution_count": 72,
     "metadata": {},
     "output_type": "execute_result"
    }
   ],
   "source": [
    "univariate = f_classif(X_train, y_train)\n",
    "univariate"
   ]
  },
  {
   "cell_type": "code",
   "execution_count": 73,
   "id": "053419e0-355f-4036-9978-eb70b0efb2d1",
   "metadata": {},
   "outputs": [],
   "source": [
    "univariate  = pd.Series(univariate[1]) # choose the p-values\n",
    "univariate.index = X_train.columns\n",
    "univariate.sort_values(ascending = False, inplace = True)"
   ]
  },
  {
   "cell_type": "code",
   "execution_count": 196,
   "id": "1007cdca",
   "metadata": {},
   "outputs": [
    {
     "data": {
      "image/png": "[encoded data removed]",
      "text/plain": [
       "<Figure size 2000x800 with 1 Axes>"
      ]
     },
     "metadata": {},
     "output_type": "display_data"
    }
   ],
   "source": [
    "ax = univariate.plot.bar(figsize=(20, 8))\n",
    "\n",
    "# Remove x-axis labels\n",
    "plt.xticks([])\n",
    "plt.title('ANOVA p-values with respect to target variable')\n",
    "plt.ylabel('p-value')\n",
    "plt.show()"
   ]
  },
  {
   "cell_type": "markdown",
   "id": "45702222-db73-4c8c-8877-51fe0f300d98",
   "metadata": {},
   "source": [
    "Lower p value means most predictive features."
   ]
  },
  {
   "cell_type": "code",
   "execution_count": 75,
   "id": "c83b635f-a8dd-4bc3-ac34-defedfa675d8",
   "metadata": {},
   "outputs": [
    {
     "name": "stdout",
     "output_type": "stream",
     "text": [
      "Number of features to be removed: 112\n"
     ]
    },
    {
     "data": {
      "text/plain": [
       "Index(['X37', 'X312', 'X186', 'X497', 'X586', 'X349', 'X40', 'X137', 'X359',\n",
       "       'X583',\n",
       "       ...\n",
       "       'X229', 'X51', 'X108', 'X241', 'X156', 'X14', 'X55', 'X191', 'X687',\n",
       "       'X78'],\n",
       "      dtype='object', length=112)"
      ]
     },
     "execution_count": 75,
     "metadata": {},
     "output_type": "execute_result"
    }
   ],
   "source": [
    "print(f'Number of features to be removed: {len(univariate.loc[univariate > 0.05].index)}')\n",
    "\n",
    "univariate.loc[univariate > 0.05].index"
   ]
  },
  {
   "cell_type": "code",
   "execution_count": 76,
   "id": "054e069a",
   "metadata": {},
   "outputs": [],
   "source": [
    "X_train = X_train[univariate.loc[univariate < 0.05].index]\n",
    "X_test = X_test[univariate.loc[univariate < 0.05].index]"
   ]
  },
  {
   "cell_type": "code",
   "execution_count": 77,
   "id": "95b7a50e",
   "metadata": {},
   "outputs": [
    {
     "data": {
      "text/plain": [
       "((510, 505), (128, 505))"
      ]
     },
     "execution_count": 77,
     "metadata": {},
     "output_type": "execute_result"
    }
   ],
   "source": [
    "X_train.shape, X_test.shape"
   ]
  },
  {
   "attachments": {},
   "cell_type": "markdown",
   "id": "8db65611",
   "metadata": {},
   "source": [
    "### Univariate Model Performance Based Feature Selection"
   ]
  },
  {
   "cell_type": "code",
   "execution_count": 106,
   "id": "4235fad2",
   "metadata": {},
   "outputs": [],
   "source": [
    "accuracy_scores = []\n",
    "\n",
    "for feature in X_train.columns:\n",
    "    clf = DecisionTreeClassifier()\n",
    "    clf.fit(X_train[feature].to_frame(), y_train)\n",
    "    y_scored = clf.predict_proba(X_test[feature].to_frame())\n",
    "    y_scored = np.argmax(y_scored, axis = 1).flatten()\n",
    "    accuracy_scores.append(accuracy_score(y_test, y_scored))"
   ]
  },
  {
   "cell_type": "code",
   "execution_count": 109,
   "id": "9d1ee816",
   "metadata": {},
   "outputs": [],
   "source": [
    "ac_scores = pd.Series(accuracy_scores)\n",
    "ac_scores.index = X_train.columns\n",
    "ac_scores = ac_scores.sort_values(ascending=False)"
   ]
  },
  {
   "cell_type": "code",
   "execution_count": 197,
   "id": "51c1f202",
   "metadata": {},
   "outputs": [
    {
     "data": {
      "image/png": "[encoded data removed]",
      "text/plain": [
       "<Figure size 2000x800 with 1 Axes>"
      ]
     },
     "metadata": {},
     "output_type": "display_data"
    }
   ],
   "source": [
    "ax = ac_scores.plot.bar(figsize=(20, 8))\n",
    "\n",
    "plt.xticks([])\n",
    "plt.title('Accuracy scores (Decision Tree) with respect to target variable')\n",
    "plt.ylabel('Accuracy')\n",
    "plt.show()"
   ]
  },
  {
   "attachments": {},
   "cell_type": "markdown",
   "id": "ff1fc425",
   "metadata": {},
   "source": [
    "I will eleminate features which their accuracy is lower than the random classifier. Since we have 4 classes it is going to be 0.25."
   ]
  },
  {
   "cell_type": "code",
   "execution_count": 198,
   "id": "48eb1671",
   "metadata": {},
   "outputs": [
    {
     "name": "stdout",
     "output_type": "stream",
     "text": [
      "Number of features that doesn't have prediction power 7\n"
     ]
    },
    {
     "data": {
      "text/plain": [
       "Index(['X30', 'X476', 'X620', 'X2', 'X269', 'X680', 'X601'], dtype='object')"
      ]
     },
     "execution_count": 198,
     "metadata": {},
     "output_type": "execute_result"
    }
   ],
   "source": [
    "print(\"Number of features that doesn't have prediction power {}\".format(len(ac_scores[ac_scores < 0.25])))\n",
    "ac_scores[ac_scores < 0.25].index"
   ]
  },
  {
   "cell_type": "code",
   "execution_count": 118,
   "id": "32444db6",
   "metadata": {},
   "outputs": [],
   "source": [
    "X_train = X_train[ac_scores[ac_scores > 0.25].index]\n",
    "X_test = X_test[ac_scores[ac_scores > 0.25].index]"
   ]
  },
  {
   "cell_type": "code",
   "execution_count": 119,
   "id": "28a7c284",
   "metadata": {},
   "outputs": [
    {
     "data": {
      "text/plain": [
       "((510, 496), (128, 496))"
      ]
     },
     "execution_count": 119,
     "metadata": {},
     "output_type": "execute_result"
    }
   ],
   "source": [
    "X_train.shape, X_test.shape"
   ]
  },
  {
   "attachments": {},
   "cell_type": "markdown",
   "id": "45361896",
   "metadata": {},
   "source": [
    "### Step Forward Feature Selection"
   ]
  },
  {
   "cell_type": "code",
   "execution_count": 189,
   "id": "c830dc68",
   "metadata": {},
   "outputs": [
    {
     "data": {
      "text/html": [
       "<style>#sk-container-id-10 {color: black;}#sk-container-id-10 pre{padding: 0;}#sk-container-id-10 div.sk-toggleable {background-color: white;}#sk-container-id-10 label.sk-toggleable__label {cursor: pointer;display: block;width: 100%;margin-bottom: 0;padding: 0.3em;box-sizing: border-box;text-align: center;}#sk-container-id-10 label.sk-toggleable__label-arrow:before {content: \"▸\";float: left;margin-right: 0.25em;color: #696969;}#sk-container-id-10 label.sk-toggleable__label-arrow:hover:before {color: black;}#sk-container-id-10 div.sk-estimator:hover label.sk-toggleable__label-arrow:before {color: black;}#sk-container-id-10 div.sk-toggleable__content {max-height: 0;max-width: 0;overflow: hidden;text-align: left;background-color: #f0f8ff;}#sk-container-id-10 div.sk-toggleable__content pre {margin: 0.2em;color: black;border-radius: 0.25em;background-color: #f0f8ff;}#sk-container-id-10 input.sk-toggleable__control:checked~div.sk-toggleable__content {max-height: 200px;max-width: 100%;overflow: auto;}#sk-container-id-10 input.sk-toggleable__control:checked~label.sk-toggleable__label-arrow:before {content: \"▾\";}#sk-container-id-10 div.sk-estimator input.sk-toggleable__control:checked~label.sk-toggleable__label {background-color: #d4ebff;}#sk-container-id-10 div.sk-label input.sk-toggleable__control:checked~label.sk-toggleable__label {background-color: #d4ebff;}#sk-container-id-10 input.sk-hidden--visually {border: 0;clip: rect(1px 1px 1px 1px);clip: rect(1px, 1px, 1px, 1px);height: 1px;margin: -1px;overflow: hidden;padding: 0;position: absolute;width: 1px;}#sk-container-id-10 div.sk-estimator {font-family: monospace;background-color: #f0f8ff;border: 1px dotted black;border-radius: 0.25em;box-sizing: border-box;margin-bottom: 0.5em;}#sk-container-id-10 div.sk-estimator:hover {background-color: #d4ebff;}#sk-container-id-10 div.sk-parallel-item::after {content: \"\";width: 100%;border-bottom: 1px solid gray;flex-grow: 1;}#sk-container-id-10 div.sk-label:hover label.sk-toggleable__label {background-color: #d4ebff;}#sk-container-id-10 div.sk-serial::before {content: \"\";position: absolute;border-left: 1px solid gray;box-sizing: border-box;top: 0;bottom: 0;left: 50%;z-index: 0;}#sk-container-id-10 div.sk-serial {display: flex;flex-direction: column;align-items: center;background-color: white;padding-right: 0.2em;padding-left: 0.2em;position: relative;}#sk-container-id-10 div.sk-item {position: relative;z-index: 1;}#sk-container-id-10 div.sk-parallel {display: flex;align-items: stretch;justify-content: center;background-color: white;position: relative;}#sk-container-id-10 div.sk-item::before, #sk-container-id-10 div.sk-parallel-item::before {content: \"\";position: absolute;border-left: 1px solid gray;box-sizing: border-box;top: 0;bottom: 0;left: 50%;z-index: -1;}#sk-container-id-10 div.sk-parallel-item {display: flex;flex-direction: column;z-index: 1;position: relative;background-color: white;}#sk-container-id-10 div.sk-parallel-item:first-child::after {align-self: flex-end;width: 50%;}#sk-container-id-10 div.sk-parallel-item:last-child::after {align-self: flex-start;width: 50%;}#sk-container-id-10 div.sk-parallel-item:only-child::after {width: 0;}#sk-container-id-10 div.sk-dashed-wrapped {border: 1px dashed gray;margin: 0 0.4em 0.5em 0.4em;box-sizing: border-box;padding-bottom: 0.4em;background-color: white;}#sk-container-id-10 div.sk-label label {font-family: monospace;font-weight: bold;display: inline-block;line-height: 1.2em;}#sk-container-id-10 div.sk-label-container {text-align: center;}#sk-container-id-10 div.sk-container {/* jupyter's `normalize.less` sets `[hidden] { display: none; }` but bootstrap.min.css set `[hidden] { display: none !important; }` so we also need the `!important` here to be able to override the default hidden behavior on the sphinx rendered scikit-learn.org. See: https://github.com/scikit-learn/scikit-learn/issues/21755 */display: inline-block !important;position: relative;}#sk-container-id-10 div.sk-text-repr-fallback {display: none;}</style><div id=\"sk-container-id-10\" class=\"sk-top-container\"><div class=\"sk-text-repr-fallback\"><pre>SequentialFeatureSelector(estimator=XGBClassifier(base_score=None, booster=None,\n",
       "                                                  callbacks=None,\n",
       "                                                  colsample_bylevel=None,\n",
       "                                                  colsample_bynode=None,\n",
       "                                                  colsample_bytree=None,\n",
       "                                                  device=None,\n",
       "                                                  early_stopping_rounds=None,\n",
       "                                                  enable_categorical=False,\n",
       "                                                  eval_metric=None,\n",
       "                                                  feature_types=None,\n",
       "                                                  gamma=None, grow_policy=None,\n",
       "                                                  importance_type=None,\n",
       "                                                  interaction_constraints=None,\n",
       "                                                  learning_rate=None,\n",
       "                                                  max_bin=None,\n",
       "                                                  max_cat_threshold=None,\n",
       "                                                  max_cat_to_onehot=None,\n",
       "                                                  max_delta_step=None,\n",
       "                                                  max_depth=3, max_leaves=None,\n",
       "                                                  min_child_weight=None,\n",
       "                                                  missing=nan,\n",
       "                                                  monotone_constraints=None,\n",
       "                                                  multi_strategy=None,\n",
       "                                                  n_estimators=5, n_jobs=None,\n",
       "                                                  num_parallel_tree=None,\n",
       "                                                  objective=&#x27;multi:softmax&#x27;, ...),\n",
       "                          n_jobs=4, scoring=&#x27;accuracy&#x27;, tol=0.0001)</pre><b>In a Jupyter environment, please rerun this cell to show the HTML representation or trust the notebook. <br />On GitHub, the HTML representation is unable to render, please try loading this page with nbviewer.org.</b></div><div class=\"sk-container\" hidden><div class=\"sk-item sk-dashed-wrapped\"><div class=\"sk-label-container\"><div class=\"sk-label sk-toggleable\"><input class=\"sk-toggleable__control sk-hidden--visually\" id=\"sk-estimator-id-24\" type=\"checkbox\" ><label for=\"sk-estimator-id-24\" class=\"sk-toggleable__label sk-toggleable__label-arrow\">SequentialFeatureSelector</label><div class=\"sk-toggleable__content\"><pre>SequentialFeatureSelector(estimator=XGBClassifier(base_score=None, booster=None,\n",
       "                                                  callbacks=None,\n",
       "                                                  colsample_bylevel=None,\n",
       "                                                  colsample_bynode=None,\n",
       "                                                  colsample_bytree=None,\n",
       "                                                  device=None,\n",
       "                                                  early_stopping_rounds=None,\n",
       "                                                  enable_categorical=False,\n",
       "                                                  eval_metric=None,\n",
       "                                                  feature_types=None,\n",
       "                                                  gamma=None, grow_policy=None,\n",
       "                                                  importance_type=None,\n",
       "                                                  interaction_constraints=None,\n",
       "                                                  learning_rate=None,\n",
       "                                                  max_bin=None,\n",
       "                                                  max_cat_threshold=None,\n",
       "                                                  max_cat_to_onehot=None,\n",
       "                                                  max_delta_step=None,\n",
       "                                                  max_depth=3, max_leaves=None,\n",
       "                                                  min_child_weight=None,\n",
       "                                                  missing=nan,\n",
       "                                                  monotone_constraints=None,\n",
       "                                                  multi_strategy=None,\n",
       "                                                  n_estimators=5, n_jobs=None,\n",
       "                                                  num_parallel_tree=None,\n",
       "                                                  objective=&#x27;multi:softmax&#x27;, ...),\n",
       "                          n_jobs=4, scoring=&#x27;accuracy&#x27;, tol=0.0001)</pre></div></div></div><div class=\"sk-parallel\"><div class=\"sk-parallel-item\"><div class=\"sk-item\"><div class=\"sk-label-container\"><div class=\"sk-label sk-toggleable\"><input class=\"sk-toggleable__control sk-hidden--visually\" id=\"sk-estimator-id-25\" type=\"checkbox\" ><label for=\"sk-estimator-id-25\" class=\"sk-toggleable__label sk-toggleable__label-arrow\">estimator: XGBClassifier</label><div class=\"sk-toggleable__content\"><pre>XGBClassifier(base_score=None, booster=None, callbacks=None,\n",
       "              colsample_bylevel=None, colsample_bynode=None,\n",
       "              colsample_bytree=None, device=None, early_stopping_rounds=None,\n",
       "              enable_categorical=False, eval_metric=None, feature_types=None,\n",
       "              gamma=None, grow_policy=None, importance_type=None,\n",
       "              interaction_constraints=None, learning_rate=None, max_bin=None,\n",
       "              max_cat_threshold=None, max_cat_to_onehot=None,\n",
       "              max_delta_step=None, max_depth=3, max_leaves=None,\n",
       "              min_child_weight=None, missing=nan, monotone_constraints=None,\n",
       "              multi_strategy=None, n_estimators=5, n_jobs=None,\n",
       "              num_parallel_tree=None, objective=&#x27;multi:softmax&#x27;, ...)</pre></div></div></div><div class=\"sk-serial\"><div class=\"sk-item\"><div class=\"sk-estimator sk-toggleable\"><input class=\"sk-toggleable__control sk-hidden--visually\" id=\"sk-estimator-id-26\" type=\"checkbox\" ><label for=\"sk-estimator-id-26\" class=\"sk-toggleable__label sk-toggleable__label-arrow\">XGBClassifier</label><div class=\"sk-toggleable__content\"><pre>XGBClassifier(base_score=None, booster=None, callbacks=None,\n",
       "              colsample_bylevel=None, colsample_bynode=None,\n",
       "              colsample_bytree=None, device=None, early_stopping_rounds=None,\n",
       "              enable_categorical=False, eval_metric=None, feature_types=None,\n",
       "              gamma=None, grow_policy=None, importance_type=None,\n",
       "              interaction_constraints=None, learning_rate=None, max_bin=None,\n",
       "              max_cat_threshold=None, max_cat_to_onehot=None,\n",
       "              max_delta_step=None, max_depth=3, max_leaves=None,\n",
       "              min_child_weight=None, missing=nan, monotone_constraints=None,\n",
       "              multi_strategy=None, n_estimators=5, n_jobs=None,\n",
       "              num_parallel_tree=None, objective=&#x27;multi:softmax&#x27;, ...)</pre></div></div></div></div></div></div></div></div></div></div>"
      ],
      "text/plain": [
       "SequentialFeatureSelector(estimator=XGBClassifier(base_score=None, booster=None,\n",
       "                                                  callbacks=None,\n",
       "                                                  colsample_bylevel=None,\n",
       "                                                  colsample_bynode=None,\n",
       "                                                  colsample_bytree=None,\n",
       "                                                  device=None,\n",
       "                                                  early_stopping_rounds=None,\n",
       "                                                  enable_categorical=False,\n",
       "                                                  eval_metric=None,\n",
       "                                                  feature_types=None,\n",
       "                                                  gamma=None, grow_policy=None,\n",
       "                                                  importance_type=None,\n",
       "                                                  interaction_constraints=None,\n",
       "                                                  learning_rate=None,\n",
       "                                                  max_bin=None,\n",
       "                                                  max_cat_threshold=None,\n",
       "                                                  max_cat_to_onehot=None,\n",
       "                                                  max_delta_step=None,\n",
       "                                                  max_depth=3, max_leaves=None,\n",
       "                                                  min_child_weight=None,\n",
       "                                                  missing=nan,\n",
       "                                                  monotone_constraints=None,\n",
       "                                                  multi_strategy=None,\n",
       "                                                  n_estimators=5, n_jobs=None,\n",
       "                                                  num_parallel_tree=None,\n",
       "                                                  objective='multi:softmax', ...),\n",
       "                          n_jobs=4, scoring='accuracy', tol=0.0001)"
      ]
     },
     "execution_count": 189,
     "metadata": {},
     "output_type": "execute_result"
    }
   ],
   "source": [
    "sfs = SFS(\n",
    "    estimator = xgb.XGBClassifier(objective='multi:softmax', max_depth = 3, reg_lambda = 5, n_estimators = 5, seed=11),\n",
    "    n_features_to_select = 'auto',\n",
    "    tol = 0.0001,\n",
    "    direction='forward',\n",
    "    scoring = 'accuracy',\n",
    "    cv = 5,\n",
    "    n_jobs = 4   \n",
    ")\n",
    "\n",
    "sfs.fit(X_train, y_train)"
   ]
  },
  {
   "cell_type": "code",
   "execution_count": 190,
   "id": "37743216",
   "metadata": {},
   "outputs": [
    {
     "data": {
      "text/plain": [
       "array(['X534', 'X484', 'X426', 'X284', 'X684'], dtype=object)"
      ]
     },
     "execution_count": 190,
     "metadata": {},
     "output_type": "execute_result"
    }
   ],
   "source": [
    "sfs.get_feature_names_out()"
   ]
  },
  {
   "attachments": {},
   "cell_type": "markdown",
   "id": "ef55b46a",
   "metadata": {},
   "source": [
    "### Training with selected features"
   ]
  },
  {
   "attachments": {},
   "cell_type": "markdown",
   "id": "574f973d",
   "metadata": {},
   "source": [
    "#### Prediction on Train Set"
   ]
  },
  {
   "cell_type": "code",
   "execution_count": 191,
   "id": "58d97c3a",
   "metadata": {},
   "outputs": [
    {
     "name": "stdout",
     "output_type": "stream",
     "text": [
      "0.7294117647058823\n"
     ]
    }
   ],
   "source": [
    "# train a logistic regression model using the selected features for TRAIN\n",
    "clf = xgb.XGBClassifier(objective='multi:softmax', max_depth = 3, reg_lambda = 5, n_estimators = 5, seed=11)\n",
    "clf.fit(X_train[sfs.get_feature_names_out()], y_train)\n",
    "preds = clf.predict(X_train[sfs.get_feature_names_out()])\n",
    "acc = accuracy_score(y_train, preds)\n",
    "print(acc)"
   ]
  },
  {
   "attachments": {},
   "cell_type": "markdown",
   "id": "7b8aa213",
   "metadata": {},
   "source": [
    "#### Prediction on Test Set"
   ]
  },
  {
   "cell_type": "code",
   "execution_count": 192,
   "id": "e3b0bdb0",
   "metadata": {},
   "outputs": [
    {
     "name": "stdout",
     "output_type": "stream",
     "text": [
      "0.5703125\n"
     ]
    }
   ],
   "source": [
    "# For TEST\n",
    "preds = clf.predict(X_test[sfs.get_feature_names_out()])\n",
    "acc = accuracy_score(y_test, preds)\n",
    "print(acc)"
   ]
  },
  {
   "attachments": {},
   "cell_type": "markdown",
   "id": "971d7737",
   "metadata": {},
   "source": [
    "### Training with whole features (After few feature selection step)"
   ]
  },
  {
   "attachments": {},
   "cell_type": "markdown",
   "id": "77ecd6c7",
   "metadata": {},
   "source": [
    "#### Prediction on Train Set"
   ]
  },
  {
   "cell_type": "code",
   "execution_count": 193,
   "id": "1e4e13ac",
   "metadata": {},
   "outputs": [
    {
     "name": "stdout",
     "output_type": "stream",
     "text": [
      "0.9196078431372549\n"
     ]
    }
   ],
   "source": [
    "# train a logistic regression model for TRAIN\n",
    "clf = xgb.XGBClassifier(objective='multi:softmax', max_depth = 3, reg_lambda = 5, n_estimators = 5, seed=11)\n",
    "clf.fit(X_train, y_train)\n",
    "preds = clf.predict(X_train)\n",
    "acc = accuracy_score(y_train, preds)\n",
    "print(acc)"
   ]
  },
  {
   "attachments": {},
   "cell_type": "markdown",
   "id": "585c6723",
   "metadata": {},
   "source": [
    "#### Prediction on Test Set"
   ]
  },
  {
   "cell_type": "code",
   "execution_count": 194,
   "id": "9b78eb0e",
   "metadata": {},
   "outputs": [
    {
     "name": "stdout",
     "output_type": "stream",
     "text": [
      "0.5703125\n"
     ]
    }
   ],
   "source": [
    "# For TEST\n",
    "preds = clf.predict(X_test)\n",
    "acc = accuracy_score(y_test, preds)\n",
    "print(acc)"
   ]
  },
  {
   "attachments": {},
   "cell_type": "markdown",
   "id": "c983f787",
   "metadata": {},
   "source": [
    "It's seen that feature elemination reduced some overfitting without losing any performance on the test set. After all of the steps we came from 718 features to 5 features. Seems like most of the features we had actually doesn't have prediction power."
   ]
  },
  {
   "attachments": {},
   "cell_type": "markdown",
   "id": "8a81a2cf",
   "metadata": {},
   "source": [
    "## Test on Binary Target"
   ]
  },
  {
   "attachments": {},
   "cell_type": "markdown",
   "id": "20d0d513",
   "metadata": {},
   "source": [
    "#### Data Preprocessing"
   ]
  },
  {
   "cell_type": "code",
   "execution_count": 21,
   "id": "c2d9ea65",
   "metadata": {},
   "outputs": [],
   "source": [
    "selected_features = ['X534', 'X484', 'X426', 'X284', 'X684']\n",
    "\n",
    "binary_data = df.drop('Group', axis=1)\n",
    "input_features = binary_data.drop('binary_target', axis=1)\n",
    "\n",
    "X_train, X_test, y_train, y_test = train_test_split(input_features[selected_features], binary_data['binary_target'], \n",
    "                                                    test_size=0.2, random_state=seed)"
   ]
  },
  {
   "attachments": {},
   "cell_type": "markdown",
   "id": "18dadd4b",
   "metadata": {},
   "source": [
    "### Model Training"
   ]
  },
  {
   "attachments": {},
   "cell_type": "markdown",
   "id": "57a1f987",
   "metadata": {},
   "source": [
    "#### Prediction on Train Set"
   ]
  },
  {
   "cell_type": "code",
   "execution_count": 57,
   "id": "b61b5278",
   "metadata": {},
   "outputs": [
    {
     "name": "stdout",
     "output_type": "stream",
     "text": [
      "0.9882352941176471\n"
     ]
    }
   ],
   "source": [
    "# train a logistic regression model for TRAIN\n",
    "clf = xgb.XGBClassifier(objective='binary:logistic', max_depth = 3, n_estimators = 10, seed=11)\n",
    "clf.fit(X_train, y_train)\n",
    "preds = clf.predict(X_train)\n",
    "acc = accuracy_score(y_train, preds)\n",
    "print(acc)"
   ]
  },
  {
   "attachments": {},
   "cell_type": "markdown",
   "id": "84e3498f",
   "metadata": {},
   "source": [
    "#### Prediction on Test Set"
   ]
  },
  {
   "cell_type": "code",
   "execution_count": 58,
   "id": "1bc1fbdc",
   "metadata": {},
   "outputs": [
    {
     "name": "stdout",
     "output_type": "stream",
     "text": [
      "0.9765625\n"
     ]
    }
   ],
   "source": [
    "preds = clf.predict(X_test)\n",
    "acc = accuracy_score(y_test, preds)\n",
    "print(acc)"
   ]
  },
  {
   "attachments": {},
   "cell_type": "markdown",
   "id": "88a58e3b",
   "metadata": {},
   "source": [
    "It's also seen that for binary clasiffication the performance is just dropped around 1% - 1.5%. This also proves the most of the features in the dataset are not informative. The cause of this would be data compression that performed in data preparation step. Squeezing high number of voxels to the areas making us to lost lots of information and the areas are going to be non-distinguishable (more or less similar to each other) by machine learning algorithms."
   ]
  }
 ],
 "metadata": {
  "kernelspec": {
   "display_name": "base",
   "language": "python",
   "name": "python3"
  },
  "language_info": {
   "codemirror_mode": {
    "name": "ipython",
    "version": 3
   },
   "file_extension": ".py",
   "mimetype": "text/x-python",
   "name": "python",
   "nbconvert_exporter": "python",
   "pygments_lexer": "ipython3",
   "version": "3.10.8"
  },
  "vscode": {
   "interpreter": {
    "hash": "c6e4e9f98eb68ad3b7c296f83d20e6de614cb42e90992a65aa266555a3137d0d"
   }
  }
 },
 "nbformat": 4,
 "nbformat_minor": 5
}

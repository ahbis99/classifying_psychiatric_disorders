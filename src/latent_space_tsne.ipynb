{
 "cells": [
  {
   "cell_type": "code",
   "execution_count": 13,
   "metadata": {},
   "outputs": [],
   "source": [
    "import pandas as pd\n",
    "import matplotlib.pyplot as plt\n",
    "from sklearn.manifold import TSNE\n",
    "from sklearn.decomposition import PCA\n",
    "\n",
    "DATA_SOURCE_PATH = '../../data/processed/pscalar/neural_gbc_nn.csv'\n",
    "data = pd.read_csv(DATA_SOURCE_PATH)\n",
    "PANSS_selector = list(data.columns[data.columns.str.contains('PANSS')])\n",
    "data_filtered = data.drop(PANSS_selector+['Group', 'id'], axis=1)"
   ]
  },
  {
   "cell_type": "code",
   "execution_count": 14,
   "metadata": {},
   "outputs": [
    {
     "data": {
      "text/plain": [
       "Index(['X1', 'X2', 'X3', 'X4', 'X5', 'X6', 'X7', 'X8', 'X9', 'X10',\n",
       "       ...\n",
       "       'X709', 'X710', 'X711', 'X712', 'X713', 'X714', 'X715', 'X716', 'X717',\n",
       "       'X718'],\n",
       "      dtype='object', length=718)"
      ]
     },
     "execution_count": 14,
     "metadata": {},
     "output_type": "execute_result"
    }
   ],
   "source": [
    "data_filtered.columns"
   ]
  },
  {
   "cell_type": "code",
   "execution_count": 28,
   "metadata": {},
   "outputs": [],
   "source": [
    "PCA_model = PCA(n_components=50)\n",
    "PCA_data = PCA_model.fit_transform(data_filtered)"
   ]
  },
  {
   "cell_type": "markdown",
   "metadata": {},
   "source": [
    "# 2D Latent Space"
   ]
  },
  {
   "cell_type": "code",
   "execution_count": 49,
   "metadata": {},
   "outputs": [],
   "source": [
    "TSNE_model = TSNE(n_components=2, perplexity=500, n_iter=2000)\n",
    "TSNE_data = TSNE_model.fit_transform(PCA_data)"
   ]
  },
  {
   "cell_type": "code",
   "execution_count": 50,
   "metadata": {},
   "outputs": [],
   "source": [
    "TSNE_data = pd.DataFrame(TSNE_data, columns=['x', 'y'])\n",
    "TSNE_data['Group'] = data['Group']"
   ]
  },
  {
   "cell_type": "code",
   "execution_count": 51,
   "metadata": {},
   "outputs": [],
   "source": [
    "embeddings_2d_shallow = TSNE_data[['x', 'y']].to_numpy()\n",
    "from sklearn.preprocessing import LabelEncoder\n",
    "le = LabelEncoder()\n",
    "group_labels = data['Group'].to_numpy()\n",
    "group_labels = le.fit_transform(group_labels)"
   ]
  },
  {
   "cell_type": "code",
   "execution_count": 69,
   "metadata": {},
   "outputs": [],
   "source": [
    "import matplotlib.pyplot as plt\n",
    "import seaborn as sns\n",
    "\n",
    "# Create a color palette with 4 colors\n",
    "palette = sns.color_palette(\"hls\", 4)\n",
    "\n",
    "# Create the scatter plot\n",
    "for i in range(4):\n",
    "    # Get the encoded inputs for this group\n",
    "    group_inputs = embeddings_2d_shallow[group_labels == i]\n",
    "\n",
    "    original_string = le.inverse_transform([i])[0]\n",
    "\n",
    "    # Plot the encoded inputs for this group\n",
    "    plt.scatter(group_inputs[:, 0], group_inputs[:, 1], color=palette[i], label=f'Group {original_string}')\n",
    "\n",
    "# Show the plot\n",
    "plt.legend()\n",
    "plt.xlabel(r'$\\theta_1$')\n",
    "plt.ylabel(r'$\\theta_2$')\n",
    "plt.title('Latent of shallow 2D encoder')\n",
    "plt.savefig('../final_report/figures/tsne_2d_encoder.svg')\n",
    "plt.show()"
   ]
  },
  {
   "cell_type": "markdown",
   "metadata": {},
   "source": [
    "# 3D Latent Space"
   ]
  },
  {
   "cell_type": "code",
   "execution_count": 70,
   "metadata": {},
   "outputs": [],
   "source": [
    "TSNE_model = TSNE(n_components=3, perplexity=50, n_iter=2000)\n",
    "TSNE_data_3d = TSNE_model.fit_transform(PCA_data)"
   ]
  },
  {
   "cell_type": "code",
   "execution_count": 71,
   "metadata": {},
   "outputs": [],
   "source": [
    "TSNE_data_3d = pd.DataFrame(TSNE_data_3d, columns=['x', 'y', 'z'])\n",
    "TSNE_data_3d['Group'] = data['Group']"
   ]
  },
  {
   "cell_type": "code",
   "execution_count": 72,
   "metadata": {},
   "outputs": [],
   "source": [
    "embeddings_3d = TSNE_data_3d[['x', 'y', 'z']].to_numpy()\n",
    "from sklearn.preprocessing import LabelEncoder\n",
    "le = LabelEncoder()\n",
    "group_labels = data['Group'].to_numpy()\n",
    "group_labels = le.fit_transform(group_labels)"
   ]
  },
  {
   "cell_type": "code",
   "execution_count": 78,
   "metadata": {},
   "outputs": [],
   "source": [
    "%matplotlib qt\n",
    "from mpl_toolkits.mplot3d import Axes3D\n",
    "import seaborn as sns\n",
    "\n",
    "#plt.tight_layout()\n",
    "\n",
    "# Create a new figure\n",
    "fig = plt.figure()\n",
    "\n",
    "# Create a color palette with 4 colors\n",
    "palette = sns.color_palette(\"hls\", 4)\n",
    "\n",
    "# Create a 3D axis\n",
    "ax = fig.add_subplot(111, projection='3d')\n",
    "\n",
    "ax.set_xlabel(r'$\\theta_1$')\n",
    "ax.set_ylabel(r'$\\theta_2$')\n",
    "ax.set_zlabel(r'$\\theta_3$')\n",
    "\n",
    "# Create the scatter plot\n",
    "for i in range(4):\n",
    "    # Get the encoded inputs for this group\n",
    "    group_inputs = embeddings_3d[group_labels == i]\n",
    "\n",
    "    original_string = le.inverse_transform([i])[0]\n",
    "\n",
    "    # Plot the encoded inputs for this group\n",
    "    ax.scatter(group_inputs[:, 0], group_inputs[:, 1], group_inputs[:, 2], color=palette[i], label=f'Group {original_string}')\n",
    "\n",
    "# Show the plot\n",
    "\n",
    "\n",
    "plt.legend()\n",
    "plt.show()"
   ]
  }
 ],
 "metadata": {
  "kernelspec": {
   "display_name": "ds_competition",
   "language": "python",
   "name": "python3"
  },
  "language_info": {
   "codemirror_mode": {
    "name": "ipython",
    "version": 3
   },
   "file_extension": ".py",
   "mimetype": "text/x-python",
   "name": "python",
   "nbconvert_exporter": "python",
   "pygments_lexer": "ipython3",
   "version": "3.10.13"
  }
 },
 "nbformat": 4,
 "nbformat_minor": 2
}

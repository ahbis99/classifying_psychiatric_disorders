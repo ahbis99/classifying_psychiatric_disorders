{
 "cells": [
  {
   "cell_type": "code",
   "execution_count": 2,
   "metadata": {},
   "outputs": [],
   "source": [
    "import pandas as pd\n",
    "from sklearn.model_selection import train_test_split\n",
    "from sklearn.model_selection import GridSearchCV, RandomizedSearchCV\n",
    "from sklearn.metrics import accuracy_score\n",
    "from sklearn.neural_network import MLPClassifier\n",
    "import seaborn as sns\n",
    "import matplotlib as plt\n",
    "import IPython.display as disp\n",
    "import numpy as np"
   ]
  },
  {
   "cell_type": "code",
   "execution_count": 20,
   "metadata": {},
   "outputs": [
    {
     "data": {
      "text/html": [
       "<div>\n",
       "<style scoped>\n",
       "    .dataframe tbody tr th:only-of-type {\n",
       "        vertical-align: middle;\n",
       "    }\n",
       "\n",
       "    .dataframe tbody tr th {\n",
       "        vertical-align: top;\n",
       "    }\n",
       "\n",
       "    .dataframe thead th {\n",
       "        text-align: right;\n",
       "    }\n",
       "</style>\n",
       "<table border=\"1\" class=\"dataframe\">\n",
       "  <thead>\n",
       "    <tr style=\"text-align: right;\">\n",
       "      <th></th>\n",
       "      <th>session_id</th>\n",
       "      <th>Group</th>\n",
       "      <th>X1</th>\n",
       "      <th>X2</th>\n",
       "      <th>X3</th>\n",
       "      <th>X4</th>\n",
       "      <th>X5</th>\n",
       "      <th>X6</th>\n",
       "      <th>X7</th>\n",
       "      <th>X8</th>\n",
       "      <th>X9</th>\n",
       "      <th>X10</th>\n",
       "      <th>X11</th>\n",
       "      <th>X12</th>\n",
       "    </tr>\n",
       "  </thead>\n",
       "  <tbody>\n",
       "    <tr>\n",
       "      <th>0</th>\n",
       "      <td>S0009QPW3</td>\n",
       "      <td>SADP</td>\n",
       "      <td>0.197204</td>\n",
       "      <td>0.188437</td>\n",
       "      <td>-0.073910</td>\n",
       "      <td>-0.029577</td>\n",
       "      <td>0.091751</td>\n",
       "      <td>0.039809</td>\n",
       "      <td>-0.003347</td>\n",
       "      <td>0.071752</td>\n",
       "      <td>-0.004556</td>\n",
       "      <td>0.149077</td>\n",
       "      <td>0.169664</td>\n",
       "      <td>0.154207</td>\n",
       "    </tr>\n",
       "    <tr>\n",
       "      <th>1</th>\n",
       "      <td>S0015SRH1</td>\n",
       "      <td>SCZP</td>\n",
       "      <td>0.083523</td>\n",
       "      <td>0.077612</td>\n",
       "      <td>0.044154</td>\n",
       "      <td>0.068226</td>\n",
       "      <td>0.107891</td>\n",
       "      <td>-0.058259</td>\n",
       "      <td>0.006798</td>\n",
       "      <td>0.105548</td>\n",
       "      <td>-0.030212</td>\n",
       "      <td>0.146827</td>\n",
       "      <td>0.137651</td>\n",
       "      <td>0.096658</td>\n",
       "    </tr>\n",
       "    <tr>\n",
       "      <th>2</th>\n",
       "      <td>S0023IXS1</td>\n",
       "      <td>BPP</td>\n",
       "      <td>0.060220</td>\n",
       "      <td>0.114342</td>\n",
       "      <td>0.002019</td>\n",
       "      <td>0.057420</td>\n",
       "      <td>0.045656</td>\n",
       "      <td>0.102310</td>\n",
       "      <td>-0.015956</td>\n",
       "      <td>0.110451</td>\n",
       "      <td>-0.014829</td>\n",
       "      <td>0.110719</td>\n",
       "      <td>-0.030335</td>\n",
       "      <td>0.094121</td>\n",
       "    </tr>\n",
       "    <tr>\n",
       "      <th>3</th>\n",
       "      <td>S0027SLU2</td>\n",
       "      <td>SCZP</td>\n",
       "      <td>0.101865</td>\n",
       "      <td>0.068121</td>\n",
       "      <td>-0.019243</td>\n",
       "      <td>0.072063</td>\n",
       "      <td>0.109495</td>\n",
       "      <td>0.075429</td>\n",
       "      <td>-0.049261</td>\n",
       "      <td>0.114441</td>\n",
       "      <td>-0.027362</td>\n",
       "      <td>0.160799</td>\n",
       "      <td>0.139472</td>\n",
       "      <td>0.128975</td>\n",
       "    </tr>\n",
       "    <tr>\n",
       "      <th>4</th>\n",
       "      <td>S0053KTM1</td>\n",
       "      <td>SADP</td>\n",
       "      <td>0.051044</td>\n",
       "      <td>0.036711</td>\n",
       "      <td>0.035319</td>\n",
       "      <td>0.064451</td>\n",
       "      <td>0.065408</td>\n",
       "      <td>0.026769</td>\n",
       "      <td>-0.023747</td>\n",
       "      <td>0.096941</td>\n",
       "      <td>-0.045002</td>\n",
       "      <td>0.142513</td>\n",
       "      <td>0.082962</td>\n",
       "      <td>0.099210</td>\n",
       "    </tr>\n",
       "  </tbody>\n",
       "</table>\n",
       "</div>"
      ],
      "text/plain": [
       "  session_id Group        X1        X2        X3        X4        X5  \\\n",
       "0  S0009QPW3  SADP  0.197204  0.188437 -0.073910 -0.029577  0.091751   \n",
       "1  S0015SRH1  SCZP  0.083523  0.077612  0.044154  0.068226  0.107891   \n",
       "2  S0023IXS1   BPP  0.060220  0.114342  0.002019  0.057420  0.045656   \n",
       "3  S0027SLU2  SCZP  0.101865  0.068121 -0.019243  0.072063  0.109495   \n",
       "4  S0053KTM1  SADP  0.051044  0.036711  0.035319  0.064451  0.065408   \n",
       "\n",
       "         X6        X7        X8        X9       X10       X11       X12  \n",
       "0  0.039809 -0.003347  0.071752 -0.004556  0.149077  0.169664  0.154207  \n",
       "1 -0.058259  0.006798  0.105548 -0.030212  0.146827  0.137651  0.096658  \n",
       "2  0.102310 -0.015956  0.110451 -0.014829  0.110719 -0.030335  0.094121  \n",
       "3  0.075429 -0.049261  0.114441 -0.027362  0.160799  0.139472  0.128975  \n",
       "4  0.026769 -0.023747  0.096941 -0.045002  0.142513  0.082962  0.099210  "
      ]
     },
     "metadata": {},
     "output_type": "display_data"
    },
    {
     "data": {
      "text/plain": [
       "Text(0, 0.5, 'Group Count')"
      ]
     },
     "execution_count": 20,
     "metadata": {},
     "output_type": "execute_result"
    },
    {
     "data": {
      "image/png": "[encoded data removed]",
      "text/plain": [
       "<Figure size 640x480 with 1 Axes>"
      ]
     },
     "metadata": {},
     "output_type": "display_data"
    }
   ],
   "source": [
    "# Loading data\n",
    "\n",
    "# Parcellated gbc with 718 features\n",
    "#data = pd.read_csv('../../data/BSNIP_data/BSNIP_data/neural/neural_parcellated_gbc.csv')\n",
    "\n",
    "# Parcellated gbc with 12 features (old)\n",
    "#data = pd.read_csv('../../data/processed/pscalar/cole_anticevic_pscalar.csv')\n",
    "\n",
    "# Parcellated gbc with 12 features (new)\n",
    "data = pd.read_csv('../../data/processed/pscalar/BSNIP_cole_anticevic_2_pscalar.csv')\n",
    "\n",
    "disp.display(data.head())\n",
    "\n",
    "# Evaluating data imbalance\n",
    "\n",
    "ax = sns.countplot(data, x='Group')\n",
    "ax.set_title('Disease Groups Distribution')\n",
    "ax.set_ylabel('Group Count')"
   ]
  },
  {
   "cell_type": "code",
   "execution_count": 21,
   "metadata": {},
   "outputs": [
    {
     "data": {
      "text/html": [
       "<div>\n",
       "<style scoped>\n",
       "    .dataframe tbody tr th:only-of-type {\n",
       "        vertical-align: middle;\n",
       "    }\n",
       "\n",
       "    .dataframe tbody tr th {\n",
       "        vertical-align: top;\n",
       "    }\n",
       "\n",
       "    .dataframe thead th {\n",
       "        text-align: right;\n",
       "    }\n",
       "</style>\n",
       "<table border=\"1\" class=\"dataframe\">\n",
       "  <thead>\n",
       "    <tr style=\"text-align: right;\">\n",
       "      <th></th>\n",
       "      <th>session_id</th>\n",
       "      <th>Group</th>\n",
       "      <th>X1</th>\n",
       "      <th>X2</th>\n",
       "      <th>X3</th>\n",
       "      <th>X4</th>\n",
       "      <th>X5</th>\n",
       "      <th>X6</th>\n",
       "      <th>X7</th>\n",
       "      <th>X8</th>\n",
       "      <th>X9</th>\n",
       "      <th>X10</th>\n",
       "      <th>X11</th>\n",
       "      <th>X12</th>\n",
       "    </tr>\n",
       "  </thead>\n",
       "  <tbody>\n",
       "    <tr>\n",
       "      <th>0</th>\n",
       "      <td>S0009QPW3</td>\n",
       "      <td>SADP</td>\n",
       "      <td>0.197204</td>\n",
       "      <td>0.188437</td>\n",
       "      <td>-0.073910</td>\n",
       "      <td>-0.029577</td>\n",
       "      <td>0.091751</td>\n",
       "      <td>0.039809</td>\n",
       "      <td>-0.003347</td>\n",
       "      <td>0.071752</td>\n",
       "      <td>-0.004556</td>\n",
       "      <td>0.149077</td>\n",
       "      <td>0.169664</td>\n",
       "      <td>0.154207</td>\n",
       "    </tr>\n",
       "    <tr>\n",
       "      <th>1</th>\n",
       "      <td>S0015SRH1</td>\n",
       "      <td>SCZP</td>\n",
       "      <td>0.083523</td>\n",
       "      <td>0.077612</td>\n",
       "      <td>0.044154</td>\n",
       "      <td>0.068226</td>\n",
       "      <td>0.107891</td>\n",
       "      <td>-0.058259</td>\n",
       "      <td>0.006798</td>\n",
       "      <td>0.105548</td>\n",
       "      <td>-0.030212</td>\n",
       "      <td>0.146827</td>\n",
       "      <td>0.137651</td>\n",
       "      <td>0.096658</td>\n",
       "    </tr>\n",
       "    <tr>\n",
       "      <th>2</th>\n",
       "      <td>S0023IXS1</td>\n",
       "      <td>BPP</td>\n",
       "      <td>0.060220</td>\n",
       "      <td>0.114342</td>\n",
       "      <td>0.002019</td>\n",
       "      <td>0.057420</td>\n",
       "      <td>0.045656</td>\n",
       "      <td>0.102310</td>\n",
       "      <td>-0.015956</td>\n",
       "      <td>0.110451</td>\n",
       "      <td>-0.014829</td>\n",
       "      <td>0.110719</td>\n",
       "      <td>-0.030335</td>\n",
       "      <td>0.094121</td>\n",
       "    </tr>\n",
       "    <tr>\n",
       "      <th>3</th>\n",
       "      <td>S0027SLU2</td>\n",
       "      <td>SCZP</td>\n",
       "      <td>0.101865</td>\n",
       "      <td>0.068121</td>\n",
       "      <td>-0.019243</td>\n",
       "      <td>0.072063</td>\n",
       "      <td>0.109495</td>\n",
       "      <td>0.075429</td>\n",
       "      <td>-0.049261</td>\n",
       "      <td>0.114441</td>\n",
       "      <td>-0.027362</td>\n",
       "      <td>0.160799</td>\n",
       "      <td>0.139472</td>\n",
       "      <td>0.128975</td>\n",
       "    </tr>\n",
       "    <tr>\n",
       "      <th>4</th>\n",
       "      <td>S0053KTM1</td>\n",
       "      <td>SADP</td>\n",
       "      <td>0.051044</td>\n",
       "      <td>0.036711</td>\n",
       "      <td>0.035319</td>\n",
       "      <td>0.064451</td>\n",
       "      <td>0.065408</td>\n",
       "      <td>0.026769</td>\n",
       "      <td>-0.023747</td>\n",
       "      <td>0.096941</td>\n",
       "      <td>-0.045002</td>\n",
       "      <td>0.142513</td>\n",
       "      <td>0.082962</td>\n",
       "      <td>0.099210</td>\n",
       "    </tr>\n",
       "    <tr>\n",
       "      <th>...</th>\n",
       "      <td>...</td>\n",
       "      <td>...</td>\n",
       "      <td>...</td>\n",
       "      <td>...</td>\n",
       "      <td>...</td>\n",
       "      <td>...</td>\n",
       "      <td>...</td>\n",
       "      <td>...</td>\n",
       "      <td>...</td>\n",
       "      <td>...</td>\n",
       "      <td>...</td>\n",
       "      <td>...</td>\n",
       "      <td>...</td>\n",
       "      <td>...</td>\n",
       "    </tr>\n",
       "    <tr>\n",
       "      <th>632</th>\n",
       "      <td>S9903MNH1</td>\n",
       "      <td>CON</td>\n",
       "      <td>0.041615</td>\n",
       "      <td>-0.091464</td>\n",
       "      <td>-0.025248</td>\n",
       "      <td>0.097881</td>\n",
       "      <td>-0.002097</td>\n",
       "      <td>0.058520</td>\n",
       "      <td>0.083927</td>\n",
       "      <td>0.094463</td>\n",
       "      <td>0.040060</td>\n",
       "      <td>0.140628</td>\n",
       "      <td>0.068508</td>\n",
       "      <td>0.086871</td>\n",
       "    </tr>\n",
       "    <tr>\n",
       "      <th>633</th>\n",
       "      <td>S9911MFE2</td>\n",
       "      <td>BPP</td>\n",
       "      <td>0.095353</td>\n",
       "      <td>0.009745</td>\n",
       "      <td>0.078837</td>\n",
       "      <td>0.120620</td>\n",
       "      <td>0.076857</td>\n",
       "      <td>0.087226</td>\n",
       "      <td>0.011415</td>\n",
       "      <td>0.062573</td>\n",
       "      <td>-0.091508</td>\n",
       "      <td>0.113248</td>\n",
       "      <td>0.038847</td>\n",
       "      <td>0.061209</td>\n",
       "    </tr>\n",
       "    <tr>\n",
       "      <th>634</th>\n",
       "      <td>S9967ESA3</td>\n",
       "      <td>BPP</td>\n",
       "      <td>0.063686</td>\n",
       "      <td>0.033891</td>\n",
       "      <td>0.023699</td>\n",
       "      <td>0.062646</td>\n",
       "      <td>0.045289</td>\n",
       "      <td>0.083430</td>\n",
       "      <td>-0.051920</td>\n",
       "      <td>0.048840</td>\n",
       "      <td>-0.070826</td>\n",
       "      <td>0.100395</td>\n",
       "      <td>0.075675</td>\n",
       "      <td>0.063417</td>\n",
       "    </tr>\n",
       "    <tr>\n",
       "      <th>635</th>\n",
       "      <td>S9976LRC1</td>\n",
       "      <td>CON</td>\n",
       "      <td>-0.026532</td>\n",
       "      <td>0.020144</td>\n",
       "      <td>0.042124</td>\n",
       "      <td>0.079248</td>\n",
       "      <td>0.113814</td>\n",
       "      <td>0.078303</td>\n",
       "      <td>-0.024345</td>\n",
       "      <td>0.116612</td>\n",
       "      <td>0.032389</td>\n",
       "      <td>0.094794</td>\n",
       "      <td>0.154145</td>\n",
       "      <td>0.135384</td>\n",
       "    </tr>\n",
       "    <tr>\n",
       "      <th>636</th>\n",
       "      <td>S9985PRD1</td>\n",
       "      <td>SCZP</td>\n",
       "      <td>0.132487</td>\n",
       "      <td>0.158719</td>\n",
       "      <td>0.117948</td>\n",
       "      <td>0.097542</td>\n",
       "      <td>0.158020</td>\n",
       "      <td>0.178344</td>\n",
       "      <td>-0.122364</td>\n",
       "      <td>0.097876</td>\n",
       "      <td>-0.102097</td>\n",
       "      <td>0.190117</td>\n",
       "      <td>0.092185</td>\n",
       "      <td>0.041910</td>\n",
       "    </tr>\n",
       "  </tbody>\n",
       "</table>\n",
       "<p>637 rows × 14 columns</p>\n",
       "</div>"
      ],
      "text/plain": [
       "    session_id Group        X1        X2        X3        X4        X5  \\\n",
       "0    S0009QPW3  SADP  0.197204  0.188437 -0.073910 -0.029577  0.091751   \n",
       "1    S0015SRH1  SCZP  0.083523  0.077612  0.044154  0.068226  0.107891   \n",
       "2    S0023IXS1   BPP  0.060220  0.114342  0.002019  0.057420  0.045656   \n",
       "3    S0027SLU2  SCZP  0.101865  0.068121 -0.019243  0.072063  0.109495   \n",
       "4    S0053KTM1  SADP  0.051044  0.036711  0.035319  0.064451  0.065408   \n",
       "..         ...   ...       ...       ...       ...       ...       ...   \n",
       "632  S9903MNH1   CON  0.041615 -0.091464 -0.025248  0.097881 -0.002097   \n",
       "633  S9911MFE2   BPP  0.095353  0.009745  0.078837  0.120620  0.076857   \n",
       "634  S9967ESA3   BPP  0.063686  0.033891  0.023699  0.062646  0.045289   \n",
       "635  S9976LRC1   CON -0.026532  0.020144  0.042124  0.079248  0.113814   \n",
       "636  S9985PRD1  SCZP  0.132487  0.158719  0.117948  0.097542  0.158020   \n",
       "\n",
       "           X6        X7        X8        X9       X10       X11       X12  \n",
       "0    0.039809 -0.003347  0.071752 -0.004556  0.149077  0.169664  0.154207  \n",
       "1   -0.058259  0.006798  0.105548 -0.030212  0.146827  0.137651  0.096658  \n",
       "2    0.102310 -0.015956  0.110451 -0.014829  0.110719 -0.030335  0.094121  \n",
       "3    0.075429 -0.049261  0.114441 -0.027362  0.160799  0.139472  0.128975  \n",
       "4    0.026769 -0.023747  0.096941 -0.045002  0.142513  0.082962  0.099210  \n",
       "..        ...       ...       ...       ...       ...       ...       ...  \n",
       "632  0.058520  0.083927  0.094463  0.040060  0.140628  0.068508  0.086871  \n",
       "633  0.087226  0.011415  0.062573 -0.091508  0.113248  0.038847  0.061209  \n",
       "634  0.083430 -0.051920  0.048840 -0.070826  0.100395  0.075675  0.063417  \n",
       "635  0.078303 -0.024345  0.116612  0.032389  0.094794  0.154145  0.135384  \n",
       "636  0.178344 -0.122364  0.097876 -0.102097  0.190117  0.092185  0.041910  \n",
       "\n",
       "[637 rows x 14 columns]"
      ]
     },
     "execution_count": 21,
     "metadata": {},
     "output_type": "execute_result"
    }
   ],
   "source": [
    "data"
   ]
  },
  {
   "cell_type": "code",
   "execution_count": 22,
   "metadata": {},
   "outputs": [
    {
     "data": {
      "text/plain": [
       "<Axes: xlabel='disease_status', ylabel='count'>"
      ]
     },
     "execution_count": 22,
     "metadata": {},
     "output_type": "execute_result"
    },
    {
     "data": {
      "image/png": "[encoded data removed]",
      "text/plain": [
       "<Figure size 640x480 with 1 Axes>"
      ]
     },
     "metadata": {},
     "output_type": "display_data"
    }
   ],
   "source": [
    "data['disease_status'] = data['Group'].apply(lambda x: 'Control' if x == 'CON' else 'Patient')\n",
    "\n",
    "sns.countplot(data, x='disease_status')"
   ]
  },
  {
   "cell_type": "markdown",
   "metadata": {},
   "source": [
    "# GBC 12 features (new)"
   ]
  },
  {
   "cell_type": "markdown",
   "metadata": {},
   "source": [
    "## Disease Status Classification (Binary Classification)"
   ]
  },
  {
   "cell_type": "code",
   "execution_count": 26,
   "metadata": {},
   "outputs": [
    {
     "name": "stdout",
     "output_type": "stream",
     "text": [
      "Fitting 5 folds for each of 100 candidates, totalling 500 fits\n"
     ]
    },
    {
     "data": {
      "text/plain": [
       "'Best accuracy achieved during hyper-parameter tuning is: 0.7033391574451562'"
      ]
     },
     "metadata": {},
     "output_type": "display_data"
    },
    {
     "data": {
      "text/plain": [
       "\"Best parameters are: {'solver': 'adam', 'learning_rate': 'invscaling', 'hidden_layer_sizes': (100, 100, 100), 'alpha': 1e-10, 'activation': 'relu'}\""
      ]
     },
     "metadata": {},
     "output_type": "display_data"
    },
    {
     "name": "stdout",
     "output_type": "stream",
     "text": [
      "Train accuracy: 0.8271119842829077 +- 0.032851997555848306\n",
      "Test accuracy: 0.6171875 +- 0.08420787394261624\n"
     ]
    }
   ],
   "source": [
    "# Parcellated gbc with 12 features (new)\n",
    "data = pd.read_csv('../../data/processed/pscalar/BSNIP_cole_anticevic_2_pscalar.csv')\n",
    "data['disease_status'] = data['Group'].apply(lambda x: 'Control' if x == 'CON' else 'Patient')\n",
    "X = data.drop(['Group', 'disease_status', 'session_id'], axis=1)\n",
    "y = data['disease_status']\n",
    "\n",
    "X_train, X_test, y_train, y_test = train_test_split(X, y, test_size=0.2, random_state=42)\n",
    "\n",
    "# Hyper-parameter tuning\n",
    "\n",
    "model = MLPClassifier(tol=0.0001, max_iter=1000)\n",
    "\n",
    "params ={\n",
    "    'solver': ['lbfgs','adam', 'sgd'],\n",
    "    'alpha': [10**x for x in range(-1, -13, -3)],\n",
    "    'learning_rate': ['adaptive', 'invscaling', 'adaptive'],\n",
    "    'hidden_layer_sizes': [(50), (100), (100, 50), (100, 100), (50, 100, 50), (100, 50, 100), (100, 100, 100)],\n",
    "    'activation': ['relu', 'logistic', 'tanh']\n",
    "}\n",
    "\n",
    "searcher = RandomizedSearchCV(model, params, n_iter=100, cv=5, random_state=42, n_jobs=-1, verbose=1)\n",
    "\n",
    "searcher.fit(X_train, y_train)\n",
    "\n",
    "disp.display(f\"Best accuracy achieved during hyper-parameter tuning is: {searcher.best_score_}\")\n",
    "disp.display(f\"Best parameters are: {searcher.best_params_}\")\n",
    "\n",
    "# Computing accuracy (results)\n",
    "\n",
    "train_ypred = searcher.predict(X_train)\n",
    "acc_train = accuracy_score(y_train, train_ypred)\n",
    "acc_CI_train = (np.std(train_ypred == y_train) / np.sqrt(len(train_ypred))) * 1.96\n",
    "print(f\"Train accuracy: {acc_train} +- {acc_CI_train}\")\n",
    "\n",
    "test_ypred = searcher.predict(X_test)\n",
    "acc = accuracy_score(y_test, test_ypred)\n",
    "acc_CI = (np.std(test_ypred == y_test) / np.sqrt(len(test_ypred))) * 1.96\n",
    "print(f\"Test accuracy: {acc} +- {acc_CI}\")"
   ]
  },
  {
   "cell_type": "markdown",
   "metadata": {},
   "source": [
    "## Disease Classification (Multiclass classification)"
   ]
  },
  {
   "cell_type": "code",
   "execution_count": 28,
   "metadata": {},
   "outputs": [
    {
     "data": {
      "text/plain": [
       "'Best accuracy achieved in hyper-parameter tuning is: 0.35365948359541843'"
      ]
     },
     "metadata": {},
     "output_type": "display_data"
    },
    {
     "data": {
      "text/plain": [
       "\"Best parameters: {'solver': 'adam', 'learning_rate': 'adaptive', 'hidden_layer_sizes': (100, 50), 'alpha': 1e-10, 'activation': 'tanh'}\""
      ]
     },
     "metadata": {},
     "output_type": "display_data"
    },
    {
     "name": "stdout",
     "output_type": "stream",
     "text": [
      "Train accuracy: 0.39096267190569745 +- 0.04239228077629413\n"
     ]
    },
    {
     "data": {
      "text/plain": [
       "'Test score: 0.3515625 +- 0.08271540870158306'"
      ]
     },
     "metadata": {},
     "output_type": "display_data"
    }
   ],
   "source": [
    "# Parcellated gbc with 12 features (new)\n",
    "data = pd.read_csv('../../data/processed/pscalar/BSNIP_cole_anticevic_2_pscalar.csv')\n",
    "data['disease_status'] = data['Group'].apply(lambda x: 'Control' if x == 'CON' else 'Patient')\n",
    "X = data.drop(['Group', 'disease_status', 'session_id'], axis=1)\n",
    "y = data['Group']\n",
    "\n",
    "X_train, X_test, y_train, y_test = train_test_split(X, y, test_size=0.2, random_state=42)\n",
    "\n",
    "# Hyper-parameter tuning\n",
    "\n",
    "model = MLPClassifier(tol=0.0001, max_iter=1000)\n",
    "\n",
    "params ={\n",
    "    'solver': ['lbfgs','adam', 'sgd'],\n",
    "    'alpha': [10**x for x in range(-1, -13, -3)],\n",
    "    'learning_rate': ['adaptive', 'invscaling', 'adaptive'],\n",
    "    'hidden_layer_sizes': [(50), (100), (100, 50), (100, 100), (50, 100, 50), (100, 50, 100), (100, 100, 100)],\n",
    "    'activation': ['relu', 'logistic', 'tanh']\n",
    "}\n",
    "\n",
    "search = RandomizedSearchCV(model, params, n_iter=150, n_jobs=4).fit(X_train, y_train)\n",
    "disp.display(f\"Best accuracy achieved in hyper-parameter tuning is: {search.best_score_}\")\n",
    "disp.display(f\"Best parameters: {search.best_params_}\")\n",
    "\n",
    "# Computing accuracy (results)\n",
    "\n",
    "train_ypred = search.predict(X_train)\n",
    "acc_train = accuracy_score(y_train, train_ypred)\n",
    "acc_CI_train = (np.std(train_ypred == y_train) / np.sqrt(len(train_ypred))) * 1.96\n",
    "print(f\"Train accuracy: {acc_train} +- {acc_CI_train}\")\n",
    "\n",
    "test_ypred = search.predict(X_test)\n",
    "acc = accuracy_score(y_test, test_ypred)\n",
    "acc_CI = (np.std(test_ypred == y_test) / np.sqrt(len(test_ypred))) * 1.96\n",
    "\n",
    "disp.display(f\"Test score: {acc} +- {acc_CI}\")"
   ]
  },
  {
   "cell_type": "markdown",
   "metadata": {},
   "source": [
    "# GBC 12 features (old)"
   ]
  },
  {
   "cell_type": "markdown",
   "metadata": {},
   "source": [
    "## Disease Status Classification (Binary Classification)"
   ]
  },
  {
   "cell_type": "code",
   "execution_count": 6,
   "metadata": {},
   "outputs": [
    {
     "name": "stdout",
     "output_type": "stream",
     "text": [
      "Fitting 5 folds for each of 100 candidates, totalling 500 fits\n"
     ]
    },
    {
     "data": {
      "text/plain": [
       "'Best accuracy achieved during hyper-parameter tuning is: 0.6876334692292758'"
      ]
     },
     "metadata": {},
     "output_type": "display_data"
    },
    {
     "data": {
      "text/plain": [
       "\"Best parameters are: {'solver': 'adam', 'learning_rate': 'adaptive', 'hidden_layer_sizes': (100, 100), 'alpha': 0.0001, 'activation': 'relu'}\""
      ]
     },
     "metadata": {},
     "output_type": "display_data"
    },
    {
     "name": "stdout",
     "output_type": "stream",
     "text": [
      "Train accuracy: 0.6895874263261297 +- 0.04019402511687709\n",
      "Test accuracy: 0.65625 +- 0.08228242794922103\n"
     ]
    }
   ],
   "source": [
    "# Parcellated gbc with 12 features (old)\n",
    "data = pd.read_csv('../../data/processed/pscalar/cole_anticevic_pscalar.csv')\n",
    "data['disease_status'] = data['Group'].apply(lambda x: 'Control' if x == 'CON' else 'Patient')\n",
    "\n",
    "X = data.drop(['Group', 'disease_status', 'session_id'], axis=1)\n",
    "y = data['disease_status']\n",
    "\n",
    "X_train, X_test, y_train, y_test = train_test_split(X, y, test_size=0.2, random_state=42)\n",
    "\n",
    "model = MLPClassifier(tol=0.0001, max_iter=1000)\n",
    "\n",
    "# Hyperparameter tuning\n",
    "\n",
    "params ={\n",
    "    'solver': ['lbfgs','adam', 'sgd'],\n",
    "    'alpha': [10**x for x in range(-1, -13, -3)],\n",
    "    'learning_rate': ['adaptive', 'invscaling', 'adaptive'],\n",
    "    'hidden_layer_sizes': [(50), (100), (100, 50), (100, 100), (50, 100, 50), (100, 50, 100), (100, 100, 100)],\n",
    "    'activation': ['relu', 'logistic', 'tanh']\n",
    "}\n",
    "\n",
    "searcher = RandomizedSearchCV(model, params, n_iter=100, cv=5, random_state=42, n_jobs=-1, verbose=1)\n",
    "\n",
    "searcher.fit(X_train, y_train)\n",
    "\n",
    "disp.display(f\"Best accuracy achieved during hyper-parameter tuning is: {searcher.best_score_}\")\n",
    "disp.display(f\"Best parameters are: {searcher.best_params_}\")\n",
    "\n",
    "# Computing accuracy (results)\n",
    "\n",
    "train_ypred = searcher.predict(X_train)\n",
    "acc_train = accuracy_score(y_train, train_ypred)\n",
    "acc_CI_train = (np.std(train_ypred == y_train) / np.sqrt(len(train_ypred))) * 1.96\n",
    "print(f\"Train accuracy: {acc_train} +- {acc_CI_train}\")\n",
    "\n",
    "test_ypred = searcher.predict(X_test)\n",
    "acc = accuracy_score(y_test, test_ypred)\n",
    "acc_CI = (np.std(test_ypred == y_test) / np.sqrt(len(test_ypred))) * 1.96\n",
    "print(f\"Test accuracy: {acc} +- {acc_CI}\")"
   ]
  },
  {
   "cell_type": "markdown",
   "metadata": {},
   "source": [
    "## Disease Classification (Multiclass classification)"
   ]
  },
  {
   "cell_type": "code",
   "execution_count": 16,
   "metadata": {},
   "outputs": [
    {
     "name": "stdout",
     "output_type": "stream",
     "text": [
      "Best accuracy achieved in hyper-parameter tuning is: 0.3477383032420889\n",
      "Best parameters:\n",
      "{'solver': 'lbfgs', 'learning_rate': 'adaptive', 'hidden_layer_sizes': (50, 100, 50), 'alpha': 1e-10, 'activation': 'relu'}\n"
     ]
    },
    {
     "name": "stderr",
     "output_type": "stream",
     "text": [
      "c:\\Users\\joaquin\\.conda\\envs\\ds_project\\lib\\site-packages\\sklearn\\neural_network\\_multilayer_perceptron.py:546: ConvergenceWarning: lbfgs failed to converge (status=1):\n",
      "STOP: TOTAL NO. of ITERATIONS REACHED LIMIT.\n",
      "\n",
      "Increase the number of iterations (max_iter) or scale the data as shown in:\n",
      "    https://scikit-learn.org/stable/modules/preprocessing.html\n",
      "  self.n_iter_ = _check_optimize_result(\"lbfgs\", opt_res, self.max_iter)\n"
     ]
    },
    {
     "data": {
      "text/plain": [
       "'Train accuracy: 0.5049115913555993 +- 0.04343564049246385'"
      ]
     },
     "metadata": {},
     "output_type": "display_data"
    },
    {
     "data": {
      "text/plain": [
       "'Test score: 0.328125 +- 0.08134202645960259'"
      ]
     },
     "metadata": {},
     "output_type": "display_data"
    }
   ],
   "source": [
    "# Parcellated gbc with 12 features (old)\n",
    "data = pd.read_csv('../../data/processed/pscalar/cole_anticevic_pscalar.csv')\n",
    "data['disease_status'] = data['Group'].apply(lambda x: 'Control' if x == 'CON' else 'Patient')\n",
    "X = data.drop(['Group', 'disease_status', 'session_id'], axis=1)\n",
    "y = data['Group']\n",
    "\n",
    "X_train, X_test, y_train, y_test = train_test_split(X, y, test_size=0.2, random_state=42)\n",
    "\n",
    "model = MLPClassifier(tol=0.0001, max_iter=1000)\n",
    "\n",
    "# Hyperparameter tuning\n",
    "\n",
    "params ={\n",
    "    'solver': ['lbfgs','adam', 'sgd'],\n",
    "    'alpha': [10**x for x in range(-1, -13, -3)],\n",
    "    'learning_rate': ['adaptive', 'invscaling', 'adaptive'],\n",
    "    'hidden_layer_sizes': [(50), (100), (100, 50), (100, 100), (50, 100, 50), (100, 50, 100), (100, 100, 100)],\n",
    "    'activation': ['relu', 'logistic', 'tanh']\n",
    "}\n",
    "\n",
    "search = RandomizedSearchCV(model, params, n_iter=150, n_jobs=-1).fit(X_train, y_train)\n",
    "print(f\"Best accuracy achieved in hyper-parameter tuning is: {search.best_score_}\")\n",
    "print(f\"Best parameters:\\n{search.best_params_}\")\n",
    "\n",
    "# Computing accuracy (results)\n",
    "\n",
    "train_ypred = search.predict(X_train)\n",
    "acc_train = accuracy_score(y_train, train_ypred)\n",
    "acc_CI_train = (np.std(train_ypred == y_train) / np.sqrt(len(train_ypred))) * 1.96\n",
    "disp.display(f\"Train accuracy: {acc_train} +- {acc_CI_train}\")\n",
    "\n",
    "test_ypred = search.predict(X_test)\n",
    "acc = accuracy_score(y_test, test_ypred)\n",
    "acc_CI = (np.std(test_ypred == y_test) / np.sqrt(len(test_ypred))) * 1.96\n",
    "disp.display(f\"Test score: {acc} +- {acc_CI}\")"
   ]
  },
  {
   "cell_type": "markdown",
   "metadata": {},
   "source": [
    "# GBC with 718 features"
   ]
  },
  {
   "cell_type": "code",
   "execution_count": 10,
   "metadata": {},
   "outputs": [
    {
     "name": "stdout",
     "output_type": "stream",
     "text": [
      "Fitting 5 folds for each of 100 candidates, totalling 500 fits\n"
     ]
    },
    {
     "data": {
      "text/plain": [
       "'Best accuracy achieved during hyper-parameter tuning is: 0.9921568627450981'"
      ]
     },
     "metadata": {},
     "output_type": "display_data"
    },
    {
     "data": {
      "text/plain": [
       "\"Best parameters are: {'solver': 'lbfgs', 'learning_rate': 'invscaling', 'hidden_layer_sizes': (100, 100, 100), 'alpha': 0.0001, 'activation': 'relu'}\""
      ]
     },
     "metadata": {},
     "output_type": "display_data"
    },
    {
     "data": {
      "text/plain": [
       "'Train accuracy: 1.0 +- 0.0'"
      ]
     },
     "metadata": {},
     "output_type": "display_data"
    },
    {
     "data": {
      "text/plain": [
       "'Test accuracy: 0.984375 +- 0.02148529827561599'"
      ]
     },
     "metadata": {},
     "output_type": "display_data"
    }
   ],
   "source": [
    "# Parcellated gbc with 718 features\n",
    "data = pd.read_csv('../../data/BSNIP_data/BSNIP_data/neural/neural_parcellated_gbc.csv')\n",
    "data['disease_status'] = data['Group'].apply(lambda x: 'Control' if x == 'CON' else 'Patient')\n",
    "\n",
    "X = data.drop(['Group', 'disease_status', 'Unnamed: 0'], axis=1)\n",
    "y = data['disease_status']\n",
    "\n",
    "X_train, X_test, y_train, y_test = train_test_split(X, y, test_size=0.2, random_state=42)\n",
    "\n",
    "# Hyperparameter tuning\n",
    "\n",
    "model = MLPClassifier(tol=0.0001, max_iter=1000)\n",
    "\n",
    "params ={\n",
    "    'solver': ['lbfgs','adam', 'sgd'],\n",
    "    'alpha': [10**x for x in range(-1, -13, -3)],\n",
    "    'learning_rate': ['adaptive', 'invscaling', 'adaptive'],\n",
    "    'hidden_layer_sizes': [(50), (100), (100, 50), (100, 100), (50, 100, 50), (100, 50, 100), (100, 100, 100)],\n",
    "    'activation': ['relu', 'logistic', 'tanh']\n",
    "}\n",
    "\n",
    "searcher = RandomizedSearchCV(model, params, n_iter=100, cv=5, random_state=42, n_jobs=-1, verbose=1)\n",
    "\n",
    "searcher.fit(X_train, y_train)\n",
    "\n",
    "disp.display(f\"Best accuracy achieved during hyper-parameter tuning is: {searcher.best_score_}\")\n",
    "disp.display(f\"Best parameters are: {searcher.best_params_}\")\n",
    "\n",
    "# Computing accuracy (results)\n",
    "\n",
    "train_ypred = searcher.predict(X_train)\n",
    "acc_train = accuracy_score(y_train, train_ypred)\n",
    "acc_CI_train = (np.std(train_ypred == y_train) / np.sqrt(len(train_ypred))) * 1.96\n",
    "disp.display(f\"Train accuracy: {acc_train} +- {acc_CI_train}\")\n",
    "\n",
    "test_ypred = searcher.predict(X_test)\n",
    "acc = accuracy_score(y_test, test_ypred)\n",
    "acc_CI = (np.std(test_ypred == y_test) / np.sqrt(len(test_ypred))) * 1.96\n",
    "disp.display(f\"Test accuracy: {acc} +- {acc_CI}\")"
   ]
  },
  {
   "cell_type": "markdown",
   "metadata": {},
   "source": [
    "## Disease Classification (Multiclass classification)"
   ]
  },
  {
   "cell_type": "code",
   "execution_count": 23,
   "metadata": {},
   "outputs": [
    {
     "name": "stdout",
     "output_type": "stream",
     "text": [
      "Best accuracy achieved in hyper-parameter tuning is: 0.6058823529411765\n",
      "Best parameters: {'solver': 'adam', 'learning_rate': 'adaptive', 'hidden_layer_sizes': (100, 50), 'alpha': 0.1, 'activation': 'tanh'}\n"
     ]
    },
    {
     "data": {
      "text/plain": [
       "'Train accuracy: 1.0 +- 0.0'"
      ]
     },
     "metadata": {},
     "output_type": "display_data"
    },
    {
     "data": {
      "text/plain": [
       "'Test score: 0.5546875 +- 0.08610090554854401'"
      ]
     },
     "metadata": {},
     "output_type": "display_data"
    }
   ],
   "source": [
    "# Parcellated gbc with 718 features\n",
    "data = pd.read_csv('../../data/BSNIP_data/BSNIP_data/neural/neural_parcellated_gbc.csv')\n",
    "data['disease_status'] = data['Group'].apply(lambda x: 'Control' if x == 'CON' else 'Patient')\n",
    "X = data.drop(['Group', 'disease_status', 'Unnamed: 0'], axis=1)\n",
    "y = data['Group']\n",
    "\n",
    "X_train, X_test, y_train, y_test = train_test_split(X, y, test_size=0.2, random_state=42)\n",
    "\n",
    "# Hyperparameter tuning\n",
    "\n",
    "model = MLPClassifier(tol=0.0001, max_iter=1000)\n",
    "\n",
    "params ={\n",
    "    'solver': ['lbfgs','adam', 'sgd'],\n",
    "    'alpha': [10**x for x in range(-1, -13, -3)],\n",
    "    'learning_rate': ['adaptive', 'invscaling', 'adaptive'],\n",
    "    'hidden_layer_sizes': [(50), (100), (100, 50), (100, 100), (50, 100, 50), (100, 50, 100), (100, 100, 100)],\n",
    "    'activation': ['relu', 'logistic', 'tanh']\n",
    "}\n",
    "\n",
    "search = RandomizedSearchCV(model, params, n_iter=150, n_jobs=-1).fit(X_train, y_train)\n",
    "\n",
    "print(f\"Best accuracy achieved in hyper-parameter tuning is: {search.best_score_}\")\n",
    "print(f\"Best parameters: {search.best_params_}\")\n",
    "\n",
    "# Computing accuracy (results)\n",
    "\n",
    "train_ypred = search.predict(X_train)\n",
    "acc_train = accuracy_score(y_train, train_ypred)\n",
    "acc_CI_train = (np.std(train_ypred == y_train) / np.sqrt(len(train_ypred))) * 1.96\n",
    "disp.display(f\"Train accuracy: {acc_train} +- {acc_CI_train}\")\n",
    "\n",
    "test_ypred = search.predict(X_test)\n",
    "acc = accuracy_score(y_test, test_ypred)\n",
    "acc_CI = (np.std(test_ypred == y_test) / np.sqrt(len(test_ypred))) * 1.96\n",
    "disp.display(f\"Test score: {acc} +- {acc_CI}\")"
   ]
  }
 ],
 "metadata": {
  "kernelspec": {
   "display_name": "ds_competition",
   "language": "python",
   "name": "python3"
  },
  "language_info": {
   "codemirror_mode": {
    "name": "ipython",
    "version": 3
   },
   "file_extension": ".py",
   "mimetype": "text/x-python",
   "name": "python",
   "nbconvert_exporter": "python",
   "pygments_lexer": "ipython3",
   "version": "3.10.14"
  }
 },
 "nbformat": 4,
 "nbformat_minor": 2
}

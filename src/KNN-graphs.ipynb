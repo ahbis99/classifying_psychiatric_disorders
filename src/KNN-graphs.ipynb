{
 "cells": [
  {
   "cell_type": "markdown",
   "metadata": {},
   "source": [
    "Graph convolutional network for fMRI analysis based on connectivity neighborhood:\n",
    "The paper outlines a methodology for converting functional connectivity (FC) matrices from fMRI data into graph structures using a k-nearest neighbors (k-NN) approach. The k-NN graph is built by connecting each node (ROI) to its k nearest neighbors based on the strength of connectivity, which is represented by the FC matrix values."
   ]
  },
  {
   "cell_type": "code",
   "execution_count": 4,
   "metadata": {},
   "outputs": [],
   "source": [
    "import nibabel as nib\n",
    "import numpy as np\n",
    "import networkx as nx\n",
    "import os\n",
    "import math\n",
    "import pandas as pd\n",
    "from tqdm.notebook import tqdm  # Import tqdm for notebooks\n",
    "import matplotlib.pyplot as plt\n",
    "#import utils\n"
   ]
  },
  {
   "cell_type": "code",
   "execution_count": 5,
   "metadata": {},
   "outputs": [],
   "source": [
    "def load_fc_matrix(file_path):\n",
    "    \"\"\" Load functional connectivity matrix from a .pconn.nii file. \"\"\"\n",
    "    img = nib.load(file_path)\n",
    "    fc_matrix = img.get_fdata()\n",
    "    return fc_matrix\n",
    "\n",
    "def create_knn_graph(fc_matrix, k=5):\n",
    "    \"\"\" Create a graph from a functional connectivity matrix using k-nearest neighbors based on absolute values. \"\"\"\n",
    "    n = fc_matrix.shape[0]  # Number of nodes\n",
    "    G = nx.Graph()\n",
    "    for i in range(n):\n",
    "        G.add_node(i)\n",
    "    \n",
    "    # For each node, add edges to the k-nearest neighbors based on absolute values of connectivity strengths\n",
    "    for i in range(n):\n",
    "        # Sort indices based on the absolute values, get the k highest values indices for each row\n",
    "        indices = np.argsort(np.abs(fc_matrix[i]))[-k:]\n",
    "        for j in indices:\n",
    "            if i != j:  # Ensure no self-loops\n",
    "                G.add_edge(i, j, weight=fc_matrix[i][j])\n",
    "    \n",
    "    return G"
   ]
  },
  {
   "cell_type": "code",
   "execution_count": 4,
   "metadata": {},
   "outputs": [
    {
     "data": {
      "application/vnd.jupyter.widget-view+json": {
       "model_id": "f98cb87d0bb64414b1dd7f563b56dc8c",
       "version_major": 2,
       "version_minor": 0
      },
      "text/plain": [
       "Processing .pconn.nii files:   0%|          | 0/638 [00:00<?, ?it/s]"
      ]
     },
     "metadata": {},
     "output_type": "display_data"
    },
    {
     "name": "stdout",
     "output_type": "stream",
     "text": [
      "Data saved to 'graph_statistics.csv'.\n"
     ]
    }
   ],
   "source": [
    "# Directory containing the pconn files\n",
    "directory = \"C:/Users/manfr/OneDrive/Escritorio/Manfred/EMAI/SecondSemester_Slovenia/Project/BSNIP_neural/BSNIP/pconn\"\n",
    "pconn_files = [f for f in os.listdir(directory) if f.endswith('.pconn.nii')]\n",
    "\n",
    "# Prepare a list to store the results\n",
    "results = []\n",
    "\n",
    "for file_name in tqdm(pconn_files, desc=\"Processing .pconn.nii files\"):\n",
    "    fc_file_path = os.path.join(directory, file_name)\n",
    "    fc_matrix = load_fc_matrix(fc_file_path)\n",
    "    graph = create_knn_graph(fc_matrix, k=5)\n",
    "\n",
    "    degrees = [deg for _, deg in graph.degree()]\n",
    "    n = graph.number_of_nodes()\n",
    "    if n > 1:  # To avoid division by zero in calculations\n",
    "        average_degree = sum(degrees) / n\n",
    "        theoretical_avg_c = average_degree / (n - 1)\n",
    "        theoretical_avg_d = math.log(n) / math.log(average_degree) if average_degree > 1 else 0\n",
    "\n",
    "        # Calculate clustering and path length on the largest connected component\n",
    "        largest_cc = max(nx.connected_components(graph), key=len)\n",
    "        subgraph = graph.subgraph(largest_cc)\n",
    "        size_of_largest_cc = len(largest_cc)\n",
    "        avg_clustering = nx.average_clustering(graph)\n",
    "        avg_path_length = nx.average_shortest_path_length(subgraph) if len(largest_cc) > 1 else 0\n",
    "\n",
    "        row = [\n",
    "            file_name, n, average_degree, theoretical_avg_c, avg_clustering,\n",
    "            theoretical_avg_d, avg_path_length, math.log(n), math.log(math.log(n)),\n",
    "            size_of_largest_cc\n",
    "        ]\n",
    "    else:\n",
    "        row = [file_name, n, 0, 0, 0, 0, 0, 0, 0, 0]\n",
    "\n",
    "    results.append(row)\n",
    "# Create a DataFrame\n",
    "df = pd.DataFrame(results, columns=[\n",
    "    'File Name', 'Number of Nodes', 'Average Degree', 'Theoretical Avg Clustering',\n",
    "    'Average Clustering', 'Theoretical Avg Path Length', 'Average Path Length',\n",
    "    'Log of Nodes', 'Log Log of Nodes', 'Size of Largest CC'\n",
    "])\n",
    "\n",
    "# Save to CSV\n",
    "df.to_csv('graph_statistics.csv', index=False)\n",
    "print(\"Data saved to 'graph_statistics.csv'.\")\n"
   ]
  },
  {
   "cell_type": "code",
   "execution_count": 9,
   "metadata": {},
   "outputs": [],
   "source": [
    "import os\n",
    "import matplotlib.pyplot as plt\n",
    "\n",
    "\n",
    "def plot(G, orbits):\n",
    "    fig, axes = plt.subplots(3, 5)\n",
    "    fig.suptitle(G.name)\n",
    "\n",
    "    for o in range(15):\n",
    "        nk = {}\n",
    "        for i in range(len(G)):\n",
    "            k = orbits[i][o]\n",
    "            if k not in nk:\n",
    "                nk[k] = 0\n",
    "            nk[k] += 1\n",
    "        ks = sorted(nk.keys())\n",
    "\n",
    "        axes[o // 5, o % 5].loglog(ks, [nk[k] / len(G)\n",
    "                                   for k in ks], 'ok', markersize=1)\n",
    "        axes[o // 5, o % 5].set_xticks([])\n",
    "        axes[o // 5, o % 5].set_yticks([])\n",
    "\n",
    "    plt.savefig(G.name + \".png\", bbox_inches='tight')\n",
    "    plt.close()\n",
    "\n",
    "\n",
    "def orca(G, exe_folder=\".\", output_folder=\".\"):\n",
    "    if \"orca\" not in os.listdir(exe_folder):\n",
    "        raise Exception(exe_folder + \" doesn't contain orca\")\n",
    "\n",
    "    with open(G.name + \".in\", 'w') as file:\n",
    "        file.write(str(G.number_of_nodes()) + \" \" +\n",
    "                   str(G.number_of_edges()) + \"\\n\")\n",
    "\n",
    "        for i, j in G.edges():\n",
    "            file.write(str(i) + \" \" + str(j) + \"\\n\")\n",
    "\n",
    "    command = f\"{os.path.join(exe_folder, 'orca')} node 4 {G.name}.in {output_folder}/{G.name}.orca\"\n",
    "    if (rv := os.system(command)) != 0:\n",
    "        print(f\"WARNING: orca call exited with value {rv}\")\n",
    "\n",
    "    os.remove(G.name + \".in\")\n",
    "\n",
    "    orbits = []\n",
    "    with open(f\"{output_folder}/{G.name}.orca\", 'r') as file:\n",
    "        for line in file:\n",
    "            orbits.append([int(k) for k in line.split()])\n",
    "\n",
    "    return orbits\n",
    "\n",
    "\n",
    "ORCA_EXE_FOLDER = \"C:/Users/manfr/OneDrive/Escritorio/Manfred/EMAI/SecondSemester_Slovenia/Project/orca-master\"\n",
    "\n",
    "if ORCA_EXE_FOLDER == \"\":\n",
    "    raise Exception(\"please set ORCA_EXE_FOLDER\")"
   ]
  },
  {
   "cell_type": "code",
   "execution_count": 10,
   "metadata": {},
   "outputs": [
    {
     "name": "stdout",
     "output_type": "stream",
     "text": [
      "WARNING: orca call exited with value 1\n"
     ]
    },
    {
     "ename": "FileNotFoundError",
     "evalue": "[Errno 2] No such file or directory: './S0009QPW3.orca'",
     "output_type": "error",
     "traceback": [
      "\u001b[1;31m---------------------------------------------------------------------------\u001b[0m",
      "\u001b[1;31mFileNotFoundError\u001b[0m                         Traceback (most recent call last)",
      "Input \u001b[1;32mIn [10]\u001b[0m, in \u001b[0;36m<cell line: 11>\u001b[1;34m()\u001b[0m\n\u001b[0;32m      9\u001b[0m graph \u001b[38;5;241m=\u001b[39m create_knn_graph(fc_matrix, k\u001b[38;5;241m=\u001b[39m\u001b[38;5;241m5\u001b[39m)\n\u001b[0;32m     10\u001b[0m graph\u001b[38;5;241m.\u001b[39mname \u001b[38;5;241m=\u001b[39m pconn_files[\u001b[38;5;241m0\u001b[39m][:\u001b[38;5;241m-\u001b[39m\u001b[38;5;28mlen\u001b[39m(\u001b[38;5;124m'\u001b[39m\u001b[38;5;124m.pconn.nii\u001b[39m\u001b[38;5;124m'\u001b[39m)]  \u001b[38;5;66;03m# Ensure the graph has a name attribute\u001b[39;00m\n\u001b[1;32m---> 11\u001b[0m orbits \u001b[38;5;241m=\u001b[39m \u001b[43morca\u001b[49m\u001b[43m(\u001b[49m\u001b[43mgraph\u001b[49m\u001b[43m,\u001b[49m\u001b[43m \u001b[49m\u001b[43mexe_folder\u001b[49m\u001b[38;5;241;43m=\u001b[39;49m\u001b[43mORCA_EXE_FOLDER\u001b[49m\u001b[43m)\u001b[49m\n\u001b[0;32m     12\u001b[0m plot(graph, orbits)\n",
      "Input \u001b[1;32mIn [9]\u001b[0m, in \u001b[0;36morca\u001b[1;34m(G, exe_folder, output_folder)\u001b[0m\n\u001b[0;32m     42\u001b[0m os\u001b[38;5;241m.\u001b[39mremove(G\u001b[38;5;241m.\u001b[39mname \u001b[38;5;241m+\u001b[39m \u001b[38;5;124m\"\u001b[39m\u001b[38;5;124m.in\u001b[39m\u001b[38;5;124m\"\u001b[39m)\n\u001b[0;32m     44\u001b[0m orbits \u001b[38;5;241m=\u001b[39m []\n\u001b[1;32m---> 45\u001b[0m \u001b[38;5;28;01mwith\u001b[39;00m \u001b[38;5;28;43mopen\u001b[39;49m\u001b[43m(\u001b[49m\u001b[38;5;124;43mf\u001b[39;49m\u001b[38;5;124;43m\"\u001b[39;49m\u001b[38;5;132;43;01m{\u001b[39;49;00m\u001b[43moutput_folder\u001b[49m\u001b[38;5;132;43;01m}\u001b[39;49;00m\u001b[38;5;124;43m/\u001b[39;49m\u001b[38;5;132;43;01m{\u001b[39;49;00m\u001b[43mG\u001b[49m\u001b[38;5;241;43m.\u001b[39;49m\u001b[43mname\u001b[49m\u001b[38;5;132;43;01m}\u001b[39;49;00m\u001b[38;5;124;43m.orca\u001b[39;49m\u001b[38;5;124;43m\"\u001b[39;49m\u001b[43m,\u001b[49m\u001b[43m \u001b[49m\u001b[38;5;124;43m'\u001b[39;49m\u001b[38;5;124;43mr\u001b[39;49m\u001b[38;5;124;43m'\u001b[39;49m\u001b[43m)\u001b[49m \u001b[38;5;28;01mas\u001b[39;00m file:\n\u001b[0;32m     46\u001b[0m     \u001b[38;5;28;01mfor\u001b[39;00m line \u001b[38;5;129;01min\u001b[39;00m file:\n\u001b[0;32m     47\u001b[0m         orbits\u001b[38;5;241m.\u001b[39mappend([\u001b[38;5;28mint\u001b[39m(k) \u001b[38;5;28;01mfor\u001b[39;00m k \u001b[38;5;129;01min\u001b[39;00m line\u001b[38;5;241m.\u001b[39msplit()])\n",
      "\u001b[1;31mFileNotFoundError\u001b[0m: [Errno 2] No such file or directory: './S0009QPW3.orca'"
     ]
    }
   ],
   "source": [
    "# Example usage of the modified function\n",
    "orca_folder = 'C:/Users/manfr/OneDrive/Escritorio/Manfred/EMAI/SecondSemester_Slovenia/Project/classifying_psychiatric_disorders/src/orca'\n",
    "output_folder = 'C:/Users/manfr/OneDrive/Escritorio/Manfred/EMAI/SecondSemester_Slovenia/Project/classifying_psychiatric_disorders/src/results_orca'\n",
    "directory = \"C:/Users/manfr/OneDrive/Escritorio/Manfred/EMAI/SecondSemester_Slovenia/Project/BSNIP_neural/BSNIP/pconn\"\n",
    "pconn_files = [f for f in os.listdir(directory) if f.endswith('.pconn.nii')]\n",
    "\n",
    "fc_file_path = os.path.join(directory, pconn_files[0])\n",
    "fc_matrix = load_fc_matrix(fc_file_path)\n",
    "graph = create_knn_graph(fc_matrix, k=5)\n",
    "graph.name = pconn_files[0][:-len('.pconn.nii')]  # Ensure the graph has a name attribute\n",
    "orbits = orca(graph, exe_folder=ORCA_EXE_FOLDER)\n",
    "plot(graph, orbits)"
   ]
  },
  {
   "cell_type": "code",
   "execution_count": 10,
   "metadata": {},
   "outputs": [
    {
     "name": "stdout",
     "output_type": "stream",
     "text": [
      "None\n"
     ]
    }
   ],
   "source": [
    "print(orbits1)"
   ]
  }
 ],
 "metadata": {
  "kernelspec": {
   "display_name": "project_env",
   "language": "python",
   "name": "python3"
  },
  "language_info": {
   "codemirror_mode": {
    "name": "ipython",
    "version": 3
   },
   "file_extension": ".py",
   "mimetype": "text/x-python",
   "name": "python",
   "nbconvert_exporter": "python",
   "pygments_lexer": "ipython3",
   "version": "3.10.13"
  }
 },
 "nbformat": 4,
 "nbformat_minor": 2
}

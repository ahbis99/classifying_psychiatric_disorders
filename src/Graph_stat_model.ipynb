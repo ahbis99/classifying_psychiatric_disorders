{
 "cells": [
  {
   "cell_type": "code",
   "execution_count": 38,
   "id": "70d88710-dfb3-44bd-909b-475461af52b7",
   "metadata": {},
   "outputs": [],
   "source": [
    "import nibabel as nib\n",
    "import networkx as nx\n",
    "from cdlib.algorithms import leiden\n",
    "import numpy as np\n",
    "import matplotlib.pyplot as plt\n",
    "from pyvis.network import Network\n",
    "import pandas as pd\n",
    "import os\n",
    "import seaborn as sns\n",
    "\n",
    "from sklearn.model_selection import train_test_split\n",
    "import xgboost as xgb\n",
    "from sklearn.metrics import accuracy_score\n",
    "from sklearn.preprocessing import LabelEncoder\n",
    "from sklearn.metrics import confusion_matrix"
   ]
  },
  {
   "cell_type": "code",
   "execution_count": 2,
   "id": "82a2647d-f713-4201-977a-4dd09a399ac1",
   "metadata": {},
   "outputs": [],
   "source": [
    "base_path = '/Users/ahmet/Desktop/Study/second_semester/ds_project/BSNIP/pconn'"
   ]
  },
  {
   "cell_type": "code",
   "execution_count": 3,
   "id": "3e7656ba-72fa-496f-8540-e58282ba1542",
   "metadata": {},
   "outputs": [],
   "source": [
    "pconn_paths = os.listdir('/Users/ahmet/Desktop/Study/second_semester/ds_project/BSNIP/pconn')"
   ]
  },
  {
   "cell_type": "code",
   "execution_count": 4,
   "id": "c6832c5c-8969-471d-952e-b0a375922c2f",
   "metadata": {},
   "outputs": [],
   "source": [
    "session_ids = [path.split('.')[0] for path in pconn_paths]"
   ]
  },
  {
   "cell_type": "code",
   "execution_count": 5,
   "id": "1d3a8441-9862-4272-a94b-919c47e6adeb",
   "metadata": {},
   "outputs": [],
   "source": [
    "behavior_path = '/Users/ahmet/Desktop/Study/second_semester/ds_project/behavior/'"
   ]
  },
  {
   "cell_type": "code",
   "execution_count": 95,
   "id": "803f3231",
   "metadata": {},
   "outputs": [
    {
     "data": {
      "text/plain": [
       "False"
      ]
     },
     "execution_count": 95,
     "metadata": {},
     "output_type": "execute_result"
    }
   ],
   "source": []
  },
  {
   "cell_type": "code",
   "execution_count": 99,
   "id": "c0917c15-5660-428a-a4b0-d2d32d4c50ee",
   "metadata": {},
   "outputs": [],
   "source": [
    "def read_behavior(path):\n",
    "    # Reading\n",
    "    behavior_path = path\n",
    "    \n",
    "    behavior_files = os.listdir(behavior_path)\n",
    "    \n",
    "    behavior_source = pd.read_csv(behavior_path+behavior_files[0], sep='\\t')\n",
    "    for behavior_file in behavior_files[1:]:\n",
    "        curr_behavior_source = pd.read_csv(behavior_path+behavior_file, sep='\\t')\n",
    "        behavior_source = pd.concat([behavior_source, curr_behavior_source], axis=0)\n",
    "\n",
    "    return behavior_source\n",
    "\n",
    "def read_pconn(path):\n",
    "    \n",
    "    # Load the .pconn.nii file\n",
    "    img = nib.load(path)\n",
    "    \n",
    "    # Extract the data array from the image\n",
    "    # The data might need to be processed or reshaped depending on its structure\n",
    "    data = img.get_fdata()\n",
    "\n",
    "    df = pd.DataFrame(data)\n",
    "    \n",
    "    return data, df\n",
    "\n",
    "def build_network(data, df, visualize = True):\n",
    "    # Create a graph from the data\n",
    "    # This example assumes 'data' is a square matrix where data[i][j] represents the connection\n",
    "    # strength between region i and region j. Your data's structure may vary.\n",
    "    G = nx.Graph()\n",
    "    \n",
    "    # Add nodes with the brain region names or indices if you don't have names\n",
    "    num_regions = data.shape[0]\n",
    "    G.add_nodes_from(range(num_regions))\n",
    "    \n",
    "    # Add edges based on connectivity data\n",
    "    # Here we're simply adding an edge for every non-zero connection\n",
    "    for i in range(num_regions):\n",
    "        # Calculate the standard deviation of the specified row\n",
    "        std_dev = df.iloc[i].std()\n",
    "        threshold = 2*std_dev\n",
    "        for j in range(i+1, num_regions):  # Ensure i < j to avoid duplicating edges\n",
    "            if abs(data[i, j]) > threshold:  # Assuming 0 means no connection\n",
    "                G.add_edge(i, j, weight=data[i, j])\n",
    "    \n",
    "    if visualize:\n",
    "        # You can also visualize the graph using matplotlib or similar libraries\n",
    "        # This step requires matplotlib to be installed (`pip install matplotlib`)\n",
    "        nx.draw(G, with_labels=True)\n",
    "        plt.show()\n",
    "        \n",
    "    return G\n",
    "\n",
    "def graph_stats(session_id, G):\n",
    "    \n",
    "    clustering = nx.average_clustering(G)\n",
    "    edges = G.number_of_edges()\n",
    "    density = nx.density(G)\n",
    "    communities = leiden(G).communities\n",
    "    #diameter = nx.diameter(G)\n",
    "    # min max degree\n",
    "    degree_sequence = sorted((d for n, d in G.degree()), reverse=True)\n",
    "    dmax = max(degree_sequence)\n",
    "    dmin = min(degree_sequence)\n",
    "    num_connected_components = len(list(nx.connected_components(G)))\n",
    "    if nx.is_connected(G):\n",
    "        average_shortest_path = nx.average_shortest_path_length(G)\n",
    "        radius = nx.radius(G)\n",
    "    else:\n",
    "        average_shortest_path = 0\n",
    "        radius = 0\n",
    "    betwenness = sorted(nx.betweenness_centrality(G).items(), key=lambda x: x[1], reverse=True)[0][0]\n",
    "    closeness_centrality = sorted(nx.closeness_centrality(G).items(), key=lambda x: x[1], reverse=True)[0][0]\n",
    "    eigen_vector = sorted(nx.eigenvector_centrality(G).items(), key=lambda x: x[1], reverse=True)[0][0]\n",
    "    correlation = nx.degree_pearson_correlation_coefficient(G)\n",
    "    modularity = nx.community.modularity(G, communities)\n",
    "    coverage, performance = nx.community.partition_quality(G, communities)\n",
    "    degree_con = sorted(nx.average_degree_connectivity(G).items(), key=lambda x: x[1], reverse=True)[0][0]\n",
    "    degree_assortativity = nx.degree_assortativity_coefficient(G)\n",
    "    avg_neigbor_degree = sorted(nx.average_neighbor_degree(G).items(), key=lambda x: x[1], reverse=True)[0][0]\n",
    "    transitivity = nx.transitivity(G)\n",
    "    node_connectivity = nx.node_connectivity(G)\n",
    "    edge_connectivity = nx.edge_connectivity(G)\n",
    "    \n",
    "    \n",
    "    stats_dict = {'session_id': session_id,\n",
    "                'avg_clustering': clustering,\n",
    "                 'num_of_edges':edges,\n",
    "                 'denstity': density,\n",
    "                 #'diameter' : diameter,\n",
    "                 'max_degree' : dmax,\n",
    "                'min_degree' : dmin,\n",
    "                'num_connected_components': num_connected_components,\n",
    "                'betweenness_centrality': betwenness,\n",
    "                'eigen_vector_centrality': eigen_vector,\n",
    "                'closeness_centrality': closeness_centrality,\n",
    "                'degree_connectivity': degree_con,\n",
    "                'correlation': correlation,\n",
    "                'average_shortest_path': average_shortest_path,\n",
    "                'modularity': modularity,\n",
    "                'degree_assortativity':degree_assortativity,\n",
    "                'avg_neigbor_degree': avg_neigbor_degree,\n",
    "                'transitivity': transitivity,\n",
    "                'node_connectivity': node_connectivity,\n",
    "                'edge_connectivity': edge_connectivity,\n",
    "                'coverage_communities': coverage,\n",
    "                'performance_communities': performance,\n",
    "                'radius': radius}\n",
    "    \n",
    "    return stats_dict"
   ]
  },
  {
   "cell_type": "code",
   "execution_count": 97,
   "id": "b415a27f-fecc-450c-b951-3e1935a5c4e8",
   "metadata": {},
   "outputs": [],
   "source": [
    "df_behavior = read_behavior(behavior_path)"
   ]
  },
  {
   "cell_type": "code",
   "execution_count": 100,
   "id": "93194726-6c78-41f9-9a02-0ef86f47f1a1",
   "metadata": {},
   "outputs": [],
   "source": [
    "stats = []\n",
    "for session_id, pconn_path in zip(session_ids, pconn_paths):\n",
    "    path = os.path.join(base_path, pconn_path)\n",
    "    data, df = read_pconn(path)\n",
    "    G = build_network(data, df, visualize = False)\n",
    "    stats_dict = graph_stats(session_id, G)\n",
    "    stats.append(stats_dict)"
   ]
  },
  {
   "cell_type": "code",
   "execution_count": 101,
   "id": "37a2af49-fbc9-4f7d-9b84-bd2179e8660f",
   "metadata": {},
   "outputs": [],
   "source": [
    "df_stats = pd.DataFrame(stats)"
   ]
  },
  {
   "cell_type": "code",
   "execution_count": 106,
   "id": "82e8c36c-6ce1-4939-a074-95b81081a051",
   "metadata": {},
   "outputs": [],
   "source": [
    "df_ml = df_stats.merge(df_behavior[['session_id', 'Group']], how = 'left', on = 'session_id')"
   ]
  },
  {
   "cell_type": "code",
   "execution_count": 108,
   "id": "b7a76364-2504-4011-b7d7-7bdb24347173",
   "metadata": {
    "scrolled": true
   },
   "outputs": [
    {
     "data": {
      "text/html": [
       "<div>\n",
       "<style scoped>\n",
       "    .dataframe tbody tr th:only-of-type {\n",
       "        vertical-align: middle;\n",
       "    }\n",
       "\n",
       "    .dataframe tbody tr th {\n",
       "        vertical-align: top;\n",
       "    }\n",
       "\n",
       "    .dataframe thead th {\n",
       "        text-align: right;\n",
       "    }\n",
       "</style>\n",
       "<table border=\"1\" class=\"dataframe\">\n",
       "  <thead>\n",
       "    <tr style=\"text-align: right;\">\n",
       "      <th></th>\n",
       "      <th>session_id</th>\n",
       "      <th>avg_clustering</th>\n",
       "      <th>num_of_edges</th>\n",
       "      <th>denstity</th>\n",
       "      <th>max_degree</th>\n",
       "      <th>min_degree</th>\n",
       "      <th>num_connected_components</th>\n",
       "      <th>betweenness_centrality</th>\n",
       "      <th>eigen_vector_centrality</th>\n",
       "      <th>closeness_centrality</th>\n",
       "      <th>...</th>\n",
       "      <th>modularity</th>\n",
       "      <th>degree_assortativity</th>\n",
       "      <th>avg_neigbor_degree</th>\n",
       "      <th>transitivity</th>\n",
       "      <th>node_connectivity</th>\n",
       "      <th>edge_connectivity</th>\n",
       "      <th>coverage_communities</th>\n",
       "      <th>performance_communities</th>\n",
       "      <th>radius</th>\n",
       "      <th>Group</th>\n",
       "    </tr>\n",
       "  </thead>\n",
       "  <tbody>\n",
       "    <tr>\n",
       "      <th>0</th>\n",
       "      <td>S3173UOM2</td>\n",
       "      <td>0.346946</td>\n",
       "      <td>11415</td>\n",
       "      <td>0.044347</td>\n",
       "      <td>153</td>\n",
       "      <td>2</td>\n",
       "      <td>1</td>\n",
       "      <td>31</td>\n",
       "      <td>86</td>\n",
       "      <td>86</td>\n",
       "      <td>...</td>\n",
       "      <td>0.476847</td>\n",
       "      <td>0.386482</td>\n",
       "      <td>352</td>\n",
       "      <td>0.357829</td>\n",
       "      <td>2</td>\n",
       "      <td>2</td>\n",
       "      <td>0.609549</td>\n",
       "      <td>0.861012</td>\n",
       "      <td>4</td>\n",
       "      <td>BPP</td>\n",
       "    </tr>\n",
       "    <tr>\n",
       "      <th>1</th>\n",
       "      <td>S9403UJQ1</td>\n",
       "      <td>0.309741</td>\n",
       "      <td>14560</td>\n",
       "      <td>0.056565</td>\n",
       "      <td>113</td>\n",
       "      <td>7</td>\n",
       "      <td>1</td>\n",
       "      <td>36</td>\n",
       "      <td>3</td>\n",
       "      <td>36</td>\n",
       "      <td>...</td>\n",
       "      <td>0.509157</td>\n",
       "      <td>0.275904</td>\n",
       "      <td>422</td>\n",
       "      <td>0.325503</td>\n",
       "      <td>7</td>\n",
       "      <td>7</td>\n",
       "      <td>0.628915</td>\n",
       "      <td>0.822508</td>\n",
       "      <td>3</td>\n",
       "      <td>CON</td>\n",
       "    </tr>\n",
       "    <tr>\n",
       "      <th>2</th>\n",
       "      <td>S8923VMI1</td>\n",
       "      <td>0.427481</td>\n",
       "      <td>36347</td>\n",
       "      <td>0.141207</td>\n",
       "      <td>320</td>\n",
       "      <td>4</td>\n",
       "      <td>1</td>\n",
       "      <td>31</td>\n",
       "      <td>31</td>\n",
       "      <td>31</td>\n",
       "      <td>...</td>\n",
       "      <td>0.284900</td>\n",
       "      <td>0.314821</td>\n",
       "      <td>270</td>\n",
       "      <td>0.453286</td>\n",
       "      <td>4</td>\n",
       "      <td>4</td>\n",
       "      <td>0.496960</td>\n",
       "      <td>0.790643</td>\n",
       "      <td>3</td>\n",
       "      <td>CON</td>\n",
       "    </tr>\n",
       "    <tr>\n",
       "      <th>3</th>\n",
       "      <td>S1352DPR1</td>\n",
       "      <td>0.438013</td>\n",
       "      <td>30951</td>\n",
       "      <td>0.120243</td>\n",
       "      <td>245</td>\n",
       "      <td>8</td>\n",
       "      <td>1</td>\n",
       "      <td>68</td>\n",
       "      <td>109</td>\n",
       "      <td>68</td>\n",
       "      <td>...</td>\n",
       "      <td>0.366534</td>\n",
       "      <td>0.353521</td>\n",
       "      <td>523</td>\n",
       "      <td>0.455988</td>\n",
       "      <td>8</td>\n",
       "      <td>8</td>\n",
       "      <td>0.616361</td>\n",
       "      <td>0.764898</td>\n",
       "      <td>3</td>\n",
       "      <td>CON</td>\n",
       "    </tr>\n",
       "    <tr>\n",
       "      <th>4</th>\n",
       "      <td>S9888YRS2</td>\n",
       "      <td>0.392567</td>\n",
       "      <td>24715</td>\n",
       "      <td>0.096017</td>\n",
       "      <td>195</td>\n",
       "      <td>9</td>\n",
       "      <td>1</td>\n",
       "      <td>384</td>\n",
       "      <td>655</td>\n",
       "      <td>652</td>\n",
       "      <td>...</td>\n",
       "      <td>0.361417</td>\n",
       "      <td>0.452669</td>\n",
       "      <td>324</td>\n",
       "      <td>0.422352</td>\n",
       "      <td>9</td>\n",
       "      <td>9</td>\n",
       "      <td>0.601942</td>\n",
       "      <td>0.805096</td>\n",
       "      <td>3</td>\n",
       "      <td>BPP</td>\n",
       "    </tr>\n",
       "  </tbody>\n",
       "</table>\n",
       "<p>5 rows × 23 columns</p>\n",
       "</div>"
      ],
      "text/plain": [
       "  session_id  avg_clustering  num_of_edges  denstity  max_degree  min_degree  \\\n",
       "0  S3173UOM2        0.346946         11415  0.044347         153           2   \n",
       "1  S9403UJQ1        0.309741         14560  0.056565         113           7   \n",
       "2  S8923VMI1        0.427481         36347  0.141207         320           4   \n",
       "3  S1352DPR1        0.438013         30951  0.120243         245           8   \n",
       "4  S9888YRS2        0.392567         24715  0.096017         195           9   \n",
       "\n",
       "   num_connected_components  betweenness_centrality  eigen_vector_centrality  \\\n",
       "0                         1                      31                       86   \n",
       "1                         1                      36                        3   \n",
       "2                         1                      31                       31   \n",
       "3                         1                      68                      109   \n",
       "4                         1                     384                      655   \n",
       "\n",
       "   closeness_centrality  ...  modularity  degree_assortativity  \\\n",
       "0                    86  ...    0.476847              0.386482   \n",
       "1                    36  ...    0.509157              0.275904   \n",
       "2                    31  ...    0.284900              0.314821   \n",
       "3                    68  ...    0.366534              0.353521   \n",
       "4                   652  ...    0.361417              0.452669   \n",
       "\n",
       "   avg_neigbor_degree  transitivity  node_connectivity  edge_connectivity  \\\n",
       "0                 352      0.357829                  2                  2   \n",
       "1                 422      0.325503                  7                  7   \n",
       "2                 270      0.453286                  4                  4   \n",
       "3                 523      0.455988                  8                  8   \n",
       "4                 324      0.422352                  9                  9   \n",
       "\n",
       "   coverage_communities  performance_communities  radius  Group  \n",
       "0              0.609549                 0.861012       4    BPP  \n",
       "1              0.628915                 0.822508       3    CON  \n",
       "2              0.496960                 0.790643       3    CON  \n",
       "3              0.616361                 0.764898       3    CON  \n",
       "4              0.601942                 0.805096       3    BPP  \n",
       "\n",
       "[5 rows x 23 columns]"
      ]
     },
     "execution_count": 108,
     "metadata": {},
     "output_type": "execute_result"
    }
   ],
   "source": [
    "df_ml.head()"
   ]
  },
  {
   "cell_type": "code",
   "execution_count": 131,
   "id": "03974700-73a2-477d-8141-11ee5580826a",
   "metadata": {},
   "outputs": [
    {
     "data": {
      "text/html": [
       "<style>#sk-container-id-5 {color: black;}#sk-container-id-5 pre{padding: 0;}#sk-container-id-5 div.sk-toggleable {background-color: white;}#sk-container-id-5 label.sk-toggleable__label {cursor: pointer;display: block;width: 100%;margin-bottom: 0;padding: 0.3em;box-sizing: border-box;text-align: center;}#sk-container-id-5 label.sk-toggleable__label-arrow:before {content: \"▸\";float: left;margin-right: 0.25em;color: #696969;}#sk-container-id-5 label.sk-toggleable__label-arrow:hover:before {color: black;}#sk-container-id-5 div.sk-estimator:hover label.sk-toggleable__label-arrow:before {color: black;}#sk-container-id-5 div.sk-toggleable__content {max-height: 0;max-width: 0;overflow: hidden;text-align: left;background-color: #f0f8ff;}#sk-container-id-5 div.sk-toggleable__content pre {margin: 0.2em;color: black;border-radius: 0.25em;background-color: #f0f8ff;}#sk-container-id-5 input.sk-toggleable__control:checked~div.sk-toggleable__content {max-height: 200px;max-width: 100%;overflow: auto;}#sk-container-id-5 input.sk-toggleable__control:checked~label.sk-toggleable__label-arrow:before {content: \"▾\";}#sk-container-id-5 div.sk-estimator input.sk-toggleable__control:checked~label.sk-toggleable__label {background-color: #d4ebff;}#sk-container-id-5 div.sk-label input.sk-toggleable__control:checked~label.sk-toggleable__label {background-color: #d4ebff;}#sk-container-id-5 input.sk-hidden--visually {border: 0;clip: rect(1px 1px 1px 1px);clip: rect(1px, 1px, 1px, 1px);height: 1px;margin: -1px;overflow: hidden;padding: 0;position: absolute;width: 1px;}#sk-container-id-5 div.sk-estimator {font-family: monospace;background-color: #f0f8ff;border: 1px dotted black;border-radius: 0.25em;box-sizing: border-box;margin-bottom: 0.5em;}#sk-container-id-5 div.sk-estimator:hover {background-color: #d4ebff;}#sk-container-id-5 div.sk-parallel-item::after {content: \"\";width: 100%;border-bottom: 1px solid gray;flex-grow: 1;}#sk-container-id-5 div.sk-label:hover label.sk-toggleable__label {background-color: #d4ebff;}#sk-container-id-5 div.sk-serial::before {content: \"\";position: absolute;border-left: 1px solid gray;box-sizing: border-box;top: 0;bottom: 0;left: 50%;z-index: 0;}#sk-container-id-5 div.sk-serial {display: flex;flex-direction: column;align-items: center;background-color: white;padding-right: 0.2em;padding-left: 0.2em;position: relative;}#sk-container-id-5 div.sk-item {position: relative;z-index: 1;}#sk-container-id-5 div.sk-parallel {display: flex;align-items: stretch;justify-content: center;background-color: white;position: relative;}#sk-container-id-5 div.sk-item::before, #sk-container-id-5 div.sk-parallel-item::before {content: \"\";position: absolute;border-left: 1px solid gray;box-sizing: border-box;top: 0;bottom: 0;left: 50%;z-index: -1;}#sk-container-id-5 div.sk-parallel-item {display: flex;flex-direction: column;z-index: 1;position: relative;background-color: white;}#sk-container-id-5 div.sk-parallel-item:first-child::after {align-self: flex-end;width: 50%;}#sk-container-id-5 div.sk-parallel-item:last-child::after {align-self: flex-start;width: 50%;}#sk-container-id-5 div.sk-parallel-item:only-child::after {width: 0;}#sk-container-id-5 div.sk-dashed-wrapped {border: 1px dashed gray;margin: 0 0.4em 0.5em 0.4em;box-sizing: border-box;padding-bottom: 0.4em;background-color: white;}#sk-container-id-5 div.sk-label label {font-family: monospace;font-weight: bold;display: inline-block;line-height: 1.2em;}#sk-container-id-5 div.sk-label-container {text-align: center;}#sk-container-id-5 div.sk-container {/* jupyter's `normalize.less` sets `[hidden] { display: none; }` but bootstrap.min.css set `[hidden] { display: none !important; }` so we also need the `!important` here to be able to override the default hidden behavior on the sphinx rendered scikit-learn.org. See: https://github.com/scikit-learn/scikit-learn/issues/21755 */display: inline-block !important;position: relative;}#sk-container-id-5 div.sk-text-repr-fallback {display: none;}</style><div id=\"sk-container-id-5\" class=\"sk-top-container\"><div class=\"sk-text-repr-fallback\"><pre>XGBClassifier(base_score=None, booster=None, callbacks=None,\n",
       "              colsample_bylevel=None, colsample_bynode=None,\n",
       "              colsample_bytree=None, device=None, early_stopping_rounds=None,\n",
       "              enable_categorical=False, eval_metric=None, feature_types=None,\n",
       "              gamma=None, grow_policy=None, importance_type=None,\n",
       "              interaction_constraints=None, learning_rate=None, max_bin=None,\n",
       "              max_cat_threshold=None, max_cat_to_onehot=None,\n",
       "              max_delta_step=None, max_depth=3, max_leaves=None,\n",
       "              min_child_weight=None, missing=nan, monotone_constraints=None,\n",
       "              multi_strategy=None, n_estimators=5, n_jobs=None,\n",
       "              num_parallel_tree=None, objective=&#x27;multi:softmax&#x27;, ...)</pre><b>In a Jupyter environment, please rerun this cell to show the HTML representation or trust the notebook. <br />On GitHub, the HTML representation is unable to render, please try loading this page with nbviewer.org.</b></div><div class=\"sk-container\" hidden><div class=\"sk-item\"><div class=\"sk-estimator sk-toggleable\"><input class=\"sk-toggleable__control sk-hidden--visually\" id=\"sk-estimator-id-5\" type=\"checkbox\" checked><label for=\"sk-estimator-id-5\" class=\"sk-toggleable__label sk-toggleable__label-arrow\">XGBClassifier</label><div class=\"sk-toggleable__content\"><pre>XGBClassifier(base_score=None, booster=None, callbacks=None,\n",
       "              colsample_bylevel=None, colsample_bynode=None,\n",
       "              colsample_bytree=None, device=None, early_stopping_rounds=None,\n",
       "              enable_categorical=False, eval_metric=None, feature_types=None,\n",
       "              gamma=None, grow_policy=None, importance_type=None,\n",
       "              interaction_constraints=None, learning_rate=None, max_bin=None,\n",
       "              max_cat_threshold=None, max_cat_to_onehot=None,\n",
       "              max_delta_step=None, max_depth=3, max_leaves=None,\n",
       "              min_child_weight=None, missing=nan, monotone_constraints=None,\n",
       "              multi_strategy=None, n_estimators=5, n_jobs=None,\n",
       "              num_parallel_tree=None, objective=&#x27;multi:softmax&#x27;, ...)</pre></div></div></div></div></div>"
      ],
      "text/plain": [
       "XGBClassifier(base_score=None, booster=None, callbacks=None,\n",
       "              colsample_bylevel=None, colsample_bynode=None,\n",
       "              colsample_bytree=None, device=None, early_stopping_rounds=None,\n",
       "              enable_categorical=False, eval_metric=None, feature_types=None,\n",
       "              gamma=None, grow_policy=None, importance_type=None,\n",
       "              interaction_constraints=None, learning_rate=None, max_bin=None,\n",
       "              max_cat_threshold=None, max_cat_to_onehot=None,\n",
       "              max_delta_step=None, max_depth=3, max_leaves=None,\n",
       "              min_child_weight=None, missing=nan, monotone_constraints=None,\n",
       "              multi_strategy=None, n_estimators=5, n_jobs=None,\n",
       "              num_parallel_tree=None, objective='multi:softmax', ...)"
      ]
     },
     "execution_count": 131,
     "metadata": {},
     "output_type": "execute_result"
    }
   ],
   "source": [
    "X = df_ml.drop(['Group', 'session_id'], axis=1)\n",
    "y = df_ml['Group']\n",
    "\n",
    "le = LabelEncoder()\n",
    "encoded_y = le.fit_transform(y)\n",
    "\n",
    "X_train, X_test, y_train, y_test = train_test_split(X, encoded_y, test_size=0.2, random_state=42)\n",
    "\n",
    "model = xgb.XGBClassifier(objective='multi:softmax', max_depth = 3, reg_lambda = 5, n_estimators = 5, seed=11)\n",
    "model.fit(X_train, y_train)"
   ]
  },
  {
   "cell_type": "code",
   "execution_count": 132,
   "id": "393c92b8-c642-45a0-a95e-d11c3f2ad82f",
   "metadata": {},
   "outputs": [],
   "source": [
    "preds = model.predict(X_test)"
   ]
  },
  {
   "cell_type": "code",
   "execution_count": 133,
   "id": "2cf9ddf7-4ee4-4bff-ad8c-b33fb746d236",
   "metadata": {},
   "outputs": [],
   "source": [
    "pred_train = model.predict(X_train)"
   ]
  },
  {
   "cell_type": "code",
   "execution_count": 134,
   "id": "456f9785-9cb9-4df4-871c-9dd318f0709f",
   "metadata": {},
   "outputs": [
    {
     "name": "stdout",
     "output_type": "stream",
     "text": [
      "Train accuracy 0.5647058823529412\n"
     ]
    }
   ],
   "source": [
    "print('Train accuracy {}'.format(accuracy_score(y_train, pred_train)))"
   ]
  },
  {
   "cell_type": "code",
   "execution_count": 135,
   "id": "80e05940-08f1-486d-b64b-0fd96b3846ce",
   "metadata": {},
   "outputs": [
    {
     "name": "stdout",
     "output_type": "stream",
     "text": [
      "Test accuracy 0.359375\n"
     ]
    }
   ],
   "source": [
    "print('Test accuracy {}'.format(accuracy_score(y_test, preds)))"
   ]
  },
  {
   "cell_type": "code",
   "execution_count": 114,
   "id": "3236f138-3865-4c7a-9d6f-eb80bd232d34",
   "metadata": {},
   "outputs": [
    {
     "data": {
      "image/png": "[encoded data removed]",
      "text/plain": [
       "<Figure size 640x480 with 1 Axes>"
      ]
     },
     "metadata": {},
     "output_type": "display_data"
    }
   ],
   "source": [
    "feat_imp = pd.Series(model.feature_importances_, index=X_train.columns).sort_values(ascending = False)\n",
    "feat_imp[:10].plot(kind = 'barh')\n",
    "plt.title('Top 10 Important Feature')\n",
    "plt.show()"
   ]
  },
  {
   "cell_type": "code",
   "execution_count": 115,
   "id": "505c6d3b-d1b5-43eb-a43f-daa38ef46456",
   "metadata": {},
   "outputs": [
    {
     "data": {
      "image/png": "[encoded data removed]",
      "text/plain": [
       "<Figure size 640x480 with 2 Axes>"
      ]
     },
     "metadata": {},
     "output_type": "display_data"
    }
   ],
   "source": [
    "sns.heatmap(confusion_matrix(y_test, preds), annot = True, xticklabels = le.classes_, yticklabels = le.classes_);"
   ]
  },
  {
   "cell_type": "code",
   "execution_count": null,
   "id": "3e7a2e16",
   "metadata": {},
   "outputs": [],
   "source": [
    "df_stats.to_csv('df_stats_2sigma.csv', index = False)"
   ]
  }
 ],
 "metadata": {
  "kernelspec": {
   "display_name": "base",
   "language": "python",
   "name": "python3"
  },
  "language_info": {
   "codemirror_mode": {
    "name": "ipython",
    "version": 3
   },
   "file_extension": ".py",
   "mimetype": "text/x-python",
   "name": "python",
   "nbconvert_exporter": "python",
   "pygments_lexer": "ipython3",
   "version": "3.10.8"
  },
  "vscode": {
   "interpreter": {
    "hash": "c6e4e9f98eb68ad3b7c296f83d20e6de614cb42e90992a65aa266555a3137d0d"
   }
  }
 },
 "nbformat": 4,
 "nbformat_minor": 5
}

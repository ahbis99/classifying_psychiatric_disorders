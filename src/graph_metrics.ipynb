{
 "cells": [
  {
   "cell_type": "code",
   "execution_count": 1,
   "metadata": {},
   "outputs": [],
   "source": [
    "import nibabel as nib\n",
    "import numpy as np\n",
    "import networkx as nx\n",
    "import os\n",
    "import math\n",
    "import pandas as pd\n",
    "from tqdm.notebook import tqdm  # Import tqdm for notebooks\n",
    "import matplotlib.pyplot as plt\n",
    "import subprocess\n",
    "import pickle"
   ]
  },
  {
   "cell_type": "code",
   "execution_count": 8,
   "metadata": {},
   "outputs": [],
   "source": [
    "def create_threshold_graph(fc_matrix, std_multiplier=2):\n",
    "    \"\"\"\n",
    "    Create a graph from a functional connectivity matrix by adding edges where the \n",
    "    absolute connection strength is above a threshold defined as a multiple of the\n",
    "    standard deviation of the absolute values in the connectivity matrix.\n",
    "    \"\"\"\n",
    "    n = fc_matrix.shape[0]  # Number of nodes\n",
    "    G = nx.Graph()\n",
    "    \n",
    "    # Calculate the threshold as std_multiplier times the standard deviation of the absolute values\n",
    "    threshold = std_multiplier * np.std(np.abs(fc_matrix))\n",
    "    \n",
    "    # Add nodes\n",
    "    for i in range(n):\n",
    "        G.add_node(i)\n",
    "    \n",
    "    # Add edges based on the threshold\n",
    "    for i in range(n):\n",
    "        for j in range(n):\n",
    "            if i != j and np.abs(fc_matrix[i, j]) > threshold:  # Avoid self-loops and check threshold\n",
    "                G.add_edge(i, j, weight=fc_matrix[i, j])\n",
    "    \n",
    "    return G\n",
    "def load_fc_matrix(file_path):\n",
    "    \"\"\" Load functional connectivity matrix from a .pconn.nii file. \"\"\"\n",
    "    img = nib.load(file_path)\n",
    "    fc_matrix = img.get_fdata()\n",
    "    return fc_matrix"
   ]
  },
  {
   "cell_type": "code",
   "execution_count": 9,
   "metadata": {},
   "outputs": [
    {
     "data": {
      "application/vnd.jupyter.widget-view+json": {
       "model_id": "cf4a2759149d451f9cfca666ce9c3372",
       "version_major": 2,
       "version_minor": 0
      },
      "text/plain": [
       "Processing .pconn.nii files:   0%|          | 0/638 [00:00<?, ?it/s]"
      ]
     },
     "metadata": {},
     "output_type": "display_data"
    }
   ],
   "source": [
    "# Directory containing the pconn files\n",
    "directory = \"/home/tico/Desktop/master_classes/project/BSNIP/pconn\"\n",
    "pconn_files = [f for f in os.listdir(directory) if f.endswith('.pconn.nii')]\n",
    "std = 2\n",
    "behavior_path = '/home/tico/Desktop/master_classes/project/behavior/'\n",
    "behavior_files = os.listdir(behavior_path)\n",
    "\n",
    "# Load behavior data\n",
    "behavior_source = pd.read_csv(os.path.join(behavior_path, behavior_files[0]), sep='\\t')\n",
    "for behavior_file in behavior_files[1:]:\n",
    "    curr_behavior_source = pd.read_csv(os.path.join(behavior_path, behavior_file), sep='\\t')\n",
    "    behavior_source = pd.concat([behavior_source, curr_behavior_source], axis=0)\n",
    "behavior_source = behavior_source[[\"session_id\", \"Group\"]]\n",
    "\n",
    "# Prepare a list to store the results\n",
    "results = []\n",
    "\n",
    "for file_name in tqdm(pconn_files, desc=\"Processing .pconn.nii files\"):\n",
    "    fc_file_path = os.path.join(directory, file_name)\n",
    "    session_id = file_name[:-len('.pconn.nii')]\n",
    "    label = behavior_source.loc[behavior_source['session_id'] == session_id, 'Group'].values[0]\n",
    "    fc_matrix = load_fc_matrix(fc_file_path)\n",
    "    #graph = create_knn_graph(fc_matrix, k=5)\n",
    "    graph = create_threshold_graph(fc_matrix, std_multiplier=std)\n",
    "    degrees = [deg for _, deg in graph.degree()]\n",
    "    n = graph.number_of_nodes()\n",
    "    m = graph.number_of_edges()\n",
    "    if n > 1:  # To avoid division by zero in calculations\n",
    "        average_degree = sum(degrees) / n\n",
    "        theoretical_avg_c = average_degree / (n - 1)\n",
    "        theoretical_avg_d = math.log(n) / math.log(average_degree) if average_degree > 1 else 0\n",
    "\n",
    "        # Calculate clustering and path length on the largest connected component\n",
    "        largest_cc = max(nx.connected_components(graph), key=len)\n",
    "        subgraph = graph.subgraph(largest_cc)\n",
    "        size_of_largest_cc = len(largest_cc)\n",
    "        avg_clustering = nx.average_clustering(graph)\n",
    "        avg_path_length = nx.average_shortest_path_length(subgraph) if len(largest_cc) > 1 else 0\n",
    "\n",
    "        row = [\n",
    "            file_name,label, n,m, average_degree, theoretical_avg_c, avg_clustering,\n",
    "            theoretical_avg_d, avg_path_length, math.log(n), math.log(math.log(n)),\n",
    "            size_of_largest_cc\n",
    "        ]\n",
    "    else:\n",
    "        row = [file_name,label, n,m, 0, 0, 0, 0, 0, 0, 0, 0]\n",
    "\n",
    "    results.append(row)\n",
    "# Create a DataFrame\n",
    "df = pd.DataFrame(results, columns=[\n",
    "    'File Name','label', 'Number of Nodes','Number of Edges', 'Average Degree', 'Theoretical Avg Clustering',\n",
    "    'Average Clustering', 'Theoretical Avg Path Length', 'Average Path Length',\n",
    "    'Log of Nodes', 'Log Log of Nodes', 'Size of Largest CC'\n",
    "])\n",
    "\n",
    "# Save to CSV\n",
    "df.to_csv('graph_statistics.csv', index=False)\n",
    "print(\"Data saved to 'graph_statistics.csv'.\")"
   ]
  }
 ],
 "metadata": {
  "kernelspec": {
   "display_name": "ds_project_env",
   "language": "python",
   "name": "python3"
  },
  "language_info": {
   "codemirror_mode": {
    "name": "ipython",
    "version": 3
   },
   "file_extension": ".py",
   "mimetype": "text/x-python",
   "name": "python",
   "nbconvert_exporter": "python",
   "pygments_lexer": "ipython3",
   "version": "3.10.14"
  }
 },
 "nbformat": 4,
 "nbformat_minor": 2
}
